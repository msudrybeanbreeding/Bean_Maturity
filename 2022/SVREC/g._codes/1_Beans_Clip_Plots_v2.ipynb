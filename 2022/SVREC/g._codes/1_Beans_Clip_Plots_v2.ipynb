{
  "cells": [
    {
      "cell_type": "code",
      "execution_count": 1,
      "metadata": {
        "colab": {
          "base_uri": "https://localhost:8080/"
        },
        "id": "8Wx9Zbjiv0GD",
        "outputId": "5525c8d3-8d4a-4e49-8ba0-4eefea4e0a9e"
      },
      "outputs": [],
      "source": [
        "# %pip install rasterio\n",
        "# %pip install geopandas\n",
        "# %pip install fiona\n",
        "# %pip install earthpy\n",
        "\n",
        "\n",
        "import numpy as np\n",
        "import numpy.ma as ma\n",
        "#from matplotlib import pyplot as plt\n",
        "import rasterio\n",
        "import geopandas as gpd\n",
        "#import rasterstats as rs\n",
        "#from IPython.display import display\n",
        "import pandas as pd\n",
        "import os\n",
        "import fiona\n",
        "import rasterio.mask\n",
        "#import matplotlib.pyplot as plt\n",
        "import warnings\n",
        "import rasterio\n",
        "import rasterio.features\n",
        "warnings.filterwarnings('ignore') #don't display warnings\n",
        "from rasterio.mask import mask\n",
        "#import earthpy.plot as ep\n",
        "import cv2\n",
        "import datetime\n",
        "from tqdm.auto import tqdm"
      ]
    },
    {
      "cell_type": "code",
      "execution_count": 2,
      "metadata": {
        "colab": {
          "base_uri": "https://localhost:8080/"
        },
        "id": "LXk-g-S2x0Pl",
        "outputId": "e4c2e12a-de24-4216-eb1a-6cedb8e8d077"
      },
      "outputs": [],
      "source": [
        "# from google.colab import drive\n",
        "# drive.mount('/content/drive')"
      ]
    },
    {
      "cell_type": "code",
      "execution_count": 3,
      "metadata": {
        "colab": {
          "base_uri": "https://localhost:8080/"
        },
        "id": "vb_GWym5v5m6",
        "outputId": "60344797-585d-4116-be6b-8394af3b2aff"
      },
      "outputs": [
        {
          "name": "stdout",
          "output_type": "stream",
          "text": [
            "['fid_1', 'PlotID', 'Global_ID', 'Plot', 'ENTRY', 'REP', 'Rng', 'Pas', 'Name', 'Identity1', 'Pedigree', 'Experiment', 'Origin', 'Selection', 'Descriptio', 'Year', 'Location', 'Planter', 'Harvester', 'IBLK', 'geometry']\n"
          ]
        }
      ],
      "source": [
        "root_file = 'C:\\\\Users\\\\leoag\\\\Michigan State University\\\\MSU Dry Bean Breeding Lab - General\\\\UAS_Beans\\\\2022\\\\SVREC_Mat'\n",
        "shp_file = \"2022_SVREC_Shp_Plots_final01.shp\"\n",
        "img_dir= f\"{root_file}/\"'b._Orthomosaics'\n",
        "shp_dir = f\"{root_file}/\"'c._Shapefiles'\n",
        "plot_dir = f\"{root_file}/\"'e._ClipPlots_BN_512_128'\n",
        "ground_dir = f\"{root_file}/\"'d._Ground_notes'\n",
        "\n",
        "#os.chdir('/content/drive/MyDrive/temp_roi')\n",
        "\n",
        "#plots_img = '/plots_img'\n",
        "\n",
        "# try:\n",
        "#     os.mkdir(plot_dir)\n",
        "# except:\n",
        "#   pass\n",
        "# os.chdir(img_dir)\n",
        "# # Print the current working directory\n",
        "# print(\"Current working directory: {0}\".format(os.getcwd()))\n",
        "#DIR_TEST = f'{DIR_INPUT}/test'\n",
        "plots = gpd.read_file(f'{shp_dir}' f'/{shp_file}')\n",
        "\n",
        "plots_names=list(plots.columns.values)\n",
        "print(plots_names)"
      ]
    },
    {
      "cell_type": "code",
      "execution_count": 4,
      "metadata": {
        "colab": {
          "base_uri": "https://localhost:8080/"
        },
        "id": "OEAH1u34yQht",
        "outputId": "502edd06-20fc-490b-c026-e2f3bccb09d6"
      },
      "outputs": [
        {
          "name": "stdout",
          "output_type": "stream",
          "text": [
            "{'type': 'Feature', 'id': '0', 'properties': OrderedDict([('fid_1', 1.0), ('PlotID', '34'), ('Global_ID', '2216_1036'), ('Plot', '1036'), ('ENTRY', '36'), ('REP', '1'), ('Rng', '12'), ('Pas', '125'), ('Name', 'R20627'), ('Identity1', None), ('Pedigree', 'R17605/R16503'), ('Experiment', '2216'), ('Origin', '18R623-03-02'), ('Selection', '19-20T1497'), ('Descriptio', '18A0623-18L611-18-19T1968-19T1719-19-20T1497'), ('Year', '2022'), ('Location', 'SVREC'), ('Planter', '1624'), ('Harvester', '2276'), ('IBLK', None)]), 'geometry': {'type': 'Polygon', 'coordinates': [[(281577.12208533555, 4808367.105865113), (281577.13648992963, 4808367.905735421), (281581.1358414635, 4808367.83371245), (281581.12143686943, 4808367.033842144), (281577.12208533555, 4808367.105865113)]]}}\n"
          ]
        }
      ],
      "source": [
        "shp_file_info=fiona.open(f'{shp_dir}/'f'{shp_file}', \"r\") \n",
        "#first feature of the shapefile\n",
        "shp_file_inf = shp_file_info.next()\n",
        "print(shp_file_inf)"
      ]
    },
    {
      "cell_type": "code",
      "execution_count": 5,
      "metadata": {
        "colab": {
          "base_uri": "https://localhost:8080/"
        },
        "id": "9ZDNNXklyQeV",
        "outputId": "610f833a-b407-4993-913a-dbb55fac64f6"
      },
      "outputs": [
        {
          "name": "stdout",
          "output_type": "stream",
          "text": [
            "['07_20_2022_SVREC_RGB.tif', '08_18_2022_SVREC_RGB.tif', '08_20_2022_SVREC_RGB.tif', '08_23_2022_SVREC_RGB.tif', '08_26_2022_SVREC_RGB.tif', '08_30_2022_SVREC_RGB.tif', '09_02_2022_SVREC_RGB.tif', '09_05_2022_SVREC_RGB.tif', '09_08_2022_SVREC_RGB.tif', '09_13_2022_SVREC_RGB.tif', '09_16_2022_SVREC_RGB.tif']\n"
          ]
        }
      ],
      "source": [
        "img_list = os.listdir(img_dir)\n",
        "img_list = [v for v in img_list if v.endswith('.tif')]\n",
        "print(img_list)"
      ]
    },
    {
      "cell_type": "code",
      "execution_count": 6,
      "metadata": {
        "colab": {
          "base_uri": "https://localhost:8080/"
        },
        "id": "2FsbZzgayQbp",
        "outputId": "6371493c-77b2-436d-82c8-2cc18bb25566"
      },
      "outputs": [
        {
          "name": "stdout",
          "output_type": "stream",
          "text": [
            "0\n",
            "1\n",
            "2\n",
            "3\n",
            "4\n",
            "5\n",
            "6\n",
            "7\n",
            "8\n",
            "9\n",
            "10\n",
            "['07_20_2022_SVREC_RGB.tif', '08_18_2022_SVREC_RGB.tif', '08_20_2022_SVREC_RGB.tif', '08_23_2022_SVREC_RGB.tif', '08_26_2022_SVREC_RGB.tif', '08_30_2022_SVREC_RGB.tif', '09_02_2022_SVREC_RGB.tif', '09_05_2022_SVREC_RGB.tif', '09_08_2022_SVREC_RGB.tif', '09_13_2022_SVREC_RGB.tif', '09_16_2022_SVREC_RGB.tif']\n"
          ]
        }
      ],
      "source": [
        "# Create an empty list to store the img names\n",
        "img_list_names = []\n",
        "\n",
        "for l in range(len(img_list)):\n",
        "    print(l)\n",
        "    img_list_names.append(str(img_list[l]))\n",
        "\n",
        "print(img_list_names)"
      ]
    },
    {
      "cell_type": "code",
      "execution_count": 7,
      "metadata": {
        "id": "pi6IHxPCyQY1"
      },
      "outputs": [],
      "source": [
        "plot_num_field_name = \"Global_ID\"\n",
        "trial_name = \"SVREC\"\n",
        "planting_date = '06.01.2021'\n",
        "\n",
        "width = 512 #256\n",
        "height = 128 #64"
      ]
    },
    {
      "cell_type": "code",
      "execution_count": 8,
      "metadata": {
        "colab": {
          "base_uri": "https://localhost:8080/"
        },
        "id": "34t7hfCwqHN5",
        "outputId": "05599bc2-a2fe-4c1f-cde1-193b667939f4"
      },
      "outputs": [
        {
          "name": "stdout",
          "output_type": "stream",
          "text": [
            "['049', '078', '080', '083', '086', '090', '093', '096', '099', '104', '107']\n"
          ]
        }
      ],
      "source": [
        "# Create an empty list to store DOY from the image names\n",
        "img_DOY_list = []\n",
        "\n",
        "for l in range(len(img_list)):\n",
        "    img_DOY = str(img_list[l]) \n",
        "    ts = img_DOY[0:10]\n",
        "    ts = ts.replace('_', '.')\n",
        "    fmt = '%m.%d.%Y'\n",
        "\n",
        "    dt = datetime.datetime.strptime(ts, fmt)\n",
        "    tt = dt.timetuple()\n",
        "    tt = tt.tm_yday\n",
        "\n",
        "    pl = planting_date\n",
        "    dt2 = datetime.datetime.strptime(pl, fmt)\n",
        "    tt2 = dt2.timetuple()\n",
        "    tt2 = tt2.tm_yday\n",
        "\n",
        "    tt_f = str(tt-tt2).zfill(3)\n",
        "\n",
        "    img_DOY_list.append(tt_f)\n",
        "\n",
        "print(img_DOY_list)"
      ]
    },
    {
      "cell_type": "code",
      "execution_count": 9,
      "metadata": {},
      "outputs": [
        {
          "data": {
            "text/plain": [
              "['22011001',\n",
              " '22011002',\n",
              " '22011003',\n",
              " '22011004',\n",
              " '22011005',\n",
              " '22011006',\n",
              " '22011007',\n",
              " '22011008',\n",
              " '22011009',\n",
              " '22011010',\n",
              " '22011011',\n",
              " '22011012',\n",
              " '22011013',\n",
              " '22011014',\n",
              " '22011015',\n",
              " '22011016',\n",
              " '22011017',\n",
              " '22011018',\n",
              " '22011019',\n",
              " '22011020',\n",
              " '22011021',\n",
              " '22011022',\n",
              " '22011023',\n",
              " '22011024',\n",
              " '22011025',\n",
              " '22011026',\n",
              " '22011027',\n",
              " '22011028',\n",
              " '22011029',\n",
              " '22011030',\n",
              " '22011031',\n",
              " '22011032',\n",
              " '22011033',\n",
              " '22011034',\n",
              " '22011035',\n",
              " '22011036',\n",
              " '22012001',\n",
              " '22012002',\n",
              " '22012003',\n",
              " '22012004',\n",
              " '22012005',\n",
              " '22012006',\n",
              " '22012007',\n",
              " '22012008',\n",
              " '22012009',\n",
              " '22012010',\n",
              " '22012011',\n",
              " '22012012',\n",
              " '22012013',\n",
              " '22012014',\n",
              " '22012015',\n",
              " '22012016',\n",
              " '22012017',\n",
              " '22012018',\n",
              " '22012019',\n",
              " '22012020',\n",
              " '22012021',\n",
              " '22012022',\n",
              " '22012023',\n",
              " '22012024',\n",
              " '22012025',\n",
              " '22012026',\n",
              " '22012027',\n",
              " '22012028',\n",
              " '22012029',\n",
              " '22012030',\n",
              " '22012031',\n",
              " '22012032',\n",
              " '22012033',\n",
              " '22012034',\n",
              " '22012035',\n",
              " '22012036',\n",
              " '22013001',\n",
              " '22013002',\n",
              " '22013003',\n",
              " '22013004',\n",
              " '22013005',\n",
              " '22013006',\n",
              " '22013007',\n",
              " '22013008',\n",
              " '22013009',\n",
              " '22013010',\n",
              " '22013011',\n",
              " '22013012',\n",
              " '22013013',\n",
              " '22013014',\n",
              " '22013015',\n",
              " '22013016',\n",
              " '22013017',\n",
              " '22013018',\n",
              " '22013019',\n",
              " '22013020',\n",
              " '22013021',\n",
              " '22013022',\n",
              " '22013023',\n",
              " '22013024',\n",
              " '22013025',\n",
              " '22013026',\n",
              " '22013027',\n",
              " '22013028',\n",
              " '22013029',\n",
              " '22013030',\n",
              " '22013031',\n",
              " '22013032',\n",
              " '22013033',\n",
              " '22013034',\n",
              " '22013035',\n",
              " '22013036',\n",
              " '22014001',\n",
              " '22014002',\n",
              " '22014003',\n",
              " '22014004',\n",
              " '22014005',\n",
              " '22014006',\n",
              " '22014007',\n",
              " '22014008',\n",
              " '22014009',\n",
              " '22014010',\n",
              " '22014011',\n",
              " '22014012',\n",
              " '22014013',\n",
              " '22014014',\n",
              " '22014015',\n",
              " '22014016',\n",
              " '22014017',\n",
              " '22014018',\n",
              " '22014019',\n",
              " '22014020',\n",
              " '22014021',\n",
              " '22014022',\n",
              " '22014023',\n",
              " '22014024',\n",
              " '22014025',\n",
              " '22014026',\n",
              " '22014027',\n",
              " '22014028',\n",
              " '22014029',\n",
              " '22014030',\n",
              " '22014031',\n",
              " '22014032',\n",
              " '22014033',\n",
              " '22014034',\n",
              " '22014035',\n",
              " '22014036',\n",
              " '22021001',\n",
              " '22021002',\n",
              " '22021003',\n",
              " '22021004',\n",
              " '22021005',\n",
              " '22021006',\n",
              " '22021007',\n",
              " '22021008',\n",
              " '22021009',\n",
              " '22021010',\n",
              " '22021011',\n",
              " '22021012',\n",
              " '22021013',\n",
              " '22021014',\n",
              " '22021015',\n",
              " '22021016',\n",
              " '22021017',\n",
              " '22021018',\n",
              " '22021019',\n",
              " '22021020',\n",
              " '22021021',\n",
              " '22021022',\n",
              " '22021023',\n",
              " '22021024',\n",
              " '22021025',\n",
              " '22021026',\n",
              " '22021027',\n",
              " '22021028',\n",
              " '22021029',\n",
              " '22021030',\n",
              " '22022001',\n",
              " '22022002',\n",
              " '22022003',\n",
              " '22022004',\n",
              " '22022005',\n",
              " '22022006',\n",
              " '22022007',\n",
              " '22022008',\n",
              " '22022009',\n",
              " '22022010',\n",
              " '22022011',\n",
              " '22022012',\n",
              " '22022013',\n",
              " '22022014',\n",
              " '22022015',\n",
              " '22022016',\n",
              " '22022017',\n",
              " '22022018',\n",
              " '22022019',\n",
              " '22022020',\n",
              " '22022021',\n",
              " '22022022',\n",
              " '22022023',\n",
              " '22022024',\n",
              " '22022025',\n",
              " '22022026',\n",
              " '22022027',\n",
              " '22022028',\n",
              " '22022029',\n",
              " '22022030',\n",
              " '22023001',\n",
              " '22023002',\n",
              " '22023003',\n",
              " '22023004',\n",
              " '22023005',\n",
              " '22023006',\n",
              " '22023007',\n",
              " '22023008',\n",
              " '22023009',\n",
              " '22023010',\n",
              " '22023011',\n",
              " '22023012',\n",
              " '22023013',\n",
              " '22023014',\n",
              " '22023015',\n",
              " '22023016',\n",
              " '22023017',\n",
              " '22023018',\n",
              " '22023019',\n",
              " '22023020',\n",
              " '22023021',\n",
              " '22023022',\n",
              " '22023023',\n",
              " '22023024',\n",
              " '22023025',\n",
              " '22023026',\n",
              " '22023027',\n",
              " '22023028',\n",
              " '22023029',\n",
              " '22023030',\n",
              " '22024001',\n",
              " '22024002',\n",
              " '22024003',\n",
              " '22024004',\n",
              " '22024005',\n",
              " '22024006',\n",
              " '22024007',\n",
              " '22024008',\n",
              " '22024009',\n",
              " '22024010',\n",
              " '22024011',\n",
              " '22024012',\n",
              " '22024013',\n",
              " '22024014',\n",
              " '22024015',\n",
              " '22024016',\n",
              " '22024017',\n",
              " '22024018',\n",
              " '22024019',\n",
              " '22024020',\n",
              " '22024021',\n",
              " '22024022',\n",
              " '22024023',\n",
              " '22024024',\n",
              " '22024025',\n",
              " '22024026',\n",
              " '22024027',\n",
              " '22024028',\n",
              " '22024029',\n",
              " '22024030',\n",
              " '22051001',\n",
              " '22051002',\n",
              " '22051003',\n",
              " '22051004',\n",
              " '22051005',\n",
              " '22051006',\n",
              " '22051007',\n",
              " '22051008',\n",
              " '22051009',\n",
              " '22051010',\n",
              " '22051011',\n",
              " '22051012',\n",
              " '22051013',\n",
              " '22051014',\n",
              " '22051015',\n",
              " '22051016',\n",
              " '22051017',\n",
              " '22051018',\n",
              " '22051019',\n",
              " '22051020',\n",
              " '22051021',\n",
              " '22051022',\n",
              " '22051023',\n",
              " '22051024',\n",
              " '22051025',\n",
              " '22051026',\n",
              " '22051027',\n",
              " '22051028',\n",
              " '22051029',\n",
              " '22051030',\n",
              " '22051031',\n",
              " '22051032',\n",
              " '22051033',\n",
              " '22051034',\n",
              " '22051035',\n",
              " '22051036',\n",
              " '22051037',\n",
              " '22051038',\n",
              " '22051039',\n",
              " '22051040',\n",
              " '22052001',\n",
              " '22052002',\n",
              " '22052003',\n",
              " '22052004',\n",
              " '22052005',\n",
              " '22052006',\n",
              " '22052007',\n",
              " '22052008',\n",
              " '22052009',\n",
              " '22052010',\n",
              " '22052011',\n",
              " '22052012',\n",
              " '22052013',\n",
              " '22052014',\n",
              " '22052015',\n",
              " '22052016',\n",
              " '22052017',\n",
              " '22052018',\n",
              " '22052019',\n",
              " '22052020',\n",
              " '22052021',\n",
              " '22052022',\n",
              " '22052023',\n",
              " '22052024',\n",
              " '22052025',\n",
              " '22052026',\n",
              " '22052027',\n",
              " '22052028',\n",
              " '22052029',\n",
              " '22052030',\n",
              " '22052031',\n",
              " '22052032',\n",
              " '22052033',\n",
              " '22052034',\n",
              " '22052035',\n",
              " '22052036',\n",
              " '22052037',\n",
              " '22052038',\n",
              " '22052039',\n",
              " '22052040',\n",
              " '22053001',\n",
              " '22053002',\n",
              " '22053003',\n",
              " '22053004',\n",
              " '22053005',\n",
              " '22053006',\n",
              " '22053007',\n",
              " '22053008',\n",
              " '22053009',\n",
              " '22053010',\n",
              " '22053011',\n",
              " '22053012',\n",
              " '22053013',\n",
              " '22053014',\n",
              " '22053015',\n",
              " '22053016',\n",
              " '22053017',\n",
              " '22053018',\n",
              " '22053019',\n",
              " '22053020',\n",
              " '22053021',\n",
              " '22053022',\n",
              " '22053023',\n",
              " '22053024',\n",
              " '22053025',\n",
              " '22053026',\n",
              " '22053027',\n",
              " '22053028',\n",
              " '22053029',\n",
              " '22053030',\n",
              " '22053031',\n",
              " '22053032',\n",
              " '22053033',\n",
              " '22053034',\n",
              " '22053035',\n",
              " '22053036',\n",
              " '22053037',\n",
              " '22053038',\n",
              " '22053039',\n",
              " '22053040',\n",
              " '22061001',\n",
              " '22061002',\n",
              " '22061003',\n",
              " '22061004',\n",
              " '22061005',\n",
              " '22061006',\n",
              " '22061007',\n",
              " '22061008',\n",
              " '22061009',\n",
              " '22061010',\n",
              " '22061011',\n",
              " '22061012',\n",
              " '22061013',\n",
              " '22061014',\n",
              " '22061015',\n",
              " '22061016',\n",
              " '22061017',\n",
              " '22061018',\n",
              " '22061019',\n",
              " '22061020',\n",
              " '22061021',\n",
              " '22061022',\n",
              " '22061023',\n",
              " '22061024',\n",
              " '22061025',\n",
              " '22061026',\n",
              " '22061027',\n",
              " '22061028',\n",
              " '22061029',\n",
              " '22061030',\n",
              " '22061031',\n",
              " '22061032',\n",
              " '22061033',\n",
              " '22061034',\n",
              " '22061035',\n",
              " '22061036',\n",
              " '22061037',\n",
              " '22061038',\n",
              " '22061039',\n",
              " '22061040',\n",
              " '22061041',\n",
              " '22061042',\n",
              " '22061043',\n",
              " '22061044',\n",
              " '22061045',\n",
              " '22061046',\n",
              " '22061047',\n",
              " '22061048',\n",
              " '22061049',\n",
              " '22061050',\n",
              " '22061051',\n",
              " '22061052',\n",
              " '22061053',\n",
              " '22061054',\n",
              " '22061055',\n",
              " '22061056',\n",
              " '22061057',\n",
              " '22061058',\n",
              " '22061059',\n",
              " '22061060',\n",
              " '22061061',\n",
              " '22061062',\n",
              " '22061063',\n",
              " '22061064',\n",
              " '22061065',\n",
              " '22061066',\n",
              " '22061067',\n",
              " '22061068',\n",
              " '22061069',\n",
              " '22061070',\n",
              " '22061071',\n",
              " '22061072',\n",
              " '22061073',\n",
              " '22061074',\n",
              " '22061075',\n",
              " '22061076',\n",
              " '22061077',\n",
              " '22061078',\n",
              " '22061079',\n",
              " '22061080',\n",
              " '22061081',\n",
              " '22061082',\n",
              " '22061083',\n",
              " '22061084',\n",
              " '22062001',\n",
              " '22062002',\n",
              " '22062003',\n",
              " '22062004',\n",
              " '22062005',\n",
              " '22062006',\n",
              " '22062007',\n",
              " '22062008',\n",
              " '22062009',\n",
              " '22062010',\n",
              " '22062011',\n",
              " '22062012',\n",
              " '22062013',\n",
              " '22062014',\n",
              " '22062015',\n",
              " '22062016',\n",
              " '22062017',\n",
              " '22062018',\n",
              " '22062019',\n",
              " '22062020',\n",
              " '22062021',\n",
              " '22062022',\n",
              " '22062023',\n",
              " '22062024',\n",
              " '22062025',\n",
              " '22062026',\n",
              " '22062027',\n",
              " '22062028',\n",
              " '22062029',\n",
              " '22062030',\n",
              " '22062031',\n",
              " '22062032',\n",
              " '22062033',\n",
              " '22062034',\n",
              " '22062035',\n",
              " '22062036',\n",
              " '22062037',\n",
              " '22062038',\n",
              " '22062039',\n",
              " '22062040',\n",
              " '22062041',\n",
              " '22062042',\n",
              " '22062043',\n",
              " '22062044',\n",
              " '22062045',\n",
              " '22062046',\n",
              " '22062047',\n",
              " '22062048',\n",
              " '22062049',\n",
              " '22062050',\n",
              " '22062051',\n",
              " '22062052',\n",
              " '22062053',\n",
              " '22062054',\n",
              " '22062055',\n",
              " '22062056',\n",
              " '22062057',\n",
              " '22062058',\n",
              " '22062059',\n",
              " '22062060',\n",
              " '22062061',\n",
              " '22062062',\n",
              " '22062063',\n",
              " '22062064',\n",
              " '22062065',\n",
              " '22062066',\n",
              " '22062067',\n",
              " '22062068',\n",
              " '22062069',\n",
              " '22062070',\n",
              " '22062071',\n",
              " '22062072',\n",
              " '22062073',\n",
              " '22062074',\n",
              " '22062075',\n",
              " '22062076',\n",
              " '22062077',\n",
              " '22062078',\n",
              " '22062079',\n",
              " '22062080',\n",
              " '22062081',\n",
              " '22062082',\n",
              " '22062083',\n",
              " '22062084',\n",
              " '22063001',\n",
              " '22063002',\n",
              " '22063003',\n",
              " '22063004',\n",
              " '22063005',\n",
              " '22063006',\n",
              " '22063007',\n",
              " '22063008',\n",
              " '22063009',\n",
              " '22063010',\n",
              " '22063011',\n",
              " '22063012',\n",
              " '22063013',\n",
              " '22063014',\n",
              " '22063015',\n",
              " '22063016',\n",
              " '22063017',\n",
              " '22063018',\n",
              " '22063019',\n",
              " '22063020',\n",
              " '22063021',\n",
              " '22063022',\n",
              " '22063023',\n",
              " '22063024',\n",
              " '22063025',\n",
              " '22063026',\n",
              " '22063027',\n",
              " '22063028',\n",
              " '22063029',\n",
              " '22063030',\n",
              " '22063031',\n",
              " '22063032',\n",
              " '22063033',\n",
              " '22063034',\n",
              " '22063035',\n",
              " '22063036',\n",
              " '22063037',\n",
              " '22063038',\n",
              " '22063039',\n",
              " '22063040',\n",
              " '22063041',\n",
              " '22063042',\n",
              " '22063043',\n",
              " '22063044',\n",
              " '22063045',\n",
              " '22063046',\n",
              " '22063047',\n",
              " '22063048',\n",
              " '22063049',\n",
              " '22063050',\n",
              " '22063051',\n",
              " '22063052',\n",
              " '22063053',\n",
              " '22063054',\n",
              " '22063055',\n",
              " '22063056',\n",
              " '22063057',\n",
              " '22063058',\n",
              " '22063059',\n",
              " '22063060',\n",
              " '22063061',\n",
              " '22063062',\n",
              " '22063063',\n",
              " '22063064',\n",
              " '22063065',\n",
              " '22063066',\n",
              " '22063067',\n",
              " '22063068',\n",
              " '22063069',\n",
              " '22063070',\n",
              " '22063071',\n",
              " '22063072',\n",
              " '22063073',\n",
              " '22063074',\n",
              " '22063075',\n",
              " '22063076',\n",
              " '22063077',\n",
              " '22063078',\n",
              " '22063079',\n",
              " '22063080',\n",
              " '22063081',\n",
              " '22063082',\n",
              " '22063083',\n",
              " '22063084']"
            ]
          },
          "execution_count": 9,
          "metadata": {},
          "output_type": "execute_result"
        }
      ],
      "source": [
        "ground_df = pd.read_csv(f\"{ground_dir}/\"'22_SVREC_BN_ground.csv', usecols=(0,1)).astype(str)\n",
        "#ground_df= ground_df.astype(str)\n",
        "ground_list = []\n",
        "\n",
        "for value in ground_df[\"Global_ID\"]:\n",
        "    ground_list.append(value)\n",
        "\n",
        "ground_list"
      ]
    },
    {
      "cell_type": "code",
      "execution_count": 10,
      "metadata": {},
      "outputs": [
        {
          "name": "stdout",
          "output_type": "stream",
          "text": [
            "Data set do not merge with ground and aerial plot numbers\n",
            "636\n",
            "1812\n"
          ]
        }
      ],
      "source": [
        "if len(ground_list) == len(plots):\n",
        "    print('Data set has the same lenght to ground and aerial plot numbers')\n",
        "    print(len(ground_list))\n",
        "    print(len(plots))\n",
        "\n",
        "else:\n",
        "    print('Data set do not merge with ground and aerial plot numbers')\n",
        "    print(len(ground_list))\n",
        "    print(len(plots))\n",
        "    \n",
        "\n",
        "# len(ground_list)\n",
        "# len(plots)"
      ]
    },
    {
      "cell_type": "code",
      "execution_count": 11,
      "metadata": {
        "id": "dVvANbvLyQVO"
      },
      "outputs": [
        {
          "data": {
            "application/vnd.jupyter.widget-view+json": {
              "model_id": "ee44338cd1ac456d9f8aa24b619fcd01",
              "version_major": 2,
              "version_minor": 0
            },
            "text/plain": [
              "  0%|          | 0/11 [00:00<?, ?it/s]"
            ]
          },
          "metadata": {},
          "output_type": "display_data"
        },
        {
          "name": "stdout",
          "output_type": "stream",
          "text": [
            "07_20_2022_SVREC_RGB.tif\n"
          ]
        },
        {
          "data": {
            "application/vnd.jupyter.widget-view+json": {
              "model_id": "812feae0cb0142739306f9bfce54a1f7",
              "version_major": 2,
              "version_minor": 0
            },
            "text/plain": [
              "  0%|          | 0/1812 [00:00<?, ?it/s]"
            ]
          },
          "metadata": {},
          "output_type": "display_data"
        },
        {
          "name": "stdout",
          "output_type": "stream",
          "text": [
            "08_18_2022_SVREC_RGB.tif\n"
          ]
        },
        {
          "data": {
            "application/vnd.jupyter.widget-view+json": {
              "model_id": "91ab06583be34dea9cc1171a0bc63998",
              "version_major": 2,
              "version_minor": 0
            },
            "text/plain": [
              "  0%|          | 0/1812 [00:00<?, ?it/s]"
            ]
          },
          "metadata": {},
          "output_type": "display_data"
        },
        {
          "name": "stdout",
          "output_type": "stream",
          "text": [
            "08_20_2022_SVREC_RGB.tif\n"
          ]
        },
        {
          "data": {
            "application/vnd.jupyter.widget-view+json": {
              "model_id": "b2ee0ed86c354bb5bf38b1a5334fe430",
              "version_major": 2,
              "version_minor": 0
            },
            "text/plain": [
              "  0%|          | 0/1812 [00:00<?, ?it/s]"
            ]
          },
          "metadata": {},
          "output_type": "display_data"
        },
        {
          "name": "stdout",
          "output_type": "stream",
          "text": [
            "08_23_2022_SVREC_RGB.tif\n"
          ]
        },
        {
          "data": {
            "application/vnd.jupyter.widget-view+json": {
              "model_id": "b19dad917c574fa896ccb8cc07401cbb",
              "version_major": 2,
              "version_minor": 0
            },
            "text/plain": [
              "  0%|          | 0/1812 [00:00<?, ?it/s]"
            ]
          },
          "metadata": {},
          "output_type": "display_data"
        },
        {
          "name": "stdout",
          "output_type": "stream",
          "text": [
            "08_26_2022_SVREC_RGB.tif\n"
          ]
        },
        {
          "data": {
            "application/vnd.jupyter.widget-view+json": {
              "model_id": "54f72765fe344a36bc67bfc8d2a8dcfb",
              "version_major": 2,
              "version_minor": 0
            },
            "text/plain": [
              "  0%|          | 0/1812 [00:00<?, ?it/s]"
            ]
          },
          "metadata": {},
          "output_type": "display_data"
        },
        {
          "name": "stdout",
          "output_type": "stream",
          "text": [
            "08_30_2022_SVREC_RGB.tif\n"
          ]
        },
        {
          "data": {
            "application/vnd.jupyter.widget-view+json": {
              "model_id": "47a138fa065e49d182279f3b1c04e7f0",
              "version_major": 2,
              "version_minor": 0
            },
            "text/plain": [
              "  0%|          | 0/1812 [00:00<?, ?it/s]"
            ]
          },
          "metadata": {},
          "output_type": "display_data"
        },
        {
          "name": "stdout",
          "output_type": "stream",
          "text": [
            "09_02_2022_SVREC_RGB.tif\n"
          ]
        },
        {
          "data": {
            "application/vnd.jupyter.widget-view+json": {
              "model_id": "dcbf56f9c3d24666ba2b91bf77a8d0e9",
              "version_major": 2,
              "version_minor": 0
            },
            "text/plain": [
              "  0%|          | 0/1812 [00:00<?, ?it/s]"
            ]
          },
          "metadata": {},
          "output_type": "display_data"
        },
        {
          "name": "stdout",
          "output_type": "stream",
          "text": [
            "09_05_2022_SVREC_RGB.tif\n"
          ]
        },
        {
          "data": {
            "application/vnd.jupyter.widget-view+json": {
              "model_id": "d4c8b09f1da44b5faaa27e93c5212209",
              "version_major": 2,
              "version_minor": 0
            },
            "text/plain": [
              "  0%|          | 0/1812 [00:00<?, ?it/s]"
            ]
          },
          "metadata": {},
          "output_type": "display_data"
        },
        {
          "name": "stdout",
          "output_type": "stream",
          "text": [
            "09_08_2022_SVREC_RGB.tif\n"
          ]
        },
        {
          "data": {
            "application/vnd.jupyter.widget-view+json": {
              "model_id": "93c29a16c49341198105ab31414ac18c",
              "version_major": 2,
              "version_minor": 0
            },
            "text/plain": [
              "  0%|          | 0/1812 [00:00<?, ?it/s]"
            ]
          },
          "metadata": {},
          "output_type": "display_data"
        },
        {
          "name": "stdout",
          "output_type": "stream",
          "text": [
            "09_13_2022_SVREC_RGB.tif\n"
          ]
        },
        {
          "data": {
            "application/vnd.jupyter.widget-view+json": {
              "model_id": "811e753599d640fa9f1d1351d7393570",
              "version_major": 2,
              "version_minor": 0
            },
            "text/plain": [
              "  0%|          | 0/1812 [00:00<?, ?it/s]"
            ]
          },
          "metadata": {},
          "output_type": "display_data"
        },
        {
          "name": "stdout",
          "output_type": "stream",
          "text": [
            "09_16_2022_SVREC_RGB.tif\n"
          ]
        },
        {
          "data": {
            "application/vnd.jupyter.widget-view+json": {
              "model_id": "4cc84cab6fd9478bb1f6f07cebd93306",
              "version_major": 2,
              "version_minor": 0
            },
            "text/plain": [
              "  0%|          | 0/1812 [00:00<?, ?it/s]"
            ]
          },
          "metadata": {},
          "output_type": "display_data"
        }
      ],
      "source": [
        "for tiffile in tqdm(img_list_names):\n",
        "    print(tiffile)\n",
        "\n",
        "    ts = tiffile[0:10]\n",
        "    ts = ts.replace('_', '.')\n",
        "    fmt = '%m.%d.%Y'\n",
        "    dt = datetime.datetime.strptime(ts, fmt)\n",
        "    tt = dt.timetuple()\n",
        "    tt = tt.tm_yday\n",
        "    pl = planting_date\n",
        "    dt2 = datetime.datetime.strptime(pl, fmt)\n",
        "    tt2 = dt2.timetuple()\n",
        "    tt2 = tt2.tm_yday\n",
        "    DOY = str(tt-tt2).zfill(3)\n",
        "    \n",
        "    noPlot_list = []\n",
        "    # Plot_ID_list = []\n",
        "    with fiona.open(f'{shp_dir}/'f'{shp_file}', \"r\") as shapefile:\n",
        "    \n",
        "        for feature in tqdm(shapefile):\n",
        "            \n",
        "            Plot_ID = feature[\"properties\"][plot_num_field_name]\n",
        "            Plot_ID = Plot_ID.replace('_', '')\n",
        "            # [k for k in ground_list if Plot_ID in k]  \n",
        "                      \n",
        "            if Plot_ID in ground_list:\n",
        "                shape = [feature[\"geometry\"]]\n",
        "                # Plot_ID_list.append(Plot_ID)\n",
        "                        \n",
        "            # Change the current working directory\n",
        "                os.chdir(img_dir)\n",
        "                \n",
        "                with rasterio.open(tiffile, \"r\") as ras:\n",
        "                    out_image, out_transform = mask(ras, shape, crop=True, nodata=0)\n",
        "                    out_meta = ras.meta\n",
        "                    \n",
        "                    out_image = ma.masked_where(out_image == 0, out_image)\n",
        "                    out_image = ma.filled(out_image.astype(float), np.nan)\n",
        "                    \n",
        "                # Change the current working directory\n",
        "                    os.chdir(f'{plot_dir}')\n",
        "\n",
        "                    new_img_name = trial_name + '_' + Plot_ID + '_' +  DOY + '.png'\n",
        "                    \n",
        "                    out_meta.update({\"driver\": \"PNG\",\n",
        "                    \"height\": height,\n",
        "                    \"width\": width,\n",
        "                    \"transform\": out_transform})\n",
        "                    \n",
        "                    with rasterio.open(new_img_name, \"w\", **out_meta) as dest:\n",
        "                        dest.write(out_image)\n",
        "                        #print(new_img_name) \n",
        "\n",
        "            else:\n",
        "                noPlot_list.append(Plot_ID)\n",
        "                pass  "
      ]
    },
    {
      "cell_type": "code",
      "execution_count": 12,
      "metadata": {},
      "outputs": [
        {
          "data": {
            "text/html": [
              "<div>\n",
              "<style scoped>\n",
              "    .dataframe tbody tr th:only-of-type {\n",
              "        vertical-align: middle;\n",
              "    }\n",
              "\n",
              "    .dataframe tbody tr th {\n",
              "        vertical-align: top;\n",
              "    }\n",
              "\n",
              "    .dataframe thead th {\n",
              "        text-align: right;\n",
              "    }\n",
              "</style>\n",
              "<table border=\"1\" class=\"dataframe\">\n",
              "  <thead>\n",
              "    <tr style=\"text-align: right;\">\n",
              "      <th></th>\n",
              "      <th>Plots</th>\n",
              "    </tr>\n",
              "  </thead>\n",
              "  <tbody>\n",
              "    <tr>\n",
              "      <th>0</th>\n",
              "      <td>22161036</td>\n",
              "    </tr>\n",
              "    <tr>\n",
              "      <th>1</th>\n",
              "      <td>22161035</td>\n",
              "    </tr>\n",
              "    <tr>\n",
              "      <th>2</th>\n",
              "      <td>22161034</td>\n",
              "    </tr>\n",
              "    <tr>\n",
              "      <th>3</th>\n",
              "      <td>22161031</td>\n",
              "    </tr>\n",
              "    <tr>\n",
              "      <th>4</th>\n",
              "      <td>22161032</td>\n",
              "    </tr>\n",
              "    <tr>\n",
              "      <th>...</th>\n",
              "      <td>...</td>\n",
              "    </tr>\n",
              "    <tr>\n",
              "      <th>1171</th>\n",
              "      <td>22132003</td>\n",
              "    </tr>\n",
              "    <tr>\n",
              "      <th>1172</th>\n",
              "      <td>22132004</td>\n",
              "    </tr>\n",
              "    <tr>\n",
              "      <th>1173</th>\n",
              "      <td>22162001</td>\n",
              "    </tr>\n",
              "    <tr>\n",
              "      <th>1174</th>\n",
              "      <td>22162002</td>\n",
              "    </tr>\n",
              "    <tr>\n",
              "      <th>1175</th>\n",
              "      <td>22162003</td>\n",
              "    </tr>\n",
              "  </tbody>\n",
              "</table>\n",
              "<p>1176 rows × 1 columns</p>\n",
              "</div>"
            ],
            "text/plain": [
              "         Plots\n",
              "0     22161036\n",
              "1     22161035\n",
              "2     22161034\n",
              "3     22161031\n",
              "4     22161032\n",
              "...        ...\n",
              "1171  22132003\n",
              "1172  22132004\n",
              "1173  22162001\n",
              "1174  22162002\n",
              "1175  22162003\n",
              "\n",
              "[1176 rows x 1 columns]"
            ]
          },
          "execution_count": 12,
          "metadata": {},
          "output_type": "execute_result"
        }
      ],
      "source": [
        "noPlot_ID_list = pd.DataFrame(noPlot_list, columns=['Plots'])\n",
        "noPlot_ID_list\n",
        "#noPlot_ID_list.to_csv('C:\\\\Users\\\\leoag\\\\Michigan State University\\\\MSU Dry Bean Breeding Lab - General\\\\UAS_Beans\\\\2020\\\\SVREC_Mat\\\\f._codes\\\\noPlot.csv')"
      ]
    },
    {
      "cell_type": "code",
      "execution_count": 13,
      "metadata": {
        "id": "tCOzLX5ryQKI"
      },
      "outputs": [],
      "source": [
        "#ep.plot_rgb(out_image, rgb=[0, 1, 2], title=\"Red Green Blue\", stretch=True)"
      ]
    },
    {
      "cell_type": "code",
      "execution_count": 14,
      "metadata": {
        "id": "Zc9z8yBR5g8w"
      },
      "outputs": [
        {
          "data": {
            "image/png": "[encoded data removed]",
            "text/plain": [
              "<Figure size 432x288 with 1 Axes>"
            ]
          },
          "metadata": {
            "needs_background": "light"
          },
          "output_type": "display_data"
        }
      ],
      "source": [
        "#plotting\n",
        "from matplotlib import pyplot\n",
        "with rasterio.open(new_img_name) as src:\n",
        "    pyplot.imshow(src.read(1), cmap='pink')\n",
        "    pyplot.show()"
      ]
    }
  ],
  "metadata": {
    "accelerator": "GPU",
    "colab": {
      "machine_shape": "hm",
      "name": "Beans_Clip_Plots_v2.ipynb",
      "provenance": []
    },
    "gpuClass": "standard",
    "kernelspec": {
      "display_name": "Python 3.8.12 ('pheno1')",
      "language": "python",
      "name": "python3"
    },
    "language_info": {
      "codemirror_mode": {
        "name": "ipython",
        "version": 3
      },
      "file_extension": ".py",
      "mimetype": "text/x-python",
      "name": "python",
      "nbconvert_exporter": "python",
      "pygments_lexer": "ipython3",
      "version": "3.8.12"
    },
    "vscode": {
      "interpreter": {
        "hash": "0de243c04fce33973b44ca1098946231a99e94861f01807479347a23bfc17024"
      }
    }
  },
  "nbformat": 4,
  "nbformat_minor": 0
}
