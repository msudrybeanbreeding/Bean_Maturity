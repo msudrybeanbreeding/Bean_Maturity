{
  "cells": [
    {
      "cell_type": "code",
      "execution_count": 1,
      "metadata": {
        "id": "P1f19ET8qicv"
      },
      "outputs": [],
      "source": [
        "# from google.colab import drive\n",
        "# drive.mount('/content/drive')"
      ]
    },
    {
      "cell_type": "code",
      "execution_count": 2,
      "metadata": {
        "id": "H_JMunf2qgAf"
      },
      "outputs": [],
      "source": [
        "import os\n",
        "import cv2\n",
        "import numpy as np\n",
        "import pandas as pd\n",
        "from tqdm.auto import tqdm\n",
        "import csv\n",
        "\n",
        "\n",
        "class MyDataset(object):\n",
        "    '''\n",
        "    Class to load the dataset\n",
        "    img_dir = Plots dir\n",
        "    ground_dir = Ground dir where:\n",
        "        column 1 = Plot name\n",
        "        column 2 = Plot ground value\n",
        "    '''\n",
        "    def __init__(self, img_dir, ground_dir):\n",
        "        self.img_dir = img_dir\n",
        "        self.ground_dir = ground_dir\n",
        "        self.df = self._get_img_df()\n",
        "        self.ground_arr = self._get_ground_df()\n",
        "    \n",
        "    def __len__(self):\n",
        "        return len(self.df)\n",
        "\n",
        "    def _get_img_df(self):\n",
        "        img_names = os.listdir(self.img_dir)\n",
        "        df = pd.DataFrame(img_names, columns=['Filename'])\n",
        "        df['Global_ID'] = df.Filename.str[6:-8].astype('int') ###[Global_ID] & [6:-8] to be adjusted\n",
        "        df['DOY'] = df.Filename.str[-7:-4].astype('int') ###[-7:-4] to be adjusted\n",
        "        df = pd.pivot_table(df, values = 'Filename', index='Global_ID', columns='DOY', aggfunc='first').reset_index() ###[Global_ID] to be adjusted\n",
        "        df= df.sort_values('Global_ID')\n",
        "        return(df)\n",
        "\n",
        "    def _get_ground_df(self):\n",
        "        ground_arr =  pd.read_csv(self.ground_dir, usecols=(0,1))\n",
        "        ground_arr = pd.DataFrame(ground_arr)\n",
        "        ground_arr = ground_arr.sort_values(ground_arr.columns[0])\n",
        "        ground_arr = ground_arr.to_numpy()\n",
        "        return(ground_arr)\n",
        "        \n",
        "    def _transform(self, x):\n",
        "        x = np.moveaxis(x, -3, -2) ###[np.moveaxis(x, -2, -2)] to be adjusted. Dim goals: Plot:Flight:R:G:B\n",
        "        ### Normalization or rescale did NOT change the results.\n",
        "\n",
        "        # x = x.astype('float32')\n",
        "\n",
        "        # layer = Normalization()\n",
        "        # layer.adapt(x)\n",
        "        # x = layer(x)\n",
        "        # x = Rescaling(1.0 / 255)(x)\n",
        "        # input_shape = x.shape[:2]\n",
        "        # inputs = keras.Input(input_shape[0],input_shape[1])\n",
        "        # x = Rescaling(1.0 / 255)(inputs)  # Rescale inputs\n",
        "        # x /= 255.0\n",
        "\n",
        "        # min = x.min()\n",
        "        # max = x.max()\n",
        "        # x -= min\n",
        "        # x /= (max - min)\n",
        "        \n",
        "        return(x)\n",
        "\n",
        "    def __getitem__(self,imgs_stacked):\n",
        "        alist = [] \n",
        "        # GDDlist = [20.8595, 20.7809, 20.9571, 20.6049, 21.0528, 20.8987, 21.1707, 21.6270, 21.2946]\n",
        "        # GDDdate = 0\n",
        "\n",
        "        for column in tqdm(self.df.columns[1:]): \n",
        "            print(f\"Column name:\",column)\n",
        "            imgs_stack = np.stack([cv2.imread(os.path.join(self.img_dir, img)) for img in self.df[column]])\n",
        "            #imgs_stack = np.stack([cv2.cvtColor(cv2.imread(os.path.join(self.img_dir, img)), cv2.COLOR_BGR2HSV) for img in self.df[column]]) ### Want to change the color space? [cv2.COLOR_BGR2HSV]\n",
        "\n",
        "            imgs_stack = self._transform(imgs_stack)\n",
        "            # imgs_stack =  imgs_stack*GDDlist[GDDdate]\n",
        "\n",
        "            alist.append([imgs_stack])\n",
        "            # GDDdate += 1\n",
        "        imgs_stacked = np.squeeze(np.stack(alist, axis=2))                                                                                         \n",
        "\n",
        "        return (imgs_stacked) \n",
        "        #display(arr)"
      ]
    },
    {
      "cell_type": "code",
      "execution_count": 3,
      "metadata": {
        "id": "3-L5FJXDteS7"
      },
      "outputs": [],
      "source": [
        "#%cd /content/drive/MyDrive/Soybean_maturity_Trevisan/\n",
        "main_dir = 'C:\\\\Users\\\\leoag\\\\Michigan State University\\MSU Dry Bean Breeding Lab - General\\\\UAS_Beans\\\\2022\\\\SVREC_Mat'\n",
        "img_dir = os.path.join(main_dir,'e._ClipPlots_BN_512_128')\n",
        "\n",
        "ground_dir = os.path.join(main_dir,'d._Ground_notes', '22_SVREC_BN_ground.csv')\n"
      ]
    },
    {
      "cell_type": "code",
      "execution_count": 4,
      "metadata": {
        "colab": {
          "base_uri": "https://localhost:8080/",
          "referenced_widgets": [
            "85a8e7073c004fcab61d76bfc80add0f"
          ]
        },
        "id": "AASVBQ3suc4D",
        "outputId": "59251d5c-df4b-4fc2-c76f-3f19ba565cdd"
      },
      "outputs": [
        {
          "data": {
            "application/vnd.jupyter.widget-view+json": {
              "model_id": "eb663aa7b4ed45f4a1285bc1cdd4a523",
              "version_major": 2,
              "version_minor": 0
            },
            "text/plain": [
              "  0%|          | 0/11 [00:00<?, ?it/s]"
            ]
          },
          "metadata": {},
          "output_type": "display_data"
        },
        {
          "name": "stdout",
          "output_type": "stream",
          "text": [
            "Column name: 49\n",
            "Column name: 78\n",
            "Column name: 80\n",
            "Column name: 83\n",
            "Column name: 86\n",
            "Column name: 90\n",
            "Column name: 93\n",
            "Column name: 96\n",
            "Column name: 99\n",
            "Column name: 104\n",
            "Column name: 107\n"
          ]
        },
        {
          "data": {
            "text/plain": [
              "636"
            ]
          },
          "execution_count": 4,
          "metadata": {},
          "output_type": "execute_result"
        }
      ],
      "source": [
        "dataset_arr =  MyDataset(img_dir, ground_dir)[object]\n",
        "len(dataset_arr)"
      ]
    },
    {
      "cell_type": "code",
      "execution_count": 5,
      "metadata": {
        "colab": {
          "base_uri": "https://localhost:8080/"
        },
        "id": "z2ArJA776-Zi",
        "outputId": "8ebe8a52-a5e4-4285-fece-9199be0e8a4c"
      },
      "outputs": [
        {
          "data": {
            "text/plain": [
              "(636, 11, 512, 128, 3)"
            ]
          },
          "execution_count": 5,
          "metadata": {},
          "output_type": "execute_result"
        }
      ],
      "source": [
        "dataset_arr.shape"
      ]
    },
    {
      "cell_type": "code",
      "execution_count": 6,
      "metadata": {
        "id": "NE3p-zyYumau",
        "outputId": "1220bd35-59e3-4829-c2d6-f207c17c9394"
      },
      "outputs": [
        {
          "name": "stdout",
          "output_type": "stream",
          "text": [
            "Min: 0.000, Max: 255.000\n"
          ]
        }
      ],
      "source": [
        "image = dataset_arr[111,5]\n",
        "image.shape\n",
        "# confirm the normalization\n",
        "print('Min: %.3f, Max: %.3f' % (image.min(), image.max()))"
      ]
    },
    {
      "cell_type": "code",
      "execution_count": 36,
      "metadata": {
        "id": "wGyUE4d7umav",
        "outputId": "f5e4da7e-35a7-4317-d7d8-0dd4b76e745d"
      },
      "outputs": [
        {
          "data": {
            "text/plain": [
              "array([[[0, 0, 0],\n",
              "        [0, 0, 0],\n",
              "        [0, 0, 0],\n",
              "        ...,\n",
              "        [0, 0, 0],\n",
              "        [0, 0, 0],\n",
              "        [0, 0, 0]],\n",
              "\n",
              "       [[0, 0, 0],\n",
              "        [0, 0, 0],\n",
              "        [0, 0, 0],\n",
              "        ...,\n",
              "        [0, 0, 0],\n",
              "        [0, 0, 0],\n",
              "        [0, 0, 0]],\n",
              "\n",
              "       [[0, 0, 0],\n",
              "        [0, 0, 0],\n",
              "        [0, 0, 0],\n",
              "        ...,\n",
              "        [0, 0, 0],\n",
              "        [0, 0, 0],\n",
              "        [0, 0, 0]],\n",
              "\n",
              "       ...,\n",
              "\n",
              "       [[0, 0, 0],\n",
              "        [0, 0, 0],\n",
              "        [0, 0, 0],\n",
              "        ...,\n",
              "        [0, 0, 0],\n",
              "        [0, 0, 0],\n",
              "        [0, 0, 0]],\n",
              "\n",
              "       [[0, 0, 0],\n",
              "        [0, 0, 0],\n",
              "        [0, 0, 0],\n",
              "        ...,\n",
              "        [0, 0, 0],\n",
              "        [0, 0, 0],\n",
              "        [0, 0, 0]],\n",
              "\n",
              "       [[0, 0, 0],\n",
              "        [0, 0, 0],\n",
              "        [0, 0, 0],\n",
              "        ...,\n",
              "        [0, 0, 0],\n",
              "        [0, 0, 0],\n",
              "        [0, 0, 0]]], dtype=uint8)"
            ]
          },
          "execution_count": 36,
          "metadata": {},
          "output_type": "execute_result"
        }
      ],
      "source": [
        "image"
      ]
    },
    {
      "cell_type": "code",
      "execution_count": 7,
      "metadata": {
        "id": "GpNAh1oAumav",
        "outputId": "10e8032c-3455-4657-a718-8643a2601107"
      },
      "outputs": [
        {
          "data": {
            "text/html": [
              "<div>\n",
              "<style scoped>\n",
              "    .dataframe tbody tr th:only-of-type {\n",
              "        vertical-align: middle;\n",
              "    }\n",
              "\n",
              "    .dataframe tbody tr th {\n",
              "        vertical-align: top;\n",
              "    }\n",
              "\n",
              "    .dataframe thead th {\n",
              "        text-align: right;\n",
              "    }\n",
              "</style>\n",
              "<table border=\"1\" class=\"dataframe\">\n",
              "  <thead>\n",
              "    <tr style=\"text-align: right;\">\n",
              "      <th>DOY</th>\n",
              "      <th>Global_ID</th>\n",
              "      <th>49</th>\n",
              "      <th>78</th>\n",
              "      <th>80</th>\n",
              "      <th>83</th>\n",
              "      <th>86</th>\n",
              "      <th>90</th>\n",
              "      <th>93</th>\n",
              "      <th>96</th>\n",
              "      <th>99</th>\n",
              "      <th>104</th>\n",
              "      <th>107</th>\n",
              "    </tr>\n",
              "  </thead>\n",
              "  <tbody>\n",
              "    <tr>\n",
              "      <th>0</th>\n",
              "      <td>22011001</td>\n",
              "      <td>SVREC_22011001_049.png</td>\n",
              "      <td>SVREC_22011001_078.png</td>\n",
              "      <td>SVREC_22011001_080.png</td>\n",
              "      <td>SVREC_22011001_083.png</td>\n",
              "      <td>SVREC_22011001_086.png</td>\n",
              "      <td>SVREC_22011001_090.png</td>\n",
              "      <td>SVREC_22011001_093.png</td>\n",
              "      <td>SVREC_22011001_096.png</td>\n",
              "      <td>SVREC_22011001_099.png</td>\n",
              "      <td>SVREC_22011001_104.png</td>\n",
              "      <td>SVREC_22011001_107.png</td>\n",
              "    </tr>\n",
              "    <tr>\n",
              "      <th>1</th>\n",
              "      <td>22011002</td>\n",
              "      <td>SVREC_22011002_049.png</td>\n",
              "      <td>SVREC_22011002_078.png</td>\n",
              "      <td>SVREC_22011002_080.png</td>\n",
              "      <td>SVREC_22011002_083.png</td>\n",
              "      <td>SVREC_22011002_086.png</td>\n",
              "      <td>SVREC_22011002_090.png</td>\n",
              "      <td>SVREC_22011002_093.png</td>\n",
              "      <td>SVREC_22011002_096.png</td>\n",
              "      <td>SVREC_22011002_099.png</td>\n",
              "      <td>SVREC_22011002_104.png</td>\n",
              "      <td>SVREC_22011002_107.png</td>\n",
              "    </tr>\n",
              "    <tr>\n",
              "      <th>2</th>\n",
              "      <td>22011003</td>\n",
              "      <td>SVREC_22011003_049.png</td>\n",
              "      <td>SVREC_22011003_078.png</td>\n",
              "      <td>SVREC_22011003_080.png</td>\n",
              "      <td>SVREC_22011003_083.png</td>\n",
              "      <td>SVREC_22011003_086.png</td>\n",
              "      <td>SVREC_22011003_090.png</td>\n",
              "      <td>SVREC_22011003_093.png</td>\n",
              "      <td>SVREC_22011003_096.png</td>\n",
              "      <td>SVREC_22011003_099.png</td>\n",
              "      <td>SVREC_22011003_104.png</td>\n",
              "      <td>SVREC_22011003_107.png</td>\n",
              "    </tr>\n",
              "    <tr>\n",
              "      <th>3</th>\n",
              "      <td>22011004</td>\n",
              "      <td>SVREC_22011004_049.png</td>\n",
              "      <td>SVREC_22011004_078.png</td>\n",
              "      <td>SVREC_22011004_080.png</td>\n",
              "      <td>SVREC_22011004_083.png</td>\n",
              "      <td>SVREC_22011004_086.png</td>\n",
              "      <td>SVREC_22011004_090.png</td>\n",
              "      <td>SVREC_22011004_093.png</td>\n",
              "      <td>SVREC_22011004_096.png</td>\n",
              "      <td>SVREC_22011004_099.png</td>\n",
              "      <td>SVREC_22011004_104.png</td>\n",
              "      <td>SVREC_22011004_107.png</td>\n",
              "    </tr>\n",
              "    <tr>\n",
              "      <th>4</th>\n",
              "      <td>22011005</td>\n",
              "      <td>SVREC_22011005_049.png</td>\n",
              "      <td>SVREC_22011005_078.png</td>\n",
              "      <td>SVREC_22011005_080.png</td>\n",
              "      <td>SVREC_22011005_083.png</td>\n",
              "      <td>SVREC_22011005_086.png</td>\n",
              "      <td>SVREC_22011005_090.png</td>\n",
              "      <td>SVREC_22011005_093.png</td>\n",
              "      <td>SVREC_22011005_096.png</td>\n",
              "      <td>SVREC_22011005_099.png</td>\n",
              "      <td>SVREC_22011005_104.png</td>\n",
              "      <td>SVREC_22011005_107.png</td>\n",
              "    </tr>\n",
              "    <tr>\n",
              "      <th>...</th>\n",
              "      <td>...</td>\n",
              "      <td>...</td>\n",
              "      <td>...</td>\n",
              "      <td>...</td>\n",
              "      <td>...</td>\n",
              "      <td>...</td>\n",
              "      <td>...</td>\n",
              "      <td>...</td>\n",
              "      <td>...</td>\n",
              "      <td>...</td>\n",
              "      <td>...</td>\n",
              "      <td>...</td>\n",
              "    </tr>\n",
              "    <tr>\n",
              "      <th>631</th>\n",
              "      <td>22063080</td>\n",
              "      <td>SVREC_22063080_049.png</td>\n",
              "      <td>SVREC_22063080_078.png</td>\n",
              "      <td>SVREC_22063080_080.png</td>\n",
              "      <td>SVREC_22063080_083.png</td>\n",
              "      <td>SVREC_22063080_086.png</td>\n",
              "      <td>SVREC_22063080_090.png</td>\n",
              "      <td>SVREC_22063080_093.png</td>\n",
              "      <td>SVREC_22063080_096.png</td>\n",
              "      <td>SVREC_22063080_099.png</td>\n",
              "      <td>SVREC_22063080_104.png</td>\n",
              "      <td>SVREC_22063080_107.png</td>\n",
              "    </tr>\n",
              "    <tr>\n",
              "      <th>632</th>\n",
              "      <td>22063081</td>\n",
              "      <td>SVREC_22063081_049.png</td>\n",
              "      <td>SVREC_22063081_078.png</td>\n",
              "      <td>SVREC_22063081_080.png</td>\n",
              "      <td>SVREC_22063081_083.png</td>\n",
              "      <td>SVREC_22063081_086.png</td>\n",
              "      <td>SVREC_22063081_090.png</td>\n",
              "      <td>SVREC_22063081_093.png</td>\n",
              "      <td>SVREC_22063081_096.png</td>\n",
              "      <td>SVREC_22063081_099.png</td>\n",
              "      <td>SVREC_22063081_104.png</td>\n",
              "      <td>SVREC_22063081_107.png</td>\n",
              "    </tr>\n",
              "    <tr>\n",
              "      <th>633</th>\n",
              "      <td>22063082</td>\n",
              "      <td>SVREC_22063082_049.png</td>\n",
              "      <td>SVREC_22063082_078.png</td>\n",
              "      <td>SVREC_22063082_080.png</td>\n",
              "      <td>SVREC_22063082_083.png</td>\n",
              "      <td>SVREC_22063082_086.png</td>\n",
              "      <td>SVREC_22063082_090.png</td>\n",
              "      <td>SVREC_22063082_093.png</td>\n",
              "      <td>SVREC_22063082_096.png</td>\n",
              "      <td>SVREC_22063082_099.png</td>\n",
              "      <td>SVREC_22063082_104.png</td>\n",
              "      <td>SVREC_22063082_107.png</td>\n",
              "    </tr>\n",
              "    <tr>\n",
              "      <th>634</th>\n",
              "      <td>22063083</td>\n",
              "      <td>SVREC_22063083_049.png</td>\n",
              "      <td>SVREC_22063083_078.png</td>\n",
              "      <td>SVREC_22063083_080.png</td>\n",
              "      <td>SVREC_22063083_083.png</td>\n",
              "      <td>SVREC_22063083_086.png</td>\n",
              "      <td>SVREC_22063083_090.png</td>\n",
              "      <td>SVREC_22063083_093.png</td>\n",
              "      <td>SVREC_22063083_096.png</td>\n",
              "      <td>SVREC_22063083_099.png</td>\n",
              "      <td>SVREC_22063083_104.png</td>\n",
              "      <td>SVREC_22063083_107.png</td>\n",
              "    </tr>\n",
              "    <tr>\n",
              "      <th>635</th>\n",
              "      <td>22063084</td>\n",
              "      <td>SVREC_22063084_049.png</td>\n",
              "      <td>SVREC_22063084_078.png</td>\n",
              "      <td>SVREC_22063084_080.png</td>\n",
              "      <td>SVREC_22063084_083.png</td>\n",
              "      <td>SVREC_22063084_086.png</td>\n",
              "      <td>SVREC_22063084_090.png</td>\n",
              "      <td>SVREC_22063084_093.png</td>\n",
              "      <td>SVREC_22063084_096.png</td>\n",
              "      <td>SVREC_22063084_099.png</td>\n",
              "      <td>SVREC_22063084_104.png</td>\n",
              "      <td>SVREC_22063084_107.png</td>\n",
              "    </tr>\n",
              "  </tbody>\n",
              "</table>\n",
              "<p>636 rows × 12 columns</p>\n",
              "</div>"
            ],
            "text/plain": [
              "DOY  Global_ID                      49                      78  \\\n",
              "0     22011001  SVREC_22011001_049.png  SVREC_22011001_078.png   \n",
              "1     22011002  SVREC_22011002_049.png  SVREC_22011002_078.png   \n",
              "2     22011003  SVREC_22011003_049.png  SVREC_22011003_078.png   \n",
              "3     22011004  SVREC_22011004_049.png  SVREC_22011004_078.png   \n",
              "4     22011005  SVREC_22011005_049.png  SVREC_22011005_078.png   \n",
              "..         ...                     ...                     ...   \n",
              "631   22063080  SVREC_22063080_049.png  SVREC_22063080_078.png   \n",
              "632   22063081  SVREC_22063081_049.png  SVREC_22063081_078.png   \n",
              "633   22063082  SVREC_22063082_049.png  SVREC_22063082_078.png   \n",
              "634   22063083  SVREC_22063083_049.png  SVREC_22063083_078.png   \n",
              "635   22063084  SVREC_22063084_049.png  SVREC_22063084_078.png   \n",
              "\n",
              "DOY                      80                      83                      86  \\\n",
              "0    SVREC_22011001_080.png  SVREC_22011001_083.png  SVREC_22011001_086.png   \n",
              "1    SVREC_22011002_080.png  SVREC_22011002_083.png  SVREC_22011002_086.png   \n",
              "2    SVREC_22011003_080.png  SVREC_22011003_083.png  SVREC_22011003_086.png   \n",
              "3    SVREC_22011004_080.png  SVREC_22011004_083.png  SVREC_22011004_086.png   \n",
              "4    SVREC_22011005_080.png  SVREC_22011005_083.png  SVREC_22011005_086.png   \n",
              "..                      ...                     ...                     ...   \n",
              "631  SVREC_22063080_080.png  SVREC_22063080_083.png  SVREC_22063080_086.png   \n",
              "632  SVREC_22063081_080.png  SVREC_22063081_083.png  SVREC_22063081_086.png   \n",
              "633  SVREC_22063082_080.png  SVREC_22063082_083.png  SVREC_22063082_086.png   \n",
              "634  SVREC_22063083_080.png  SVREC_22063083_083.png  SVREC_22063083_086.png   \n",
              "635  SVREC_22063084_080.png  SVREC_22063084_083.png  SVREC_22063084_086.png   \n",
              "\n",
              "DOY                      90                      93                      96  \\\n",
              "0    SVREC_22011001_090.png  SVREC_22011001_093.png  SVREC_22011001_096.png   \n",
              "1    SVREC_22011002_090.png  SVREC_22011002_093.png  SVREC_22011002_096.png   \n",
              "2    SVREC_22011003_090.png  SVREC_22011003_093.png  SVREC_22011003_096.png   \n",
              "3    SVREC_22011004_090.png  SVREC_22011004_093.png  SVREC_22011004_096.png   \n",
              "4    SVREC_22011005_090.png  SVREC_22011005_093.png  SVREC_22011005_096.png   \n",
              "..                      ...                     ...                     ...   \n",
              "631  SVREC_22063080_090.png  SVREC_22063080_093.png  SVREC_22063080_096.png   \n",
              "632  SVREC_22063081_090.png  SVREC_22063081_093.png  SVREC_22063081_096.png   \n",
              "633  SVREC_22063082_090.png  SVREC_22063082_093.png  SVREC_22063082_096.png   \n",
              "634  SVREC_22063083_090.png  SVREC_22063083_093.png  SVREC_22063083_096.png   \n",
              "635  SVREC_22063084_090.png  SVREC_22063084_093.png  SVREC_22063084_096.png   \n",
              "\n",
              "DOY                      99                     104                     107  \n",
              "0    SVREC_22011001_099.png  SVREC_22011001_104.png  SVREC_22011001_107.png  \n",
              "1    SVREC_22011002_099.png  SVREC_22011002_104.png  SVREC_22011002_107.png  \n",
              "2    SVREC_22011003_099.png  SVREC_22011003_104.png  SVREC_22011003_107.png  \n",
              "3    SVREC_22011004_099.png  SVREC_22011004_104.png  SVREC_22011004_107.png  \n",
              "4    SVREC_22011005_099.png  SVREC_22011005_104.png  SVREC_22011005_107.png  \n",
              "..                      ...                     ...                     ...  \n",
              "631  SVREC_22063080_099.png  SVREC_22063080_104.png  SVREC_22063080_107.png  \n",
              "632  SVREC_22063081_099.png  SVREC_22063081_104.png  SVREC_22063081_107.png  \n",
              "633  SVREC_22063082_099.png  SVREC_22063082_104.png  SVREC_22063082_107.png  \n",
              "634  SVREC_22063083_099.png  SVREC_22063083_104.png  SVREC_22063083_107.png  \n",
              "635  SVREC_22063084_099.png  SVREC_22063084_104.png  SVREC_22063084_107.png  \n",
              "\n",
              "[636 rows x 12 columns]"
            ]
          },
          "execution_count": 7,
          "metadata": {},
          "output_type": "execute_result"
        }
      ],
      "source": [
        "dataset_df =  MyDataset(img_dir, ground_dir).df\n",
        "dataset_df\n",
        "#dataset_df.to_csv('C:\\\\temp_maturity\\\\UMNSoybeans_Planting_Season_2018\\\\df.csv')"
      ]
    },
    {
      "cell_type": "code",
      "execution_count": 8,
      "metadata": {
        "id": "Y-XJ-Sjgumaw",
        "outputId": "53996db2-62b3-4267-c31a-87c285827606"
      },
      "outputs": [
        {
          "data": {
            "text/plain": [
              "array([[22011001,       41],\n",
              "       [22011002,       41],\n",
              "       [22011003,       39],\n",
              "       ...,\n",
              "       [22063082,       41],\n",
              "       [22063083,       41],\n",
              "       [22063084,       42]], dtype=int64)"
            ]
          },
          "execution_count": 8,
          "metadata": {},
          "output_type": "execute_result"
        }
      ],
      "source": [
        "dataset_ground =  MyDataset(img_dir, ground_dir).ground_arr\n",
        "dataset_ground"
      ]
    },
    {
      "cell_type": "code",
      "execution_count": 9,
      "metadata": {
        "id": "ulAnfi-a0tGZ"
      },
      "outputs": [],
      "source": [
        "# Change the current working directory\n",
        "#os.chdir('H:\\\\My Drive\\\\UMNSoybeans_Planting_Season_2018\\\\e._npy_data')\n",
        "os.chdir('C:\\\\Users\\\\leoag\\\\Michigan State University\\\\MSU Dry Bean Breeding Lab - General\\\\UAS_Beans\\\\2022\\\\SVREC_Mat\\\\f._numpy_data')\n",
        "np.save('2022_SVREC_11fly_BN_512_128.npy', dataset_arr)  "
      ]
    },
    {
      "cell_type": "code",
      "execution_count": 9,
      "metadata": {
        "id": "v1KROdIQumax"
      },
      "outputs": [],
      "source": [
        "# Change the current working directory\n",
        "os.chdir('C:\\\\Users\\\\leoag\\\\Michigan State University\\\\MSU Dry Bean Breeding Lab - General\\\\UAS_Beans\\\\2022\\\\SVREC_Mat\\\\f._numpy_data')\n",
        "np.save('2022_SVREC_ground_11fly_BN.npy', dataset_ground)  "
      ]
    }
  ],
  "metadata": {
    "colab": {
      "provenance": []
    },
    "kernelspec": {
      "display_name": "Python 3.8.13 ('phenoM')",
      "language": "python",
      "name": "python3"
    },
    "language_info": {
      "codemirror_mode": {
        "name": "ipython",
        "version": 3
      },
      "file_extension": ".py",
      "mimetype": "text/x-python",
      "name": "python",
      "nbconvert_exporter": "python",
      "pygments_lexer": "ipython3",
      "version": "3.8.13"
    },
    "vscode": {
      "interpreter": {
        "hash": "eb9e05e26223e142a756e8ae67867867602c227d79e8ac9b8c7803d0e8123ee5"
      }
    }
  },
  "nbformat": 4,
  "nbformat_minor": 0
}
