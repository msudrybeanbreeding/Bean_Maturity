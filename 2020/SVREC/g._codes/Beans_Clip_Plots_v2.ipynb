{
  "cells": [
    {
      "cell_type": "code",
      "execution_count": 14,
      "metadata": {
        "colab": {
          "base_uri": "https://localhost:8080/"
        },
        "id": "8Wx9Zbjiv0GD",
        "outputId": "5525c8d3-8d4a-4e49-8ba0-4eefea4e0a9e"
      },
      "outputs": [],
      "source": [
        "# %pip install rasterio\n",
        "# %pip install geopandas\n",
        "# %pip install fiona\n",
        "# %pip install earthpy\n",
        "\n",
        "\n",
        "import numpy as np\n",
        "import numpy.ma as ma\n",
        "#from matplotlib import pyplot as plt\n",
        "import rasterio\n",
        "import geopandas as gpd\n",
        "#import rasterstats as rs\n",
        "#from IPython.display import display\n",
        "import pandas as pd\n",
        "import os\n",
        "import fiona\n",
        "import rasterio.mask\n",
        "#import matplotlib.pyplot as plt\n",
        "import warnings\n",
        "import rasterio\n",
        "import rasterio.features\n",
        "warnings.filterwarnings('ignore') #don't display warnings\n",
        "from rasterio.mask import mask\n",
        "#import earthpy.plot as ep\n",
        "import cv2\n",
        "import datetime\n",
        "from tqdm.auto import tqdm"
      ]
    },
    {
      "cell_type": "code",
      "execution_count": 15,
      "metadata": {
        "colab": {
          "base_uri": "https://localhost:8080/"
        },
        "id": "LXk-g-S2x0Pl",
        "outputId": "e4c2e12a-de24-4216-eb1a-6cedb8e8d077"
      },
      "outputs": [],
      "source": [
        "# from google.colab import drive\n",
        "# drive.mount('/content/drive')"
      ]
    },
    {
      "cell_type": "code",
      "execution_count": 16,
      "metadata": {
        "colab": {
          "base_uri": "https://localhost:8080/"
        },
        "id": "vb_GWym5v5m6",
        "outputId": "60344797-585d-4116-be6b-8394af3b2aff"
      },
      "outputs": [
        {
          "name": "stdout",
          "output_type": "stream",
          "text": [
            "['Name', 'GLOBAL_ID', 'ENTRY', 'Rep', 'block', 'Location', 'Check', 'Plot', 'End Plot', 'Expt', 'Pedigree', 'Name_1', 'Rng', 'Pas', 'Year', 'PLOTWT', 'MOIST', 'SDWT', 'FLWR', 'HT', 'LDG', 'MTR', 'DS', 'CBB', 'P_FT', 'CWT_A', 'ADJ_SDWT', 'Global_ID_', 'geometry']\n"
          ]
        }
      ],
      "source": [
        "root_file = 'C:\\\\Users\\\\leoag\\\\Michigan State University\\\\MSU Dry Bean Breeding Lab - General\\\\UAS_Beans\\\\2020\\\\SVREC_Mat'\n",
        "shp_file = \"SVREC_2020_shapefile_plots_03.shp\"\n",
        "img_dir= f\"{root_file}/\"'b._Orthomosaics'\n",
        "shp_dir = f\"{root_file}/\"'c._Shapefiles'\n",
        "plot_dir = f\"{root_file}/\"'e._ClipPlots_BN2_512_128'\n",
        "ground_dir = f\"{root_file}/\"'d._Ground_notes'\n",
        "\n",
        "#os.chdir('/content/drive/MyDrive/temp_roi')\n",
        "\n",
        "#plots_img = '/plots_img'\n",
        "\n",
        "try:\n",
        "    os.mkdir(plot_dir)\n",
        "except:\n",
        "  pass\n",
        "# os.chdir(img_dir)\n",
        "# # Print the current working directory\n",
        "# print(\"Current working directory: {0}\".format(os.getcwd()))\n",
        "#DIR_TEST = f'{DIR_INPUT}/test'\n",
        "plots = gpd.read_file(f'{shp_dir}' f'/{shp_file}')\n",
        "\n",
        "plots_names=list(plots.columns.values)\n",
        "print(plots_names)"
      ]
    },
    {
      "cell_type": "code",
      "execution_count": 17,
      "metadata": {
        "colab": {
          "base_uri": "https://localhost:8080/"
        },
        "id": "OEAH1u34yQht",
        "outputId": "502edd06-20fc-490b-c026-e2f3bccb09d6"
      },
      "outputs": [
        {
          "name": "stdout",
          "output_type": "stream",
          "text": [
            "{'type': 'Feature', 'id': '0', 'properties': OrderedDict([('Name', '3/1/2013_AYT_BLACK_lowN'), ('GLOBAL_ID', '2013_1001'), ('ENTRY', '20'), ('Rep', '1'), ('block', '1'), ('Location', 'SVREC'), ('Check', '0'), ('Plot', '1001'), ('End Plot', 'FALSE'), ('Expt', '2013'), ('Pedigree', 'B15417/B15442'), ('Name_1', 'B19312'), ('Rng', '1'), ('Pas', '3'), ('Year', '2020'), ('PLOTWT', '991.2'), ('MOIST', '12.34'), ('SDWT', '23'), ('FLWR', '46'), ('HT', '58'), ('LDG', '1'), ('MTR', '94'), ('DS', '6'), ('CBB', '2'), ('P_FT', '15'), ('CWT_A', '20.3717454'), ('ADJ_SDWT', '24.58756098'), ('Global_ID_', '20131001')]), 'geometry': {'type': 'Polygon', 'coordinates': [[(13303337.379822005, 690858.644674822), (13303320.157283733, 690858.5061011645), (13303320.068067363, 690862.4631066994), (13303337.290602572, 690862.60168033), (13303337.379822005, 690858.644674822)]]}}\n"
          ]
        }
      ],
      "source": [
        "shp_file_info=fiona.open(f'{shp_dir}/'f'{shp_file}', \"r\") \n",
        "#first feature of the shapefile\n",
        "shp_file_inf = shp_file_info.next()\n",
        "print(shp_file_inf)"
      ]
    },
    {
      "cell_type": "code",
      "execution_count": 18,
      "metadata": {
        "colab": {
          "base_uri": "https://localhost:8080/"
        },
        "id": "9ZDNNXklyQeV",
        "outputId": "610f833a-b407-4993-913a-dbb55fac64f6"
      },
      "outputs": [
        {
          "name": "stdout",
          "output_type": "stream",
          "text": [
            "['08_14_2020_RGB_Pix4D.tif', '08_21_2020_RGB_Pix4D.tif', '08_27_2020_RGB_Pix4D.tif', '09_03_2020_RGB_Pix4D.tif', '09_11_2020_RGB_Pix4D.tif', '09_17_2020_RGB_Pix4D.tif']\n"
          ]
        }
      ],
      "source": [
        "img_list = os.listdir(img_dir)\n",
        "img_list = [v for v in img_list if v.endswith('.tif')]\n",
        "print(img_list)"
      ]
    },
    {
      "cell_type": "code",
      "execution_count": 19,
      "metadata": {
        "colab": {
          "base_uri": "https://localhost:8080/"
        },
        "id": "2FsbZzgayQbp",
        "outputId": "6371493c-77b2-436d-82c8-2cc18bb25566"
      },
      "outputs": [
        {
          "name": "stdout",
          "output_type": "stream",
          "text": [
            "0\n",
            "1\n",
            "2\n",
            "3\n",
            "4\n",
            "5\n",
            "['08_14_2020_RGB_Pix4D.tif', '08_21_2020_RGB_Pix4D.tif', '08_27_2020_RGB_Pix4D.tif', '09_03_2020_RGB_Pix4D.tif', '09_11_2020_RGB_Pix4D.tif', '09_17_2020_RGB_Pix4D.tif']\n"
          ]
        }
      ],
      "source": [
        "# Create an empty list to store the img names\n",
        "img_list_names = []\n",
        "\n",
        "for l in range(len(img_list)):\n",
        "    print(l)\n",
        "    img_list_names.append(str(img_list[l]))\n",
        "\n",
        "print(img_list_names)"
      ]
    },
    {
      "cell_type": "code",
      "execution_count": 20,
      "metadata": {
        "id": "pi6IHxPCyQY1"
      },
      "outputs": [],
      "source": [
        "plot_num_field_name = \"Global_ID_\"\n",
        "trial_name = \"SVREC\"\n",
        "planting_date = '06.17.2020'\n",
        "\n",
        "width = 512\n",
        "height = 128"
      ]
    },
    {
      "cell_type": "code",
      "execution_count": 21,
      "metadata": {
        "colab": {
          "base_uri": "https://localhost:8080/"
        },
        "id": "34t7hfCwqHN5",
        "outputId": "05599bc2-a2fe-4c1f-cde1-193b667939f4"
      },
      "outputs": [
        {
          "name": "stdout",
          "output_type": "stream",
          "text": [
            "['058', '065', '071', '078', '086', '092']\n"
          ]
        }
      ],
      "source": [
        "# Create an empty list to store DOY from the image names\n",
        "img_DOY_list = []\n",
        "\n",
        "for l in range(len(img_list)):\n",
        "    img_DOY = str(img_list[l]) \n",
        "    ts = img_DOY[0:10]\n",
        "    ts = ts.replace('_', '.')\n",
        "    fmt = '%m.%d.%Y'\n",
        "\n",
        "    dt = datetime.datetime.strptime(ts, fmt)\n",
        "    tt = dt.timetuple()\n",
        "    tt = tt.tm_yday\n",
        "\n",
        "    pl = planting_date\n",
        "    dt2 = datetime.datetime.strptime(pl, fmt)\n",
        "    tt2 = dt2.timetuple()\n",
        "    tt2 = tt2.tm_yday\n",
        "\n",
        "    tt_f = str(tt-tt2).zfill(3)\n",
        "\n",
        "    img_DOY_list.append(tt_f)\n",
        "\n",
        "print(img_DOY_list)"
      ]
    },
    {
      "cell_type": "code",
      "execution_count": 22,
      "metadata": {},
      "outputs": [
        {
          "data": {
            "text/plain": [
              "['20031001',\n",
              " '20041001',\n",
              " '20031002',\n",
              " '20041002',\n",
              " '20031003',\n",
              " '20041003',\n",
              " '20031004',\n",
              " '20041004',\n",
              " '20031005',\n",
              " '20041005',\n",
              " '20031006',\n",
              " '20041006',\n",
              " '20031007',\n",
              " '20041007',\n",
              " '20031008',\n",
              " '20041008',\n",
              " '20031009',\n",
              " '20041009',\n",
              " '20031010',\n",
              " '20041010',\n",
              " '20031011',\n",
              " '20041011',\n",
              " '20031012',\n",
              " '20041012',\n",
              " '20031013',\n",
              " '20041013',\n",
              " '20031014',\n",
              " '20041014',\n",
              " '20031015',\n",
              " '20041015',\n",
              " '20031016',\n",
              " '20041016',\n",
              " '20031017',\n",
              " '20041017',\n",
              " '20031018',\n",
              " '20041018',\n",
              " '20031019',\n",
              " '20041019',\n",
              " '20031020',\n",
              " '20041020',\n",
              " '20031021',\n",
              " '20041021',\n",
              " '20031022',\n",
              " '20041022',\n",
              " '20031023',\n",
              " '20041023',\n",
              " '20031024',\n",
              " '20041024',\n",
              " '20031025',\n",
              " '20041025',\n",
              " '20031026',\n",
              " '20041026',\n",
              " '20031027',\n",
              " '20041027',\n",
              " '20031028',\n",
              " '20041028',\n",
              " '20031029',\n",
              " '20041029',\n",
              " '20031030',\n",
              " '20041030',\n",
              " '20031031',\n",
              " '20041031',\n",
              " '20031032',\n",
              " '20041032',\n",
              " '20031033',\n",
              " '20041033',\n",
              " '20031034',\n",
              " '20041034',\n",
              " '20031035',\n",
              " '20041035',\n",
              " '20031036',\n",
              " '20041036',\n",
              " '20031037',\n",
              " '20041037',\n",
              " '20031038',\n",
              " '20041038',\n",
              " '20031039',\n",
              " '20041039',\n",
              " '20031040',\n",
              " '20041040',\n",
              " '20031041',\n",
              " '20041041',\n",
              " '20031042',\n",
              " '20041042',\n",
              " '20031043',\n",
              " '20041043',\n",
              " '20031044',\n",
              " '20041044',\n",
              " '20031045',\n",
              " '20041045',\n",
              " '20031046',\n",
              " '20041046',\n",
              " '20031047',\n",
              " '20041047',\n",
              " '20031048',\n",
              " '20041048',\n",
              " '20031049',\n",
              " '20041049',\n",
              " '20031050',\n",
              " '20041050',\n",
              " '20031051',\n",
              " '20041051',\n",
              " '20031052',\n",
              " '20041052',\n",
              " '20031053',\n",
              " '20041053',\n",
              " '20031054',\n",
              " '20041054',\n",
              " '20031055',\n",
              " '20041055',\n",
              " '20031056',\n",
              " '20041056',\n",
              " '20031057',\n",
              " '20041057',\n",
              " '20031058',\n",
              " '20041058',\n",
              " '20031059',\n",
              " '20041059',\n",
              " '20031060',\n",
              " '20041060',\n",
              " '20031061',\n",
              " '20041061',\n",
              " '20031062',\n",
              " '20041062',\n",
              " '20031063',\n",
              " '20041063',\n",
              " '20031064',\n",
              " '20041064',\n",
              " '20031065',\n",
              " '20041065',\n",
              " '20031066',\n",
              " '20041066',\n",
              " '20031067',\n",
              " '20041067',\n",
              " '20031068',\n",
              " '20041068',\n",
              " '20031069',\n",
              " '20041069',\n",
              " '20031070',\n",
              " '20041070',\n",
              " '20031071',\n",
              " '20041071',\n",
              " '20031072',\n",
              " '20041072',\n",
              " '20031073',\n",
              " '20041073',\n",
              " '20031074',\n",
              " '20041074',\n",
              " '20031075',\n",
              " '20041075',\n",
              " '20031076',\n",
              " '20041076',\n",
              " '20031077',\n",
              " '20041077',\n",
              " '20031078',\n",
              " '20041078',\n",
              " '20031079',\n",
              " '20041079',\n",
              " '20031080',\n",
              " '20041080',\n",
              " '20031081',\n",
              " '20041081',\n",
              " '20031082',\n",
              " '20041082',\n",
              " '20031083',\n",
              " '20041083',\n",
              " '20031084',\n",
              " '20041084',\n",
              " '20031085',\n",
              " '20041085',\n",
              " '20031086',\n",
              " '20041086',\n",
              " '20031087',\n",
              " '20041087',\n",
              " '20031088',\n",
              " '20041088',\n",
              " '20031089',\n",
              " '20041089',\n",
              " '20031090',\n",
              " '20041090',\n",
              " '20031091',\n",
              " '20041091',\n",
              " '20031092',\n",
              " '20041092',\n",
              " '20031093',\n",
              " '20041093',\n",
              " '20031094',\n",
              " '20041094',\n",
              " '20031095',\n",
              " '20041095',\n",
              " '20031096',\n",
              " '20041096',\n",
              " '20031097',\n",
              " '20041097',\n",
              " '20031098',\n",
              " '20041098',\n",
              " '20031099',\n",
              " '20041099',\n",
              " '20031100',\n",
              " '20041100',\n",
              " '20031101',\n",
              " '20041101',\n",
              " '20031102',\n",
              " '20041102',\n",
              " '20031103',\n",
              " '20041103',\n",
              " '20031104',\n",
              " '20041104',\n",
              " '20031105',\n",
              " '20041105',\n",
              " '20031106',\n",
              " '20041106',\n",
              " '20031107',\n",
              " '20041107',\n",
              " '20031108',\n",
              " '20041108',\n",
              " '20031109',\n",
              " '20041109',\n",
              " '20031110',\n",
              " '20041110',\n",
              " '20031111',\n",
              " '20041111',\n",
              " '20031112',\n",
              " '20041112',\n",
              " '20031113',\n",
              " '20041113',\n",
              " '20031114',\n",
              " '20041114',\n",
              " '20031115',\n",
              " '20041115',\n",
              " '20031116',\n",
              " '20041116',\n",
              " '20031117',\n",
              " '20041117',\n",
              " '20031118',\n",
              " '20041118',\n",
              " '20031119',\n",
              " '20041119',\n",
              " '20031120',\n",
              " '20041120',\n",
              " '20041121',\n",
              " '20041122',\n",
              " '20041123',\n",
              " '20041124',\n",
              " '20041125',\n",
              " '20041126',\n",
              " '20041127',\n",
              " '20041128',\n",
              " '20041129',\n",
              " '20041130',\n",
              " '20041131',\n",
              " '20041132',\n",
              " '20041133',\n",
              " '20041134',\n",
              " '20041135',\n",
              " '20041136',\n",
              " '20041137',\n",
              " '20041138',\n",
              " '20041139',\n",
              " '20041140',\n",
              " '20041141',\n",
              " '20041142',\n",
              " '20041143',\n",
              " '20041144',\n",
              " '20041145',\n",
              " '20041146',\n",
              " '20041147',\n",
              " '20041148',\n",
              " '20041149',\n",
              " '20041150',\n",
              " '20041151',\n",
              " '20041152',\n",
              " '20041153',\n",
              " '20041154',\n",
              " '20041155',\n",
              " '20041156',\n",
              " '20041157',\n",
              " '20041158',\n",
              " '20041159',\n",
              " '20041160',\n",
              " '20041161',\n",
              " '20041162',\n",
              " '20041163',\n",
              " '20041164',\n",
              " '20041165',\n",
              " '20041166',\n",
              " '20041167',\n",
              " '20041168',\n",
              " '20041169',\n",
              " '20041170',\n",
              " '20041171',\n",
              " '20041172',\n",
              " '20041173',\n",
              " '20041174',\n",
              " '20041175',\n",
              " '20041176',\n",
              " '20041177',\n",
              " '20041178',\n",
              " '20041179',\n",
              " '20041180']"
            ]
          },
          "execution_count": 22,
          "metadata": {},
          "output_type": "execute_result"
        }
      ],
      "source": [
        "ground_df = pd.read_csv(f\"{ground_dir}/\"'2020_SVREC_BN_ground2.csv')\n",
        "ground_df= ground_df.astype(str)\n",
        "ground_list = []\n",
        "\n",
        "for value in ground_df[\"Global_ID\"]:\n",
        "    ground_list.append(value)\n",
        "\n",
        "ground_list"
      ]
    },
    {
      "cell_type": "code",
      "execution_count": 23,
      "metadata": {},
      "outputs": [
        {
          "name": "stdout",
          "output_type": "stream",
          "text": [
            "Data set do not merge with ground and aerial plot numbers\n",
            "300\n",
            "1290\n"
          ]
        }
      ],
      "source": [
        "from distutils.log import error\n",
        "\n",
        "\n",
        "if len(ground_list) == len(plots):\n",
        "    print('Data set has the same lenght to ground and aerial plot numbers')\n",
        "    print(len(ground_list))\n",
        "    print(len(plots))\n",
        "\n",
        "else:\n",
        "    print('Data set do not merge with ground and aerial plot numbers')\n",
        "    print(len(ground_list))\n",
        "    print(len(plots))\n",
        "    \n",
        "\n"
      ]
    },
    {
      "cell_type": "code",
      "execution_count": 24,
      "metadata": {
        "id": "dVvANbvLyQVO"
      },
      "outputs": [
        {
          "data": {
            "application/vnd.jupyter.widget-view+json": {
              "model_id": "e7cda38d4c2f4ca38f2c13618fd2f651",
              "version_major": 2,
              "version_minor": 0
            },
            "text/plain": [
              "  0%|          | 0/6 [00:00<?, ?it/s]"
            ]
          },
          "metadata": {},
          "output_type": "display_data"
        },
        {
          "name": "stdout",
          "output_type": "stream",
          "text": [
            "08_14_2020_RGB_Pix4D.tif\n"
          ]
        },
        {
          "data": {
            "application/vnd.jupyter.widget-view+json": {
              "model_id": "96d08101e4974cc29bf59f181ff4f8f1",
              "version_major": 2,
              "version_minor": 0
            },
            "text/plain": [
              "  0%|          | 0/1290 [00:00<?, ?it/s]"
            ]
          },
          "metadata": {},
          "output_type": "display_data"
        },
        {
          "name": "stdout",
          "output_type": "stream",
          "text": [
            "08_21_2020_RGB_Pix4D.tif\n"
          ]
        },
        {
          "data": {
            "application/vnd.jupyter.widget-view+json": {
              "model_id": "9df1a06cc7e0468f805497a6753309cd",
              "version_major": 2,
              "version_minor": 0
            },
            "text/plain": [
              "  0%|          | 0/1290 [00:00<?, ?it/s]"
            ]
          },
          "metadata": {},
          "output_type": "display_data"
        },
        {
          "name": "stdout",
          "output_type": "stream",
          "text": [
            "08_27_2020_RGB_Pix4D.tif\n"
          ]
        },
        {
          "data": {
            "application/vnd.jupyter.widget-view+json": {
              "model_id": "0ded6a4c508e45b89ce6e531083a5236",
              "version_major": 2,
              "version_minor": 0
            },
            "text/plain": [
              "  0%|          | 0/1290 [00:00<?, ?it/s]"
            ]
          },
          "metadata": {},
          "output_type": "display_data"
        },
        {
          "name": "stdout",
          "output_type": "stream",
          "text": [
            "09_03_2020_RGB_Pix4D.tif\n"
          ]
        },
        {
          "data": {
            "application/vnd.jupyter.widget-view+json": {
              "model_id": "25adde3c15304396b4ed1d6d8f526460",
              "version_major": 2,
              "version_minor": 0
            },
            "text/plain": [
              "  0%|          | 0/1290 [00:00<?, ?it/s]"
            ]
          },
          "metadata": {},
          "output_type": "display_data"
        },
        {
          "name": "stdout",
          "output_type": "stream",
          "text": [
            "09_11_2020_RGB_Pix4D.tif\n"
          ]
        },
        {
          "data": {
            "application/vnd.jupyter.widget-view+json": {
              "model_id": "b5e5a17acd1042fe90b8abdc98956e5d",
              "version_major": 2,
              "version_minor": 0
            },
            "text/plain": [
              "  0%|          | 0/1290 [00:00<?, ?it/s]"
            ]
          },
          "metadata": {},
          "output_type": "display_data"
        },
        {
          "name": "stdout",
          "output_type": "stream",
          "text": [
            "09_17_2020_RGB_Pix4D.tif\n"
          ]
        },
        {
          "data": {
            "application/vnd.jupyter.widget-view+json": {
              "model_id": "64112024b989447db5177c4d268b005e",
              "version_major": 2,
              "version_minor": 0
            },
            "text/plain": [
              "  0%|          | 0/1290 [00:00<?, ?it/s]"
            ]
          },
          "metadata": {},
          "output_type": "display_data"
        }
      ],
      "source": [
        "for tiffile in tqdm(img_list_names):\n",
        "    print(tiffile)\n",
        "\n",
        "    ts = tiffile[0:10]\n",
        "    ts = ts.replace('_', '.')\n",
        "    fmt = '%m.%d.%Y'\n",
        "    dt = datetime.datetime.strptime(ts, fmt)\n",
        "    tt = dt.timetuple()\n",
        "    tt = tt.tm_yday\n",
        "    pl = planting_date\n",
        "    dt2 = datetime.datetime.strptime(pl, fmt)\n",
        "    tt2 = dt2.timetuple()\n",
        "    tt2 = tt2.tm_yday\n",
        "    DOY = str(tt-tt2).zfill(3)\n",
        "   \n",
        "    noPlot_list = []\n",
        "    # Plot_ID_list = []\n",
        "    with fiona.open(f'{shp_dir}/'f'{shp_file}', \"r\") as shapefile:\n",
        "    \n",
        "        for feature in tqdm(shapefile):\n",
        "            \n",
        "            Plot_ID = feature[\"properties\"][plot_num_field_name]\n",
        "            # [k for k in ground_list if Plot_ID in k]  \n",
        "                      \n",
        "            if Plot_ID in ground_list:\n",
        "                shape = [feature[\"geometry\"]]\n",
        "                # Plot_ID_list.append(Plot_ID)\n",
        "                        \n",
        "            # Change the current working directory\n",
        "                os.chdir(img_dir)\n",
        "                \n",
        "                with rasterio.open(tiffile, \"r\") as ras:\n",
        "                    out_image, out_transform = mask(ras, shape, crop=True, nodata=0)\n",
        "                    out_meta = ras.meta\n",
        "                    \n",
        "                    out_image = ma.masked_where(out_image == 0, out_image)\n",
        "                    out_image = ma.filled(out_image.astype(float), np.nan)\n",
        "                    \n",
        "                # Change the current working directory\n",
        "                    os.chdir(f'{plot_dir}')\n",
        "\n",
        "                    new_img_name = trial_name + '_' + Plot_ID + '_' +  DOY + '.png'\n",
        "                    \n",
        "                    out_meta.update({\"driver\": \"PNG\", #GTiff\n",
        "                    \"height\": height,\n",
        "                    \"width\": width,\n",
        "                    \"transform\": out_transform})\n",
        "                    \n",
        "                    with rasterio.open(new_img_name, \"w\", **out_meta) as dest:\n",
        "                        dest.write(out_image)\n",
        "                        #print(new_img_name) \n",
        "\n",
        "            else:\n",
        "                noPlot_list.append(Plot_ID)\n",
        "                pass  "
      ]
    },
    {
      "cell_type": "code",
      "execution_count": 13,
      "metadata": {},
      "outputs": [
        {
          "data": {
            "text/html": [
              "<div>\n",
              "<style scoped>\n",
              "    .dataframe tbody tr th:only-of-type {\n",
              "        vertical-align: middle;\n",
              "    }\n",
              "\n",
              "    .dataframe tbody tr th {\n",
              "        vertical-align: top;\n",
              "    }\n",
              "\n",
              "    .dataframe thead th {\n",
              "        text-align: right;\n",
              "    }\n",
              "</style>\n",
              "<table border=\"1\" class=\"dataframe\">\n",
              "  <thead>\n",
              "    <tr style=\"text-align: right;\">\n",
              "      <th></th>\n",
              "      <th>Plots</th>\n",
              "    </tr>\n",
              "  </thead>\n",
              "  <tbody>\n",
              "    <tr>\n",
              "      <th>0</th>\n",
              "      <td>20131001</td>\n",
              "    </tr>\n",
              "    <tr>\n",
              "      <th>1</th>\n",
              "      <td>20131007</td>\n",
              "    </tr>\n",
              "    <tr>\n",
              "      <th>2</th>\n",
              "      <td>20131013</td>\n",
              "    </tr>\n",
              "    <tr>\n",
              "      <th>3</th>\n",
              "      <td>20131019</td>\n",
              "    </tr>\n",
              "    <tr>\n",
              "      <th>4</th>\n",
              "      <td>20131025</td>\n",
              "    </tr>\n",
              "    <tr>\n",
              "      <th>...</th>\n",
              "      <td>...</td>\n",
              "    </tr>\n",
              "    <tr>\n",
              "      <th>1001</th>\n",
              "      <td>20091126</td>\n",
              "    </tr>\n",
              "    <tr>\n",
              "      <th>1002</th>\n",
              "      <td>20091144</td>\n",
              "    </tr>\n",
              "    <tr>\n",
              "      <th>1003</th>\n",
              "      <td>20091162</td>\n",
              "    </tr>\n",
              "    <tr>\n",
              "      <th>1004</th>\n",
              "      <td>20091180</td>\n",
              "    </tr>\n",
              "    <tr>\n",
              "      <th>1005</th>\n",
              "      <td>20091198</td>\n",
              "    </tr>\n",
              "  </tbody>\n",
              "</table>\n",
              "<p>1006 rows × 1 columns</p>\n",
              "</div>"
            ],
            "text/plain": [
              "         Plots\n",
              "0     20131001\n",
              "1     20131007\n",
              "2     20131013\n",
              "3     20131019\n",
              "4     20131025\n",
              "...        ...\n",
              "1001  20091126\n",
              "1002  20091144\n",
              "1003  20091162\n",
              "1004  20091180\n",
              "1005  20091198\n",
              "\n",
              "[1006 rows x 1 columns]"
            ]
          },
          "execution_count": 13,
          "metadata": {},
          "output_type": "execute_result"
        }
      ],
      "source": [
        "noPlot_ID_list = pd.DataFrame(noPlot_list, columns=['Plots'])\n",
        "noPlot_ID_list\n",
        "#noPlot_ID_list.to_csv('C:\\\\Users\\\\leoag\\\\Michigan State University\\\\MSU Dry Bean Breeding Lab - General\\\\UAS_Beans\\\\2020\\\\SVREC_Mat\\\\f._codes\\\\noPlot.csv')"
      ]
    },
    {
      "cell_type": "code",
      "execution_count": 118,
      "metadata": {
        "id": "tCOzLX5ryQKI"
      },
      "outputs": [],
      "source": [
        "#ep.plot_rgb(out_image, rgb=[0, 1, 2], title=\"Red Green Blue\", stretch=True)"
      ]
    },
    {
      "cell_type": "code",
      "execution_count": 119,
      "metadata": {
        "id": "Zc9z8yBR5g8w"
      },
      "outputs": [
        {
          "data": {
            "image/png": "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                                                                                                                                                                                                                                                                                                                                                                                                                                                                                                                                                                                                                                                                                                                                                                                                                                                                                                                                                                                                                                                                                                                                                                                                                                                                                                                                                                                                                                                                                                                                                                                                                                                                                                                                                                                                                                                                                                                                                                                                                                                                                                                                                                                                                                                                                                                                                                                                                                                                                                                                                                                                                                                                                                                                                                                                                                                                                                                                                                                                                                                                                                                                                                                                                                                                                                                                                                                                                                                                                                                                                                                                                                                                                                                                                                                                                                                                                                                                                                                                                                                                                                                                                                                                                                                                                                                                                                                                                                                                                                                                                                                                                                                                                                                                                                                                                                                                                                                                                                                                                                                                                                                                                                                                                                                                                                                                                                                                                                                                                                                                                                                                                                                                                                                                                                                                                                                                                                                                                                                                                                                                                                                                                                                                                                                                                                                                                                                                                                                                                                                                                                                                                                                                                                                                                                                                                                                                                                                                                                                                                                                                                                                                                                                                                                                                                                                                                                                                                                                                                                                                                                                                                                                                                                                                                                                                                                                                                                                                                                                                                                                                                                                                                                                                                                                                                                                                                                                                                                                                                                                                                                                                                                                                                                                                                                                                                                                                                                                                                                                                                                                                                                                                                                                                                                                                                                                                                                                                                                                                                                                                                                                                                                                                                                                                                                                                                                                                                                                                                                                                                                                                                                                                                                                                                                                                                                                                                                                                                                                                                                                                                                                                                                                                                                                                                                                                                                                                                                                                                                                                                                                                                                                                                                                                                                                                                                                                                                                                                                                                                                                                                                                                                                                                                                                                                                                                                                                                                                                                                                                                                                                                                                                                                                                                                                                                                                                                                                                                                                                                                                                                                                                                                                                                                                                                                                                                                                                                                                                                                                                                                                                                                                                                                                                                                                                                                                                                                                                                                                                                                                                                                                                                                                                                                                                                                                                                                                                                                                                                                                                                                                                                                                                                                                                                                                                                                                                                                                                                                                                                                                                                                                                                                                                                                                                                                                                                                                                                                                                                                                                                                                                                                                                                                                                                                                                                                                                                                                                                                                                                                                                                                                                                                                                                                                                                                                                                                                                                                                                                                                                                                                                                                                                                                                                                                                                                                                                                                                                                                                                                                                                                                                                                                                                                                                                                                                                                                                                                                                                                                                                                                                                                                                                                                                                                                                                                                                                                                                                                                                                                                                                                                                                                                                                                                                                                                                                                                                                                                                                                                                                                                                                                                                                                                                                                                                                                                                                                                                                                                                                                                                                                                                                                                                                                                                                                                                                                                                                                                                                                                                                                                                                                                                                                                                                                                                                                                                                                                                                                                                                                                                                                                                                                                                                                                                                                                                                                                                                                                                                                                                                                                                                                                                                                                                                                                                                                                                                                                                                                                                                                                                                                                                                                                                                                                                                                                                                                                                                                                                                                                                                                                                                                                                                                                                                                                                                                                                                                                                                                                                                                                                                                                                                                                                                                                                                                                                                                                                                                                                                                                                                                                                                                                                                                                                                                                                                                                                                                                                                                                                                                                                                                                                                                                                                                                                                                                                                                                                                                                                                                                                                                                                                                                                                                                                                                                                                                                                                                                                                                                                                                                                                                                                                                                                                                                                                                                                                                                                                                                                                                                                                                                                                                                                                                                                                                                                                                                                                                                                                                                                                                                                                                                                                                                                                                                                                                                                                                                                                                                                                                                                                                                                                                                                                                                                                                                                                                                                                                                                                                                                                                                                                                                                                                                                                                                                                                                                                                                                                                                                                                                                                                                                                                                                                                                                                                                                                                                                                                                                                                                                                                                                                                                                                                                                                                                                                                                                                                                                                                                                                                                                                                                                                                                                                                                                                                                                                                                                                                                                                                                                                                                                                                                                                                                                                                                                                                                                                                                                                                                                                                                                                                                                                                                                                                                                                                                                                                                                                                                                                                                                                                                                                                                                                                                                                                                                                                                                                                                                                                                                                                                                                                                                                                                                                                                                                                                                                                                                                                                                                                                                                                                                                                                                                                                                                                                                                                                                                                                                                                                                                                                                                                                                                                                                                                                                                                                                                                                                                                                                                                                                                                                                                                                                                                                                                                                                                                                                                                                                                                                                                                                                                                                                                                                                                                                                                                                                                                                                                                                                                                                                                                                                                                                                                                                                                                                                                                                                                                                                                                                                                                                                                                                                                                                                                                                                                                                                                                                                                                                                                                                                                                                                                                                                                                                                                                                                                                                                                                                                                                                                                                                                                                                                                                                                                                                                                                                                                                                                                                                                                                                                                                                                                                                                                                                                                                                                                                                                                                                                                                                                                                                                                                                                                                                                                                                                                                                                                                                                                                                                                                                                                                                                                                                                                                                                                                                                                                                                                                                                                                                                                                                                                                                                                                                                                                                                                                                                                                                                                                                                                                                                                                                                                                                                                                                                                                                                                                                                                                                                                                                                                                                                                                                                                                                                                                                                                                                                                                                                                                                                                                                                                                                                                                                                                                                                                                                                                                                                                                                                                                                                                                                                                                                                                                                                                                                                                                                                                                                                                                                                                                                                                                                                                                                                                                                                                                                                                                                                                                                                                                                                                                                                                                                                                                                                                                                                                                                                                                                                                                                                                                                                                                                                                                                                                                                                                                                                                                                                                                                                                                                                                                                                                                                                                                                                                                                                                                                                                                                                                                                                                                                                                                                                                                                                                                                                                                                                                                                                                                                                                                                                                                                                                                                                                                                                                                                                                                                                                                                                                                                                                                                                                                                                                                                                                                                                                                                                                                                                                                                                                                                                                                                                                                                                                                                                                                                                                                                                                                                                                                                                                                                                                                                                                                                                                                                                                                                                                                                                                                                                                                                                                                                                                                                                                                                                                                                                                                                                                                                                                                                                                                                                                                                                                                                                                                                                                                                                                                                                                                                                                                                                                                                                                                                                                                                                                                                                                                                                                                                                                                                                                                                                                                                                                                                                                                                                                                                                                                                                                                                                                                                                                                                                                                                                                                                                                                                                                                                                                                                                                                                                                                                                                                                                                                                                                                                                                                                                                                                                                                                                                                                                                                                                                                                                                                                                                                                                                                                                                                                                                                                                                                                                                                                                                                                                                                                                                                                                                                                                                                                                                                                                                                                                                                                                                                                                                                                                                                                                                                                                                                                                                                                                                                                                                                                                                                                                                                                                                                                                                                                                                                                                                                                                                                                                                                                                                                                                                                                                                                                                                                                                                                                                                                                                                                                                                                                                                                                                                                                                                                                                                                                                                                                                                                                                                                                                                                                                                                                                                                                                                                                                                                                                                                                                                                                                                                                                                                                                                                                                                                                                                                                                                                                                                                                                                                                                                                                                                                                                                                                                                                                                                                                                          