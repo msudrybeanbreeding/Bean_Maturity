{
  "cells": [
    {
      "cell_type": "code",
      "execution_count": 1,
      "metadata": {
        "colab": {
          "base_uri": "https://localhost:8080/"
        },
        "id": "8Wx9Zbjiv0GD",
        "outputId": "5525c8d3-8d4a-4e49-8ba0-4eefea4e0a9e"
      },
      "outputs": [],
      "source": [
        "# %pip install rasterio\n",
        "# %pip install geopandas\n",
        "# %pip install fiona\n",
        "# %pip install earthpy\n",
        "\n",
        "\n",
        "import numpy as np\n",
        "import numpy.ma as ma\n",
        "#from matplotlib import pyplot as plt\n",
        "import rasterio\n",
        "import geopandas as gpd\n",
        "#import rasterstats as rs\n",
        "#from IPython.display import display\n",
        "import pandas as pd\n",
        "import os\n",
        "import fiona\n",
        "import rasterio.mask\n",
        "#import matplotlib.pyplot as plt\n",
        "import warnings\n",
        "import rasterio\n",
        "import rasterio.features\n",
        "warnings.filterwarnings('ignore') #don't display warnings\n",
        "from rasterio.mask import mask\n",
        "#import earthpy.plot as ep\n",
        "import cv2\n",
        "import datetime\n",
        "from tqdm.auto import tqdm"
      ]
    },
    {
      "cell_type": "code",
      "execution_count": 2,
      "metadata": {
        "colab": {
          "base_uri": "https://localhost:8080/"
        },
        "id": "LXk-g-S2x0Pl",
        "outputId": "e4c2e12a-de24-4216-eb1a-6cedb8e8d077"
      },
      "outputs": [],
      "source": [
        "# from google.colab import drive\n",
        "# drive.mount('/content/drive')"
      ]
    },
    {
      "cell_type": "code",
      "execution_count": 3,
      "metadata": {
        "colab": {
          "base_uri": "https://localhost:8080/"
        },
        "id": "vb_GWym5v5m6",
        "outputId": "60344797-585d-4116-be6b-8394af3b2aff"
      },
      "outputs": [
        {
          "name": "stdout",
          "output_type": "stream",
          "text": [
            "['fid_1', 'PlotID', 'Global_ID', 'Plot', 'ENTRY', 'REP', 'Rng', 'Pas', 'Name', 'Identity1', 'Pedigree', 'Experiment', 'Origin', 'Selection', 'Descriptio', 'Year', 'Location', 'Planter', 'Harvester', 'IBLK', 'geometry']\n"
          ]
        }
      ],
      "source": [
        "root_file = 'C:\\\\Users\\\\leoag\\\\Michigan State University\\\\MSU Dry Bean Breeding Lab - General\\\\UAS_Beans\\\\2022\\\\SVREC_Mat'\n",
        "shp_file = \"2022_SVREC_Shp_Plots_final01.shp\"\n",
        "img_dir= f\"{root_file}/\"'b._Orthomosaics'\n",
        "shp_dir = f\"{root_file}/\"'c._Shapefiles'\n",
        "plot_dir = f\"{root_file}/\"'e._ClipPlots_BN_512_128'\n",
        "ground_dir = f\"{root_file}/\"'d._Ground_notes'\n",
        "\n",
        "#os.chdir('/content/drive/MyDrive/temp_roi')\n",
        "\n",
        "#plots_img = '/plots_img'\n",
        "\n",
        "# try:\n",
        "#     os.mkdir(plot_dir)\n",
        "# except:\n",
        "#   pass\n",
        "# os.chdir(img_dir)\n",
        "# # Print the current working directory\n",
        "# print(\"Current working directory: {0}\".format(os.getcwd()))\n",
        "#DIR_TEST = f'{DIR_INPUT}/test'\n",
        "plots = gpd.read_file(f'{shp_dir}' f'/{shp_file}')\n",
        "\n",
        "plots_names=list(plots.columns.values)\n",
        "print(plots_names)"
      ]
    },
    {
      "cell_type": "code",
      "execution_count": 4,
      "metadata": {
        "colab": {
          "base_uri": "https://localhost:8080/"
        },
        "id": "OEAH1u34yQht",
        "outputId": "502edd06-20fc-490b-c026-e2f3bccb09d6"
      },
      "outputs": [
        {
          "name": "stdout",
          "output_type": "stream",
          "text": [
            "{'type': 'Feature', 'id': '0', 'properties': OrderedDict([('fid_1', 1.0), ('PlotID', '34'), ('Global_ID', '2216_1036'), ('Plot', '1036'), ('ENTRY', '36'), ('REP', '1'), ('Rng', '12'), ('Pas', '125'), ('Name', 'R20627'), ('Identity1', None), ('Pedigree', 'R17605/R16503'), ('Experiment', '2216'), ('Origin', '18R623-03-02'), ('Selection', '19-20T1497'), ('Descriptio', '18A0623-18L611-18-19T1968-19T1719-19-20T1497'), ('Year', '2022'), ('Location', 'SVREC'), ('Planter', '1624'), ('Harvester', '2276'), ('IBLK', None)]), 'geometry': {'type': 'Polygon', 'coordinates': [[(281577.12208533555, 4808367.105865113), (281577.13648992963, 4808367.905735421), (281581.1358414635, 4808367.83371245), (281581.12143686943, 4808367.033842144), (281577.12208533555, 4808367.105865113)]]}}\n"
          ]
        }
      ],
      "source": [
        "shp_file_info=fiona.open(f'{shp_dir}/'f'{shp_file}', \"r\") \n",
        "#first feature of the shapefile\n",
        "shp_file_inf = shp_file_info.next()\n",
        "print(shp_file_inf)"
      ]
    },
    {
      "cell_type": "code",
      "execution_count": 5,
      "metadata": {
        "colab": {
          "base_uri": "https://localhost:8080/"
        },
        "id": "9ZDNNXklyQeV",
        "outputId": "610f833a-b407-4993-913a-dbb55fac64f6"
      },
      "outputs": [
        {
          "name": "stdout",
          "output_type": "stream",
          "text": [
            "['07_20_2022_SVREC_RGB.tif', '08_18_2022_SVREC_RGB.tif', '08_20_2022_SVREC_RGB.tif', '08_23_2022_SVREC_RGB.tif', '08_26_2022_SVREC_RGB.tif', '08_30_2022_SVREC_RGB.tif', '09_02_2022_SVREC_RGB.tif', '09_05_2022_SVREC_RGB.tif', '09_08_2022_SVREC_RGB.tif', '09_13_2022_SVREC_RGB.tif', '09_16_2022_SVREC_RGB.tif']\n"
          ]
        }
      ],
      "source": [
        "img_list = os.listdir(img_dir)\n",
        "img_list = [v for v in img_list if v.endswith('.tif')]\n",
        "print(img_list)"
      ]
    },
    {
      "cell_type": "code",
      "execution_count": 6,
      "metadata": {
        "colab": {
          "base_uri": "https://localhost:8080/"
        },
        "id": "2FsbZzgayQbp",
        "outputId": "6371493c-77b2-436d-82c8-2cc18bb25566"
      },
      "outputs": [
        {
          "name": "stdout",
          "output_type": "stream",
          "text": [
            "0\n",
            "1\n",
            "2\n",
            "3\n",
            "4\n",
            "5\n",
            "6\n",
            "7\n",
            "8\n",
            "9\n",
            "10\n",
            "['07_20_2022_SVREC_RGB.tif', '08_18_2022_SVREC_RGB.tif', '08_20_2022_SVREC_RGB.tif', '08_23_2022_SVREC_RGB.tif', '08_26_2022_SVREC_RGB.tif', '08_30_2022_SVREC_RGB.tif', '09_02_2022_SVREC_RGB.tif', '09_05_2022_SVREC_RGB.tif', '09_08_2022_SVREC_RGB.tif', '09_13_2022_SVREC_RGB.tif', '09_16_2022_SVREC_RGB.tif']\n"
          ]
        }
      ],
      "source": [
        "# Create an empty list to store the img names\n",
        "img_list_names = []\n",
        "\n",
        "for l in range(len(img_list)):\n",
        "    print(l)\n",
        "    img_list_names.append(str(img_list[l]))\n",
        "\n",
        "print(img_list_names)"
      ]
    },
    {
      "cell_type": "code",
      "execution_count": 7,
      "metadata": {
        "id": "pi6IHxPCyQY1"
      },
      "outputs": [],
      "source": [
        "plot_num_field_name = \"Global_ID\"\n",
        "trial_name = \"SVREC\"\n",
        "planting_date = '06.01.2021'\n",
        "\n",
        "width = 512 #256\n",
        "height = 128 #64"
      ]
    },
    {
      "cell_type": "code",
      "execution_count": 8,
      "metadata": {
        "colab": {
          "base_uri": "https://localhost:8080/"
        },
        "id": "34t7hfCwqHN5",
        "outputId": "05599bc2-a2fe-4c1f-cde1-193b667939f4"
      },
      "outputs": [
        {
          "name": "stdout",
          "output_type": "stream",
          "text": [
            "['049', '078', '080', '083', '086', '090', '093', '096', '099', '104', '107']\n"
          ]
        }
      ],
      "source": [
        "# Create an empty list to store DOY from the image names\n",
        "img_DOY_list = []\n",
        "\n",
        "for l in range(len(img_list)):\n",
        "    img_DOY = str(img_list[l]) \n",
        "    ts = img_DOY[0:10]\n",
        "    ts = ts.replace('_', '.')\n",
        "    fmt = '%m.%d.%Y'\n",
        "\n",
        "    dt = datetime.datetime.strptime(ts, fmt)\n",
        "    tt = dt.timetuple()\n",
        "    tt = tt.tm_yday\n",
        "\n",
        "    pl = planting_date\n",
        "    dt2 = datetime.datetime.strptime(pl, fmt)\n",
        "    tt2 = dt2.timetuple()\n",
        "    tt2 = tt2.tm_yday\n",
        "\n",
        "    tt_f = str(tt-tt2).zfill(3)\n",
        "\n",
        "    img_DOY_list.append(tt_f)\n",
        "\n",
        "print(img_DOY_list)"
      ]
    },
    {
      "cell_type": "code",
      "execution_count": 9,
      "metadata": {},
      "outputs": [
        {
          "data": {
            "text/plain": [
              "['22011001',\n",
              " '22011002',\n",
              " '22011003',\n",
              " '22011004',\n",
              " '22011005',\n",
              " '22011006',\n",
              " '22011007',\n",
              " '22011008',\n",
              " '22011009',\n",
              " '22011010',\n",
              " '22011011',\n",
              " '22011012',\n",
              " '22011013',\n",
              " '22011014',\n",
              " '22011015',\n",
              " '22011016',\n",
              " '22011017',\n",
              " '22011018',\n",
              " '22011019',\n",
              " '22011020',\n",
              " '22011021',\n",
              " '22011022',\n",
              " '22011023',\n",
              " '22011024',\n",
              " '22011025',\n",
              " '22011026',\n",
              " '22011027',\n",
              " '22011028',\n",
              " '22011029',\n",
              " '22011030',\n",
              " '22011031',\n",
              " '22011032',\n",
              " '22011033',\n",
              " '22011034',\n",
              " '22011035',\n",
              " '22011036',\n",
              " '22012001',\n",
              " '22012002',\n",
              " '22012003',\n",
              " '22012004',\n",
              " '22012005',\n",
              " '22012006',\n",
              " '22012007',\n",
              " '22012008',\n",
              " '22012009',\n",
              " '22012010',\n",
              " '22012011',\n",
              " '22012012',\n",
              " '22012013',\n",
              " '22012014',\n",
              " '22012015',\n",
              " '22012016',\n",
              " '22012017',\n",
              " '22012018',\n",
              " '22012019',\n",
              " '22012020',\n",
              " '22012021',\n",
              " '22012022',\n",
              " '22012023',\n",
              " '22012024',\n",
              " '22012025',\n",
              " '22012026',\n",
              " '22012027',\n",
              " '22012028',\n",
              " '22012029',\n",
              " '22012030',\n",
              " '22012031',\n",
              " '22012032',\n",
              " '22012033',\n",
              " '22012034',\n",
              " '22012035',\n",
              " '22012036',\n",
              " '22013001',\n",
              " '22013002',\n",
              " '22013003',\n",
              " '22013004',\n",
              " '22013005',\n",
              " '22013006',\n",
              " '22013007',\n",
              " '22013008',\n",
              " '22013009',\n",
              " '22013010',\n",
              " '22013011',\n",
              " '22013012',\n",
              " '22013013',\n",
              " '22013014',\n",
              " '22013015',\n",
              " '22013016',\n",
              " '22013017',\n",
              " '22013018',\n",
              " '22013019',\n",
              " '22013020',\n",
              " '22013021',\n",
              " '22013022',\n",
              " '22013023',\n",
              " '22013024',\n",
              " '22013025',\n",
              " '22013026',\n",
              " '22013027',\n",
              " '22013028',\n",
              " '22013029',\n",
              " '22013030',\n",
              " '22013031',\n",
              " '22013032',\n",
              " '22013033',\n",
              " '22013034',\n",
              " '22013035',\n",
              " '22013036',\n",
              " '22014001',\n",
              " '22014002',\n",
              " '22014003',\n",
              " '22014004',\n",
              " '22014005',\n",
              " '22014006',\n",
              " '22014007',\n",
              " '22014008',\n",
              " '22014009',\n",
              " '22014010',\n",
              " '22014011',\n",
              " '22014012',\n",
              " '22014013',\n",
              " '22014014',\n",
              " '22014015',\n",
              " '22014016',\n",
              " '22014017',\n",
              " '22014018',\n",
              " '22014019',\n",
              " '22014020',\n",
              " '22014021',\n",
              " '22014022',\n",
              " '22014023',\n",
              " '22014024',\n",
              " '22014025',\n",
              " '22014026',\n",
              " '22014027',\n",
              " '22014028',\n",
              " '22014029',\n",
              " '22014030',\n",
              " '22014031',\n",
              " '22014032',\n",
              " '22014033',\n",
              " '22014034',\n",
              " '22014035',\n",
              " '22014036',\n",
              " '22021001',\n",
              " '22021002',\n",
              " '22021003',\n",
              " '22021004',\n",
              " '22021005',\n",
              " '22021006',\n",
              " '22021007',\n",
              " '22021008',\n",
              " '22021009',\n",
              " '22021010',\n",
              " '22021011',\n",
              " '22021012',\n",
              " '22021013',\n",
              " '22021014',\n",
              " '22021015',\n",
              " '22021016',\n",
              " '22021017',\n",
              " '22021018',\n",
              " '22021019',\n",
              " '22021020',\n",
              " '22021021',\n",
              " '22021022',\n",
              " '22021023',\n",
              " '22021024',\n",
              " '22021025',\n",
              " '22021026',\n",
              " '22021027',\n",
              " '22021028',\n",
              " '22021029',\n",
              " '22021030',\n",
              " '22022001',\n",
              " '22022002',\n",
              " '22022003',\n",
              " '22022004',\n",
              " '22022005',\n",
              " '22022006',\n",
              " '22022007',\n",
              " '22022008',\n",
              " '22022009',\n",
              " '22022010',\n",
              " '22022011',\n",
              " '22022012',\n",
              " '22022013',\n",
              " '22022014',\n",
              " '22022015',\n",
              " '22022016',\n",
              " '22022017',\n",
              " '22022018',\n",
              " '22022019',\n",
              " '22022020',\n",
              " '22022021',\n",
              " '22022022',\n",
              " '22022023',\n",
              " '22022024',\n",
              " '22022025',\n",
              " '22022026',\n",
              " '22022027',\n",
              " '22022028',\n",
              " '22022029',\n",
              " '22022030',\n",
              " '22023001',\n",
              " '22023002',\n",
              " '22023003',\n",
              " '22023004',\n",
              " '22023005',\n",
              " '22023006',\n",
              " '22023007',\n",
              " '22023008',\n",
              " '22023009',\n",
              " '22023010',\n",
              " '22023011',\n",
              " '22023012',\n",
              " '22023013',\n",
              " '22023014',\n",
              " '22023015',\n",
              " '22023016',\n",
              " '22023017',\n",
              " '22023018',\n",
              " '22023019',\n",
              " '22023020',\n",
              " '22023021',\n",
              " '22023022',\n",
              " '22023023',\n",
              " '22023024',\n",
              " '22023025',\n",
              " '22023026',\n",
              " '22023027',\n",
              " '22023028',\n",
              " '22023029',\n",
              " '22023030',\n",
              " '22024001',\n",
              " '22024002',\n",
              " '22024003',\n",
              " '22024004',\n",
              " '22024005',\n",
              " '22024006',\n",
              " '22024007',\n",
              " '22024008',\n",
              " '22024009',\n",
              " '22024010',\n",
              " '22024011',\n",
              " '22024012',\n",
              " '22024013',\n",
              " '22024014',\n",
              " '22024015',\n",
              " '22024016',\n",
              " '22024017',\n",
              " '22024018',\n",
              " '22024019',\n",
              " '22024020',\n",
              " '22024021',\n",
              " '22024022',\n",
              " '22024023',\n",
              " '22024024',\n",
              " '22024025',\n",
              " '22024026',\n",
              " '22024027',\n",
              " '22024028',\n",
              " '22024029',\n",
              " '22024030',\n",
              " '22051001',\n",
              " '22051002',\n",
              " '22051003',\n",
              " '22051004',\n",
              " '22051005',\n",
              " '22051006',\n",
              " '22051007',\n",
              " '22051008',\n",
              " '22051009',\n",
              " '22051010',\n",
              " '22051011',\n",
              " '22051012',\n",
              " '22051013',\n",
              " '22051014',\n",
              " '22051015',\n",
              " '22051016',\n",
              " '22051017',\n",
              " '22051018',\n",
              " '22051019',\n",
              " '22051020',\n",
              " '22051021',\n",
              " '22051022',\n",
              " '22051023',\n",
              " '22051024',\n",
              " '22051025',\n",
              " '22051026',\n",
              " '22051027',\n",
              " '22051028',\n",
              " '22051029',\n",
              " '22051030',\n",
              " '22051031',\n",
              " '22051032',\n",
              " '22051033',\n",
              " '22051034',\n",
              " '22051035',\n",
              " '22051036',\n",
              " '22051037',\n",
              " '22051038',\n",
              " '22051039',\n",
              " '22051040',\n",
              " '22052001',\n",
              " '22052002',\n",
              " '22052003',\n",
              " '22052004',\n",
              " '22052005',\n",
              " '22052006',\n",
              " '22052007',\n",
              " '22052008',\n",
              " '22052009',\n",
              " '22052010',\n",
              " '22052011',\n",
              " '22052012',\n",
              " '22052013',\n",
              " '22052014',\n",
              " '22052015',\n",
              " '22052016',\n",
              " '22052017',\n",
              " '22052018',\n",
              " '22052019',\n",
              " '22052020',\n",
              " '22052021',\n",
              " '22052022',\n",
              " '22052023',\n",
              " '22052024',\n",
              " '22052025',\n",
              " '22052026',\n",
              " '22052027',\n",
              " '22052028',\n",
              " '22052029',\n",
              " '22052030',\n",
              " '22052031',\n",
              " '22052032',\n",
              " '22052033',\n",
              " '22052034',\n",
              " '22052035',\n",
              " '22052036',\n",
              " '22052037',\n",
              " '22052038',\n",
              " '22052039',\n",
              " '22052040',\n",
              " '22053001',\n",
              " '22053002',\n",
              " '22053003',\n",
              " '22053004',\n",
              " '22053005',\n",
              " '22053006',\n",
              " '22053007',\n",
              " '22053008',\n",
              " '22053009',\n",
              " '22053010',\n",
              " '22053011',\n",
              " '22053012',\n",
              " '22053013',\n",
              " '22053014',\n",
              " '22053015',\n",
              " '22053016',\n",
              " '22053017',\n",
              " '22053018',\n",
              " '22053019',\n",
              " '22053020',\n",
              " '22053021',\n",
              " '22053022',\n",
              " '22053023',\n",
              " '22053024',\n",
              " '22053025',\n",
              " '22053026',\n",
              " '22053027',\n",
              " '22053028',\n",
              " '22053029',\n",
              " '22053030',\n",
              " '22053031',\n",
              " '22053032',\n",
              " '22053033',\n",
              " '22053034',\n",
              " '22053035',\n",
              " '22053036',\n",
              " '22053037',\n",
              " '22053038',\n",
              " '22053039',\n",
              " '22053040',\n",
              " '22061001',\n",
              " '22061002',\n",
              " '22061003',\n",
              " '22061004',\n",
              " '22061005',\n",
              " '22061006',\n",
              " '22061007',\n",
              " '22061008',\n",
              " '22061009',\n",
              " '22061010',\n",
              " '22061011',\n",
              " '22061012',\n",
              " '22061013',\n",
              " '22061014',\n",
              " '22061015',\n",
              " '22061016',\n",
              " '22061017',\n",
              " '22061018',\n",
              " '22061019',\n",
              " '22061020',\n",
              " '22061021',\n",
              " '22061022',\n",
              " '22061023',\n",
              " '22061024',\n",
              " '22061025',\n",
              " '22061026',\n",
              " '22061027',\n",
              " '22061028',\n",
              " '22061029',\n",
              " '22061030',\n",
              " '22061031',\n",
              " '22061032',\n",
              " '22061033',\n",
              " '22061034',\n",
              " '22061035',\n",
              " '22061036',\n",
              " '22061037',\n",
              " '22061038',\n",
              " '22061039',\n",
              " '22061040',\n",
              " '22061041',\n",
              " '22061042',\n",
              " '22061043',\n",
              " '22061044',\n",
              " '22061045',\n",
              " '22061046',\n",
              " '22061047',\n",
              " '22061048',\n",
              " '22061049',\n",
              " '22061050',\n",
              " '22061051',\n",
              " '22061052',\n",
              " '22061053',\n",
              " '22061054',\n",
              " '22061055',\n",
              " '22061056',\n",
              " '22061057',\n",
              " '22061058',\n",
              " '22061059',\n",
              " '22061060',\n",
              " '22061061',\n",
              " '22061062',\n",
              " '22061063',\n",
              " '22061064',\n",
              " '22061065',\n",
              " '22061066',\n",
              " '22061067',\n",
              " '22061068',\n",
              " '22061069',\n",
              " '22061070',\n",
              " '22061071',\n",
              " '22061072',\n",
              " '22061073',\n",
              " '22061074',\n",
              " '22061075',\n",
              " '22061076',\n",
              " '22061077',\n",
              " '22061078',\n",
              " '22061079',\n",
              " '22061080',\n",
              " '22061081',\n",
              " '22061082',\n",
              " '22061083',\n",
              " '22061084',\n",
              " '22062001',\n",
              " '22062002',\n",
              " '22062003',\n",
              " '22062004',\n",
              " '22062005',\n",
              " '22062006',\n",
              " '22062007',\n",
              " '22062008',\n",
              " '22062009',\n",
              " '22062010',\n",
              " '22062011',\n",
              " '22062012',\n",
              " '22062013',\n",
              " '22062014',\n",
              " '22062015',\n",
              " '22062016',\n",
              " '22062017',\n",
              " '22062018',\n",
              " '22062019',\n",
              " '22062020',\n",
              " '22062021',\n",
              " '22062022',\n",
              " '22062023',\n",
              " '22062024',\n",
              " '22062025',\n",
              " '22062026',\n",
              " '22062027',\n",
              " '22062028',\n",
              " '22062029',\n",
              " '22062030',\n",
              " '22062031',\n",
              " '22062032',\n",
              " '22062033',\n",
              " '22062034',\n",
              " '22062035',\n",
              " '22062036',\n",
              " '22062037',\n",
              " '22062038',\n",
              " '22062039',\n",
              " '22062040',\n",
              " '22062041',\n",
              " '22062042',\n",
              " '22062043',\n",
              " '22062044',\n",
              " '22062045',\n",
              " '22062046',\n",
              " '22062047',\n",
              " '22062048',\n",
              " '22062049',\n",
              " '22062050',\n",
              " '22062051',\n",
              " '22062052',\n",
              " '22062053',\n",
              " '22062054',\n",
              " '22062055',\n",
              " '22062056',\n",
              " '22062057',\n",
              " '22062058',\n",
              " '22062059',\n",
              " '22062060',\n",
              " '22062061',\n",
              " '22062062',\n",
              " '22062063',\n",
              " '22062064',\n",
              " '22062065',\n",
              " '22062066',\n",
              " '22062067',\n",
              " '22062068',\n",
              " '22062069',\n",
              " '22062070',\n",
              " '22062071',\n",
              " '22062072',\n",
              " '22062073',\n",
              " '22062074',\n",
              " '22062075',\n",
              " '22062076',\n",
              " '22062077',\n",
              " '22062078',\n",
              " '22062079',\n",
              " '22062080',\n",
              " '22062081',\n",
              " '22062082',\n",
              " '22062083',\n",
              " '22062084',\n",
              " '22063001',\n",
              " '22063002',\n",
              " '22063003',\n",
              " '22063004',\n",
              " '22063005',\n",
              " '22063006',\n",
              " '22063007',\n",
              " '22063008',\n",
              " '22063009',\n",
              " '22063010',\n",
              " '22063011',\n",
              " '22063012',\n",
              " '22063013',\n",
              " '22063014',\n",
              " '22063015',\n",
              " '22063016',\n",
              " '22063017',\n",
              " '22063018',\n",
              " '22063019',\n",
              " '22063020',\n",
              " '22063021',\n",
              " '22063022',\n",
              " '22063023',\n",
              " '22063024',\n",
              " '22063025',\n",
              " '22063026',\n",
              " '22063027',\n",
              " '22063028',\n",
              " '22063029',\n",
              " '22063030',\n",
              " '22063031',\n",
              " '22063032',\n",
              " '22063033',\n",
              " '22063034',\n",
              " '22063035',\n",
              " '22063036',\n",
              " '22063037',\n",
              " '22063038',\n",
              " '22063039',\n",
              " '22063040',\n",
              " '22063041',\n",
              " '22063042',\n",
              " '22063043',\n",
              " '22063044',\n",
              " '22063045',\n",
              " '22063046',\n",
              " '22063047',\n",
              " '22063048',\n",
              " '22063049',\n",
              " '22063050',\n",
              " '22063051',\n",
              " '22063052',\n",
              " '22063053',\n",
              " '22063054',\n",
              " '22063055',\n",
              " '22063056',\n",
              " '22063057',\n",
              " '22063058',\n",
              " '22063059',\n",
              " '22063060',\n",
              " '22063061',\n",
              " '22063062',\n",
              " '22063063',\n",
              " '22063064',\n",
              " '22063065',\n",
              " '22063066',\n",
              " '22063067',\n",
              " '22063068',\n",
              " '22063069',\n",
              " '22063070',\n",
              " '22063071',\n",
              " '22063072',\n",
              " '22063073',\n",
              " '22063074',\n",
              " '22063075',\n",
              " '22063076',\n",
              " '22063077',\n",
              " '22063078',\n",
              " '22063079',\n",
              " '22063080',\n",
              " '22063081',\n",
              " '22063082',\n",
              " '22063083',\n",
              " '22063084']"
            ]
          },
          "execution_count": 9,
          "metadata": {},
          "output_type": "execute_result"
        }
      ],
      "source": [
        "ground_df = pd.read_csv(f\"{ground_dir}/\"'22_SVREC_BN_ground.csv', usecols=(0,1)).astype(str)\n",
        "#ground_df= ground_df.astype(str)\n",
        "ground_list = []\n",
        "\n",
        "for value in ground_df[\"Global_ID\"]:\n",
        "    ground_list.append(value)\n",
        "\n",
        "ground_list"
      ]
    },
    {
      "cell_type": "code",
      "execution_count": 10,
      "metadata": {},
      "outputs": [
        {
          "name": "stdout",
          "output_type": "stream",
          "text": [
            "Data set do not merge with ground and aerial plot numbers\n",
            "636\n",
            "1812\n"
          ]
        }
      ],
      "source": [
        "if len(ground_list) == len(plots):\n",
        "    print('Data set has the same lenght to ground and aerial plot numbers')\n",
        "    print(len(ground_list))\n",
        "    print(len(plots))\n",
        "\n",
        "else:\n",
        "    print('Data set do not merge with ground and aerial plot numbers')\n",
        "    print(len(ground_list))\n",
        "    print(len(plots))\n",
        "    \n",
        "\n",
        "# len(ground_list)\n",
        "# len(plots)"
      ]
    },
    {
      "cell_type": "code",
      "execution_count": 11,
      "metadata": {
        "id": "dVvANbvLyQVO"
      },
      "outputs": [
        {
          "data": {
            "application/vnd.jupyter.widget-view+json": {
              "model_id": "ee44338cd1ac456d9f8aa24b619fcd01",
              "version_major": 2,
              "version_minor": 0
            },
            "text/plain": [
              "  0%|          | 0/11 [00:00<?, ?it/s]"
            ]
          },
          "metadata": {},
          "output_type": "display_data"
        },
        {
          "name": "stdout",
          "output_type": "stream",
          "text": [
            "07_20_2022_SVREC_RGB.tif\n"
          ]
        },
        {
          "data": {
            "application/vnd.jupyter.widget-view+json": {
              "model_id": "812feae0cb0142739306f9bfce54a1f7",
              "version_major": 2,
              "version_minor": 0
            },
            "text/plain": [
              "  0%|          | 0/1812 [00:00<?, ?it/s]"
            ]
          },
          "metadata": {},
          "output_type": "display_data"
        },
        {
          "name": "stdout",
          "output_type": "stream",
          "text": [
            "08_18_2022_SVREC_RGB.tif\n"
          ]
        },
        {
          "data": {
            "application/vnd.jupyter.widget-view+json": {
              "model_id": "91ab06583be34dea9cc1171a0bc63998",
              "version_major": 2,
              "version_minor": 0
            },
            "text/plain": [
              "  0%|          | 0/1812 [00:00<?, ?it/s]"
            ]
          },
          "metadata": {},
          "output_type": "display_data"
        },
        {
          "name": "stdout",
          "output_type": "stream",
          "text": [
            "08_20_2022_SVREC_RGB.tif\n"
          ]
        },
        {
          "data": {
            "application/vnd.jupyter.widget-view+json": {
              "model_id": "b2ee0ed86c354bb5bf38b1a5334fe430",
              "version_major": 2,
              "version_minor": 0
            },
            "text/plain": [
              "  0%|          | 0/1812 [00:00<?, ?it/s]"
            ]
          },
          "metadata": {},
          "output_type": "display_data"
        },
        {
          "name": "stdout",
          "output_type": "stream",
          "text": [
            "08_23_2022_SVREC_RGB.tif\n"
          ]
        },
        {
          "data": {
            "application/vnd.jupyter.widget-view+json": {
              "model_id": "b19dad917c574fa896ccb8cc07401cbb",
              "version_major": 2,
              "version_minor": 0
            },
            "text/plain": [
              "  0%|          | 0/1812 [00:00<?, ?it/s]"
            ]
          },
          "metadata": {},
          "output_type": "display_data"
        },
        {
          "name": "stdout",
          "output_type": "stream",
          "text": [
            "08_26_2022_SVREC_RGB.tif\n"
          ]
        },
        {
          "data": {
            "application/vnd.jupyter.widget-view+json": {
              "model_id": "54f72765fe344a36bc67bfc8d2a8dcfb",
              "version_major": 2,
              "version_minor": 0
            },
            "text/plain": [
              "  0%|          | 0/1812 [00:00<?, ?it/s]"
            ]
          },
          "metadata": {},
          "output_type": "display_data"
        },
        {
          "name": "stdout",
          "output_type": "stream",
          "text": [
            "08_30_2022_SVREC_RGB.tif\n"
          ]
        },
        {
          "data": {
            "application/vnd.jupyter.widget-view+json": {
              "model_id": "47a138fa065e49d182279f3b1c04e7f0",
              "version_major": 2,
              "version_minor": 0
            },
            "text/plain": [
              "  0%|          | 0/1812 [00:00<?, ?it/s]"
            ]
          },
          "metadata": {},
          "output_type": "display_data"
        },
        {
          "name": "stdout",
          "output_type": "stream",
          "text": [
            "09_02_2022_SVREC_RGB.tif\n"
          ]
        },
        {
          "data": {
            "application/vnd.jupyter.widget-view+json": {
              "model_id": "dcbf56f9c3d24666ba2b91bf77a8d0e9",
              "version_major": 2,
              "version_minor": 0
            },
            "text/plain": [
              "  0%|          | 0/1812 [00:00<?, ?it/s]"
            ]
          },
          "metadata": {},
          "output_type": "display_data"
        },
        {
          "name": "stdout",
          "output_type": "stream",
          "text": [
            "09_05_2022_SVREC_RGB.tif\n"
          ]
        },
        {
          "data": {
            "application/vnd.jupyter.widget-view+json": {
              "model_id": "d4c8b09f1da44b5faaa27e93c5212209",
              "version_major": 2,
              "version_minor": 0
            },
            "text/plain": [
              "  0%|          | 0/1812 [00:00<?, ?it/s]"
            ]
          },
          "metadata": {},
          "output_type": "display_data"
        },
        {
          "name": "stdout",
          "output_type": "stream",
          "text": [
            "09_08_2022_SVREC_RGB.tif\n"
          ]
        },
        {
          "data": {
            "application/vnd.jupyter.widget-view+json": {
              "model_id": "93c29a16c49341198105ab31414ac18c",
              "version_major": 2,
              "version_minor": 0
            },
            "text/plain": [
              "  0%|          | 0/1812 [00:00<?, ?it/s]"
            ]
          },
          "metadata": {},
          "output_type": "display_data"
        },
        {
          "name": "stdout",
          "output_type": "stream",
          "text": [
            "09_13_2022_SVREC_RGB.tif\n"
          ]
        },
        {
          "data": {
            "application/vnd.jupyter.widget-view+json": {
              "model_id": "811e753599d640fa9f1d1351d7393570",
              "version_major": 2,
              "version_minor": 0
            },
            "text/plain": [
              "  0%|          | 0/1812 [00:00<?, ?it/s]"
            ]
          },
          "metadata": {},
          "output_type": "display_data"
        },
        {
          "name": "stdout",
          "output_type": "stream",
          "text": [
            "09_16_2022_SVREC_RGB.tif\n"
          ]
        },
        {
          "data": {
            "application/vnd.jupyter.widget-view+json": {
              "model_id": "4cc84cab6fd9478bb1f6f07cebd93306",
              "version_major": 2,
              "version_minor": 0
            },
            "text/plain": [
              "  0%|          | 0/1812 [00:00<?, ?it/s]"
            ]
          },
          "metadata": {},
          "output_type": "display_data"
        }
      ],
      "source": [
        "for tiffile in tqdm(img_list_names):\n",
        "    print(tiffile)\n",
        "\n",
        "    ts = tiffile[0:10]\n",
        "    ts = ts.replace('_', '.')\n",
        "    fmt = '%m.%d.%Y'\n",
        "    dt = datetime.datetime.strptime(ts, fmt)\n",
        "    tt = dt.timetuple()\n",
        "    tt = tt.tm_yday\n",
        "    pl = planting_date\n",
        "    dt2 = datetime.datetime.strptime(pl, fmt)\n",
        "    tt2 = dt2.timetuple()\n",
        "    tt2 = tt2.tm_yday\n",
        "    DOY = str(tt-tt2).zfill(3)\n",
        "    \n",
        "    noPlot_list = []\n",
        "    # Plot_ID_list = []\n",
        "    with fiona.open(f'{shp_dir}/'f'{shp_file}', \"r\") as shapefile:\n",
        "    \n",
        "        for feature in tqdm(shapefile):\n",
        "            \n",
        "            Plot_ID = feature[\"properties\"][plot_num_field_name]\n",
        "            Plot_ID = Plot_ID.replace('_', '')\n",
        "            # [k for k in ground_list if Plot_ID in k]  \n",
        "                      \n",
        "            if Plot_ID in ground_list:\n",
        "                shape = [feature[\"geometry\"]]\n",
        "                # Plot_ID_list.append(Plot_ID)\n",
        "                        \n",
        "            # Change the current working directory\n",
        "                os.chdir(img_dir)\n",
        "                \n",
        "                with rasterio.open(tiffile, \"r\") as ras:\n",
        "                    out_image, out_transform = mask(ras, shape, crop=True, nodata=0)\n",
        "                    out_meta = ras.meta\n",
        "                    \n",
        "                    out_image = ma.masked_where(out_image == 0, out_image)\n",
        "                    out_image = ma.filled(out_image.astype(float), np.nan)\n",
        "                    \n",
        "                # Change the current working directory\n",
        "                    os.chdir(f'{plot_dir}')\n",
        "\n",
        "                    new_img_name = trial_name + '_' + Plot_ID + '_' +  DOY + '.png'\n",
        "                    \n",
        "                    out_meta.update({\"driver\": \"PNG\",\n",
        "                    \"height\": height,\n",
        "                    \"width\": width,\n",
        "                    \"transform\": out_transform})\n",
        "                    \n",
        "                    with rasterio.open(new_img_name, \"w\", **out_meta) as dest:\n",
        "                        dest.write(out_image)\n",
        "                        #print(new_img_name) \n",
        "\n",
        "            else:\n",
        "                noPlot_list.append(Plot_ID)\n",
        "                pass  "
      ]
    },
    {
      "cell_type": "code",
      "execution_count": 12,
      "metadata": {},
      "outputs": [
        {
          "data": {
            "text/html": [
              "<div>\n",
              "<style scoped>\n",
              "    .dataframe tbody tr th:only-of-type {\n",
              "        vertical-align: middle;\n",
              "    }\n",
              "\n",
              "    .dataframe tbody tr th {\n",
              "        vertical-align: top;\n",
              "    }\n",
              "\n",
              "    .dataframe thead th {\n",
              "        text-align: right;\n",
              "    }\n",
              "</style>\n",
              "<table border=\"1\" class=\"dataframe\">\n",
              "  <thead>\n",
              "    <tr style=\"text-align: right;\">\n",
              "      <th></th>\n",
              "      <th>Plots</th>\n",
              "    </tr>\n",
              "  </thead>\n",
              "  <tbody>\n",
              "    <tr>\n",
              "      <th>0</th>\n",
              "      <td>22161036</td>\n",
              "    </tr>\n",
              "    <tr>\n",
              "      <th>1</th>\n",
              "      <td>22161035</td>\n",
              "    </tr>\n",
              "    <tr>\n",
              "      <th>2</th>\n",
              "      <td>22161034</td>\n",
              "    </tr>\n",
              "    <tr>\n",
              "      <th>3</th>\n",
              "      <td>22161031</td>\n",
              "    </tr>\n",
              "    <tr>\n",
              "      <th>4</th>\n",
              "      <td>22161032</td>\n",
              "    </tr>\n",
              "    <tr>\n",
              "      <th>...</th>\n",
              "      <td>...</td>\n",
              "    </tr>\n",
              "    <tr>\n",
              "      <th>1171</th>\n",
              "      <td>22132003</td>\n",
              "    </tr>\n",
              "    <tr>\n",
              "      <th>1172</th>\n",
              "      <td>22132004</td>\n",
              "    </tr>\n",
              "    <tr>\n",
              "      <th>1173</th>\n",
              "      <td>22162001</td>\n",
              "    </tr>\n",
              "    <tr>\n",
              "      <th>1174</th>\n",
              "      <td>22162002</td>\n",
              "    </tr>\n",
              "    <tr>\n",
              "      <th>1175</th>\n",
              "      <td>22162003</td>\n",
              "    </tr>\n",
              "  </tbody>\n",
              "</table>\n",
              "<p>1176 rows × 1 columns</p>\n",
              "</div>"
            ],
            "text/plain": [
              "         Plots\n",
              "0     22161036\n",
              "1     22161035\n",
              "2     22161034\n",
              "3     22161031\n",
              "4     22161032\n",
              "...        ...\n",
              "1171  22132003\n",
              "1172  22132004\n",
              "1173  22162001\n",
              "1174  22162002\n",
              "1175  22162003\n",
              "\n",
              "[1176 rows x 1 columns]"
            ]
          },
          "execution_count": 12,
          "metadata": {},
          "output_type": "execute_result"
        }
      ],
      "source": [
        "noPlot_ID_list = pd.DataFrame(noPlot_list, columns=['Plots'])\n",
        "noPlot_ID_list\n",
        "#noPlot_ID_list.to_csv('C:\\\\Users\\\\leoag\\\\Michigan State University\\\\MSU Dry Bean Breeding Lab - General\\\\UAS_Beans\\\\2020\\\\SVREC_Mat\\\\f._codes\\\\noPlot.csv')"
      ]
    },
    {
      "cell_type": "code",
      "execution_count": 13,
      "metadata": {
        "id": "tCOzLX5ryQKI"
      },
      "outputs": [],
      "source": [
        "#ep.plot_rgb(out_image, rgb=[0, 1, 2], title=\"Red Green Blue\", stretch=True)"
      ]
    },
    {
      "cell_type": "code",
      "execution_count": 14,
      "metadata": {
        "id": "Zc9z8yBR5g8w"
      },
      "outputs": [
        {
          "data": {
            "image/png": "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                                                                                                                                                                                                                                                                                                                                                                                                                                                                                                                                                                                                                                                                                                                                                                                                                                                                                                                                                                                                                                                                                                                                                                                                                                                                                                                                                                                                                                                                                                                                                                                                                                                                                                                                                                                                                                                                                                                                                                                                                                                                                                                                                                                                                                                                                                                                                                                                                                                                                                                                                                                                                                                                                                                                                                                                                                                                                                                                                                                                                                                                                                                                                                                                                                                                                                                                                                                                                                                                                                                                                                                                                                                                                                                                                                                                                                                                                                                                                                                                                                                                                                                                                                                                                                                                                                                                                                                                                                                                                                                                                                                                                                                                                                                                                                                                                                                                                                                                                                                                                                                                                                                                                                                                                                                                                                                                                                                                                                                                                                                                                                                                                                                                                                                                                                                                                                                                                                                                                                                                                                                                                                                                                                                                                                                                                                                                                                                                                                                                                                                                                                                                                                                                                                                                                                                                                                                                                                                                                                                                                                                                                                                                                                                                                                                                                                                                                                                                                                                                                                                                                                                                                                                                                                                                                                                                                                                                                                                                                                                                                                                                                                                                                                                                                                                                                                                                                                                                                                                                                                                                                                                                                                                                                                                                                                                                                                                                                                                                                                                                                                                                                                                                                                                                                                                                                                                                                                                                                                                                                                                                                                                                                                                                                                                                                                                                                                                                                                                                                                                                                                                                                                                                                                                                                                                                                                                                                                                                                                                                                                                                                                                                                                                                                                                                                                                                                                                                                                                                                                                                                                                                                                                                                                                                                                                                                                                                                                                                                                                                                                                                                                                                                                                                                                                                                                                                                                                                                                                                                                                                                                                                                                                                                                                                                                                                                                                                                                                                                                                                                                                                                                                                                                                                                                                                                                                                                                                                                                                                                                                                                                                                                                                                                                                                                                                                                                                                                                                                                                                                                                                                                                                                                                                                                                                                                                                                                                                                                                                                                                                                                                                                                                                                                                                                                                                                                                                                                                                                                                                                                                                                                                                                                                                                                                                                                                                                                                                                                                                                                                                                                                                                                                                                                                                                                                                                                                                                                                                                                                                                                                                                                                                                                                                                                                                                                                                                                                                                                                                                                                                                                                                                                                                                                                                                                                                                                                                                                                                                                                                                                                                                                                                                                                                                                                                                                                                                                                                                                                                                                                                                                                                                                                                                                                                                                                                                                                                                                                                                                                                                                                                                                                                                                                                                                                                                                                                                                                                                                                                                                                                                                                                                                                                                                                                                                                                                                                                                                                                                                                                                                                                                                                                                                                                                                                                                                                                                                                                                                                                                                                                                                                                                                                                                                                                                                                                                                                                                                                                                                                                                                                                                                                                                                                                                                                                                                                                                                                                                                                                                                                                                                                                                                                                                                                                                                                                                                                                                                                                                                                                                                                                                                                                                                                                                                                                                                                                                                                                                                                                                                                                                                                                                                                                                                                                                                                                                                                                                                                                                                                                                                                                                                                                                                                                                                                                                                                                                                                                                                                                                                                                                                                                                                                                                                                                                                                                                                                                                                                                                                                                                                                                                                                                                                                                                                                                                                                                                                                                                                                                                                                                                                                                                                                                                                                                                                                                                                                                                                                                                                                                                                                                                                                                                                                                                                                                                                                                                                                                                                                                                                                                                                                                                                                                                                                                                                                                                                                                                                                                                                                                                                                                                                                                                                                                                                                                                                                                                                                                                                                                                                                                                                                                                                                                                                                                                                                                                                                                                                                                                                                                                                                                                                                                                                                                                                                                                                                                                                                                                                                                                                                                                                                                                                                                                                                                                                                                                                                                                                                                                                                                                                                                                                                                                                                                                                                                                                                                                                                                                                                                                                                                                                                                                                                                                                                                                                                                                                                                                                                                                                                                                                                                                                                                                                                                                                                                                                                                                                                                                                                                                                                                                                                                                                                                                                                                                                                                                                                                                                                                                                                                                                                                                                                                                                                                                                                                                                                                                                                                                                                                                                                                                                                                                                                                                                                                                                                                                                                                                                                                                                                                                                                                                                                                                                                                                                                                                                                                                                                                                                                                                                                                                                                                                                                                                                                                                                                                                                                                                                                                                                                                                                                                                                                                                                                                                                                                                                                                                                                                                                                                                                                                                                                                                                                                                                                                                                                                                                                                                                                                                                                                                                                                                                                                                                                                                                                                                                                                                                                                                                                                                                                                                                                                                                                                                                                                                                                                                                                                                                                                                                                                                                                                                                                                                                                                                                                                                                                                                                                                                                                                                                                                                                                                                                                                                                                                                                                                                                                                                                                                                                                                                                                                                                                                                                                                                                                                                                                                                                                                                                                                                                                                                                                                                                                                                                                                                                                                                                                                                                                                                                                                                                                                                                                                                                                                                                                                                                                                                                                                                                                                                                                                                                                                                                                                                                                                                                                                                                                                                                                                                                                                                                                                                                                                                                                                                                                                                                                                                                                                                                                                                                                                                                                                                                                                                                                                                                                                                                                                                                                                                                                                                                                                                                                                                                                                                                                                                                                                                                                                                                                                                                                                                                                                                                                                                                                                                                                                                                                                                                                                                                                                                                                                                                                                                                                                                                                                                                                                                                                                                                                                                                                                                                                                                                                                                                                                                                                                                                                                                                                                                                                                                                                                                                                                                                                                                                                                                                                                                                                                                                                                                                                                                                                                                                                                                                                                                                                                                                                                                                                                                                                                                                                                                                                                                                                                                                                                                                                                                                                                                                                                                                                                                                                                                                                                                                                                                                                                                                                                                                                                                                                                                                                                                                                                                                                                                                                                                                                                                                                                                                                                                                                                                                                                                                                                                                                                                                                                                                                                                                                                                                                                                                                                                                                                                                                                                                                                                                                                                                                                                                                                                                                                                                                                                                                                                                                                                                                                                                                                                                                                                                                                                                                                                                                                                                                                                                                                                                                                                                                                                                                                                                                                                                                                                                                                                                                                                                                                                                                                                                                                                                                                                                                                                                                                                                                                                                                                                                                                                                                                                                                                                                                                                                                                                                                                                                                                                                                                                                                                                                                                                                                                                                                                                                                                                                                                                                                                                                                                                                                                                                                                                                                                                                                                                                                                                                                                                                                                                                                                                                                                                                                                                                                                                                                                                                                                                                                                                                                                                                                                                                                                                                                                                                                                                                                                                                                                                                                                                                                                                                                                                                                                                                                                                                                                                                                                                                                                                                                                                                                                                                                                                                                                                                                                                                                                                                                                                                                                                                                                                                                                                                                                                                                                                                                                                                                                                                                                                                                                                                                                                                                                                                                                                                                                                                                                                                                                                                                                                                                                                                                                                                                                                                                                                                                                                                                                                                                                                                                                                                                                                                                                                                                                                                                                                                                                                                                                                                                                                                                                                                                                                                                                                                                                                                                                                                                                                                                                                                                                                                                                                                                                                                                                                                                                                                                                                                                                                                                                                                                                                                                                                                                                                                                                                                                                                                                                                                                                                                                                                                                                                                                                                                                                                                                                                                                                                                                                                                                                                                                                                                                                                                                                                                                                                                                                                                                                                                                                                                                                                                                                                                                                                                                                                                                                                                                                                                                                                                                                                                                                                                                                                                                                                                                                                                                                                                                                                                                                                                                                                                                                                                                                                                                                                                                                                                                                                                                                                                                                                                                                                                                                                                                                                                                                                                                                                                                                                                                                                                                                                                                                                                                                                                                                                                                                                                                                                                                                                                                                                                                                                                                                                                                                                                                                                                                                                                                                                                                                                                                                                                                                                                                                                                                                                                                                                                                                                                                                                                                                                                                                                                                                                                                                                                                                                                                                                                                                                                                                                                                                                                                                                                                                                                                                                                                                                                                                                                                                                                                                                                                                                                                                                                                                                                                                                                                                                                                                                                                                                                                                                                                                                                                                                                                                                                                                                                                                                                                                                                                                                                                                                                                                                                                                                                                                                                                                                                                                                                                                                                                                                                                                                                                                                                                                                                                                                                                                                                                                                                                                                                                                                                                                                                                                                                                                                                                                                                                                                                                                                                                                                                                                                                                                                                                                                                                                                                                                                                                                                                                                                                                                                                                                                                                                                                                                                                                                                                                                                                                                                                                                                                                                                                                                                                                                                                                                                                                                                                                                                                                                                                                                                                                                                                                                                                                                                                                                                                                                                                                                                                                                                                                                                                                                                                                                                                                                                                                                                                                                                                                                                                                                                                                                                                                                                                                                                                                                                                                                                                                                                                                                                                                                                                                                                                                                                                                                                                                                                                                                                                                                                                                                                                                                                                                                                                                                                                                                                                                                                                                                                                                                                                                                                                                                                                                                                                                                                                                                                                                                                                                                                                                                                                                                                                                                                                                                                                                                                                                                                                                                                                                                                                                                                                                                                                                                                                          