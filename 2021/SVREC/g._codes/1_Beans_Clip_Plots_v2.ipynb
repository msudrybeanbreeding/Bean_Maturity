{
  "cells": [
    {
      "cell_type": "code",
      "execution_count": 7,
      "metadata": {
        "colab": {
          "base_uri": "https://localhost:8080/"
        },
        "id": "8Wx9Zbjiv0GD",
        "outputId": "5525c8d3-8d4a-4e49-8ba0-4eefea4e0a9e"
      },
      "outputs": [],
      "source": [
        "# %pip install rasterio\n",
        "# %pip install geopandas\n",
        "# %pip install fiona\n",
        "# %pip install earthpy\n",
        "\n",
        "\n",
        "import numpy as np\n",
        "import numpy.ma as ma\n",
        "#from matplotlib import pyplot as plt\n",
        "import rasterio\n",
        "import geopandas as gpd\n",
        "#import rasterstats as rs\n",
        "#from IPython.display import display\n",
        "import pandas as pd\n",
        "import os\n",
        "import fiona\n",
        "import rasterio.mask\n",
        "#import matplotlib.pyplot as plt\n",
        "import warnings\n",
        "import rasterio\n",
        "import rasterio.features\n",
        "warnings.filterwarnings('ignore') #don't display warnings\n",
        "from rasterio.mask import mask\n",
        "#import earthpy.plot as ep\n",
        "import cv2\n",
        "import datetime\n",
        "from tqdm.auto import tqdm"
      ]
    },
    {
      "cell_type": "code",
      "execution_count": 8,
      "metadata": {
        "colab": {
          "base_uri": "https://localhost:8080/"
        },
        "id": "LXk-g-S2x0Pl",
        "outputId": "e4c2e12a-de24-4216-eb1a-6cedb8e8d077"
      },
      "outputs": [],
      "source": [
        "# from google.colab import drive\n",
        "# drive.mount('/content/drive')"
      ]
    },
    {
      "cell_type": "code",
      "execution_count": 9,
      "metadata": {
        "colab": {
          "base_uri": "https://localhost:8080/"
        },
        "id": "vb_GWym5v5m6",
        "outputId": "60344797-585d-4116-be6b-8394af3b2aff"
      },
      "outputs": [
        {
          "name": "stdout",
          "output_type": "stream",
          "text": [
            "['fid_1', 'PlotID', 'FID_', 'Global_ID', 'PlotID_ori', 'entry', 'ibloc', 'rep', 'pas', 'rng', 'plot', 'name', 'location', 'year', 'expt', 'harvester', 'f_pedigree', 'm_pedigree', 'fname', 'mname', 'Global_ID_', 'plotwt', 'cwt_a', 'moist', 'flwr', 'ht', 'ldg', 'mtr', 'ds', 'cwtacre', 'early_ht', 'notes', 'sdwt2', 'geometry']\n"
          ]
        }
      ],
      "source": [
        "root_file = 'C:\\\\Users\\\\leoag\\\\Michigan State University\\\\MSU Dry Bean Breeding Lab - General\\\\UAS_Beans\\\\2021\\\\SVREC_Mat'\n",
        "shp_file = \"Shapefile_SVREV_P01_03.shp\"\n",
        "img_dir= f\"{root_file}/\"'b._Orthomosaics/''SVREC_P1'\n",
        "shp_dir = f\"{root_file}/\"'c._Shapefiles/'\"P01_SVREC_2021\"\n",
        "plot_dir = f\"{root_file}/\"'e._ClipPlots_BN/''SVREC_P1_512_128'\n",
        "ground_dir = f\"{root_file}/\"'d._Ground_notes'\n",
        "\n",
        "#os.chdir('/content/drive/MyDrive/temp_roi')\n",
        "\n",
        "#plots_img = '/plots_img'\n",
        "\n",
        "try:\n",
        "    os.mkdir(plot_dir)\n",
        "except:\n",
        "  pass\n",
        "# os.chdir(img_dir)\n",
        "# # Print the current working directory\n",
        "# print(\"Current working directory: {0}\".format(os.getcwd()))\n",
        "#DIR_TEST = f'{DIR_INPUT}/test'\n",
        "plots = gpd.read_file(f'{shp_dir}' f'/{shp_file}')\n",
        "\n",
        "plots_names=list(plots.columns.values)\n",
        "print(plots_names)"
      ]
    },
    {
      "cell_type": "code",
      "execution_count": 10,
      "metadata": {
        "colab": {
          "base_uri": "https://localhost:8080/"
        },
        "id": "OEAH1u34yQht",
        "outputId": "502edd06-20fc-490b-c026-e2f3bccb09d6"
      },
      "outputs": [
        {
          "name": "stdout",
          "output_type": "stream",
          "text": [
            "{'type': 'Feature', 'id': '0', 'properties': OrderedDict([('fid_1', 3.0), ('PlotID', '1367'), ('FID_', 0), ('Global_ID', '2101_3031'), ('PlotID_ori', 1367), ('entry', '39'), ('ibloc', '6'), ('rep', '3'), ('pas', 3), ('rng', 12), ('plot', '3031'), ('name', 'B20627'), ('location', 'SVREC'), ('year', '2021'), ('expt', '2101'), ('harvester', '36'), ('f_pedigree', 'B14311/B10244'), ('m_pedigree', 'N11256/N11298'), ('fname', 'B17540'), ('mname', 'N14218'), ('Global_ID_', '21013031'), ('plotwt', '1035'), ('cwt_a', '22.75'), ('moist', '0'), ('flwr', '44'), ('ht', '40'), ('ldg', '0'), ('mtr', '0'), ('ds', '0'), ('cwtacre', 'NA'), ('early_ht', 'NA'), ('notes', '0'), ('sdwt2', '17.83')]), 'geometry': {'type': 'Polygon', 'coordinates': [[(281575.82757895545, 4808337.257552745), (281575.85069695575, 4808338.056777043), (281579.85926852084, 4808337.936497251), (281579.8361505206, 4808337.137272951), (281575.82757895545, 4808337.257552745)]]}}\n"
          ]
        }
      ],
      "source": [
        "shp_file_info=fiona.open(f'{shp_dir}/'f'{shp_file}', \"r\") \n",
        "#first feature of the shapefile\n",
        "shp_file_inf = shp_file_info.next()\n",
        "print(shp_file_inf)"
      ]
    },
    {
      "cell_type": "code",
      "execution_count": 11,
      "metadata": {
        "colab": {
          "base_uri": "https://localhost:8080/"
        },
        "id": "9ZDNNXklyQeV",
        "outputId": "610f833a-b407-4993-913a-dbb55fac64f6"
      },
      "outputs": [
        {
          "name": "stdout",
          "output_type": "stream",
          "text": [
            "['07_14_2021_SVREC_RGB_P1.tif', '07_19_2021_SVREC_RGB_P1.tif', '07_28_2021_SVREC_RGB_P1.tif', '08_02_2021_SVREC_RGB_P1.tif', '08_13_2021_SVREC_RGB_P1.tif', '08_18_2021_SVREC_RGB_P1.tif', '08_23_2021_SVREC_RGB_P1.tif', '08_26_2021_SVREC_RGB_P1.tif', '08_30_2021_SVREC_RGB_P1.tif']\n"
          ]
        }
      ],
      "source": [
        "img_list = os.listdir(img_dir)\n",
        "img_list = [v for v in img_list if v.endswith('.tif')]\n",
        "print(img_list)"
      ]
    },
    {
      "cell_type": "code",
      "execution_count": 12,
      "metadata": {
        "colab": {
          "base_uri": "https://localhost:8080/"
        },
        "id": "2FsbZzgayQbp",
        "outputId": "6371493c-77b2-436d-82c8-2cc18bb25566"
      },
      "outputs": [
        {
          "name": "stdout",
          "output_type": "stream",
          "text": [
            "0\n",
            "1\n",
            "2\n",
            "3\n",
            "4\n",
            "5\n",
            "6\n",
            "7\n",
            "8\n",
            "['07_14_2021_SVREC_RGB_P1.tif', '07_19_2021_SVREC_RGB_P1.tif', '07_28_2021_SVREC_RGB_P1.tif', '08_02_2021_SVREC_RGB_P1.tif', '08_13_2021_SVREC_RGB_P1.tif', '08_18_2021_SVREC_RGB_P1.tif', '08_23_2021_SVREC_RGB_P1.tif', '08_26_2021_SVREC_RGB_P1.tif', '08_30_2021_SVREC_RGB_P1.tif']\n"
          ]
        }
      ],
      "source": [
        "# Create an empty list to store the img names\n",
        "img_list_names = []\n",
        "\n",
        "for l in range(len(img_list)):\n",
        "    print(l)\n",
        "    img_list_names.append(str(img_list[l]))\n",
        "\n",
        "print(img_list_names)"
      ]
    },
    {
      "cell_type": "code",
      "execution_count": 13,
      "metadata": {
        "id": "pi6IHxPCyQY1"
      },
      "outputs": [],
      "source": [
        "plot_num_field_name = \"Global_ID_\"\n",
        "trial_name = \"SVREC\"\n",
        "planting_date = '06.02.2021'\n",
        "\n",
        "width = 512 #256\n",
        "height = 128 #64"
      ]
    },
    {
      "cell_type": "code",
      "execution_count": 14,
      "metadata": {
        "colab": {
          "base_uri": "https://localhost:8080/"
        },
        "id": "34t7hfCwqHN5",
        "outputId": "05599bc2-a2fe-4c1f-cde1-193b667939f4"
      },
      "outputs": [
        {
          "name": "stdout",
          "output_type": "stream",
          "text": [
            "['042', '047', '056', '061', '072', '077', '082', '085', '089']\n"
          ]
        }
      ],
      "source": [
        "# Create an empty list to store DOY from the image names\n",
        "img_DOY_list = []\n",
        "\n",
        "for l in range(len(img_list)):\n",
        "    img_DOY = str(img_list[l]) \n",
        "    ts = img_DOY[0:10]\n",
        "    ts = ts.replace('_', '.')\n",
        "    fmt = '%m.%d.%Y'\n",
        "\n",
        "    dt = datetime.datetime.strptime(ts, fmt)\n",
        "    tt = dt.timetuple()\n",
        "    tt = tt.tm_yday\n",
        "\n",
        "    pl = planting_date\n",
        "    dt2 = datetime.datetime.strptime(pl, fmt)\n",
        "    tt2 = dt2.timetuple()\n",
        "    tt2 = tt2.tm_yday\n",
        "\n",
        "    tt_f = str(tt-tt2).zfill(3)\n",
        "\n",
        "    img_DOY_list.append(tt_f)\n",
        "\n",
        "print(img_DOY_list)"
      ]
    },
    {
      "cell_type": "code",
      "execution_count": 15,
      "metadata": {},
      "outputs": [
        {
          "data": {
            "text/plain": [
              "524"
            ]
          },
          "execution_count": 15,
          "metadata": {},
          "output_type": "execute_result"
        }
      ],
      "source": [
        "ground_df = pd.read_csv(f\"{ground_dir}/\"'2021_SVREC_BN_ground_P01.csv')\n",
        "ground_df= ground_df.astype(str)\n",
        "ground_list = []\n",
        "\n",
        "for value in ground_df[\"Global_ID\"]:\n",
        "    ground_list.append(value)\n",
        "\n",
        "len(ground_list)"
      ]
    },
    {
      "cell_type": "code",
      "execution_count": 16,
      "metadata": {},
      "outputs": [
        {
          "name": "stdout",
          "output_type": "stream",
          "text": [
            "Data set do not merge with ground and aerial plot numbers\n",
            "524\n",
            "1320\n"
          ]
        }
      ],
      "source": [
        "from distutils.log import error\n",
        "\n",
        "\n",
        "if len(ground_list) == len(plots):\n",
        "    print('Data set has the same lenght to ground and aerial plot numbers')\n",
        "    print(len(ground_list))\n",
        "    print(len(plots))\n",
        "\n",
        "else:\n",
        "    print('Data set do not merge with ground and aerial plot numbers')\n",
        "    print(len(ground_list))\n",
        "    print(len(plots))\n",
        "    \n",
        "\n",
        "# len(ground_list)\n",
        "# len(plots)"
      ]
    },
    {
      "cell_type": "code",
      "execution_count": 17,
      "metadata": {
        "id": "dVvANbvLyQVO"
      },
      "outputs": [
        {
          "data": {
            "application/vnd.jupyter.widget-view+json": {
              "model_id": "e5802d057eaf459e8a87f5d18cf3a884",
              "version_major": 2,
              "version_minor": 0
            },
            "text/plain": [
              "  0%|          | 0/9 [00:00<?, ?it/s]"
            ]
          },
          "metadata": {},
          "output_type": "display_data"
        },
        {
          "name": "stdout",
          "output_type": "stream",
          "text": [
            "07_14_2021_SVREC_RGB_P1.tif\n"
          ]
        },
        {
          "data": {
            "application/vnd.jupyter.widget-view+json": {
              "model_id": "f3e82162055e42fb8b43a0b01fc6c893",
              "version_major": 2,
              "version_minor": 0
            },
            "text/plain": [
              "  0%|          | 0/1320 [00:00<?, ?it/s]"
            ]
          },
          "metadata": {},
          "output_type": "display_data"
        },
        {
          "name": "stdout",
          "output_type": "stream",
          "text": [
            "07_19_2021_SVREC_RGB_P1.tif\n"
          ]
        },
        {
          "data": {
            "application/vnd.jupyter.widget-view+json": {
              "model_id": "7f95d75ec05941ecad1c1f1abf898621",
              "version_major": 2,
              "version_minor": 0
            },
            "text/plain": [
              "  0%|          | 0/1320 [00:00<?, ?it/s]"
            ]
          },
          "metadata": {},
          "output_type": "display_data"
        },
        {
          "name": "stdout",
          "output_type": "stream",
          "text": [
            "07_28_2021_SVREC_RGB_P1.tif\n"
          ]
        },
        {
          "data": {
            "application/vnd.jupyter.widget-view+json": {
              "model_id": "d5d542f6c7ca430297bb6a570c7119b3",
              "version_major": 2,
              "version_minor": 0
            },
            "text/plain": [
              "  0%|          | 0/1320 [00:00<?, ?it/s]"
            ]
          },
          "metadata": {},
          "output_type": "display_data"
        },
        {
          "name": "stdout",
          "output_type": "stream",
          "text": [
            "08_02_2021_SVREC_RGB_P1.tif\n"
          ]
        },
        {
          "data": {
            "application/vnd.jupyter.widget-view+json": {
              "model_id": "48259007a919469ea04800ff37531543",
              "version_major": 2,
              "version_minor": 0
            },
            "text/plain": [
              "  0%|          | 0/1320 [00:00<?, ?it/s]"
            ]
          },
          "metadata": {},
          "output_type": "display_data"
        },
        {
          "name": "stdout",
          "output_type": "stream",
          "text": [
            "08_13_2021_SVREC_RGB_P1.tif\n"
          ]
        },
        {
          "data": {
            "application/vnd.jupyter.widget-view+json": {
              "model_id": "bff4108a01824a838ac3f4384226dfad",
              "version_major": 2,
              "version_minor": 0
            },
            "text/plain": [
              "  0%|          | 0/1320 [00:00<?, ?it/s]"
            ]
          },
          "metadata": {},
          "output_type": "display_data"
        },
        {
          "name": "stdout",
          "output_type": "stream",
          "text": [
            "08_18_2021_SVREC_RGB_P1.tif\n"
          ]
        },
        {
          "data": {
            "application/vnd.jupyter.widget-view+json": {
              "model_id": "e5eeae786431448f9d21ed55ae59ed37",
              "version_major": 2,
              "version_minor": 0
            },
            "text/plain": [
              "  0%|          | 0/1320 [00:00<?, ?it/s]"
            ]
          },
          "metadata": {},
          "output_type": "display_data"
        },
        {
          "name": "stdout",
          "output_type": "stream",
          "text": [
            "08_23_2021_SVREC_RGB_P1.tif\n"
          ]
        },
        {
          "data": {
            "application/vnd.jupyter.widget-view+json": {
              "model_id": "e5fc53eedb44438c9d79c3d1f96c54ec",
              "version_major": 2,
              "version_minor": 0
            },
            "text/plain": [
              "  0%|          | 0/1320 [00:00<?, ?it/s]"
            ]
          },
          "metadata": {},
          "output_type": "display_data"
        },
        {
          "name": "stdout",
          "output_type": "stream",
          "text": [
            "08_26_2021_SVREC_RGB_P1.tif\n"
          ]
        },
        {
          "data": {
            "application/vnd.jupyter.widget-view+json": {
              "model_id": "fe4ca59ca7434ded89ffabe12f0c4fc7",
              "version_major": 2,
              "version_minor": 0
            },
            "text/plain": [
              "  0%|          | 0/1320 [00:00<?, ?it/s]"
            ]
          },
          "metadata": {},
          "output_type": "display_data"
        },
        {
          "name": "stdout",
          "output_type": "stream",
          "text": [
            "08_30_2021_SVREC_RGB_P1.tif\n"
          ]
        },
        {
          "data": {
            "application/vnd.jupyter.widget-view+json": {
              "model_id": "b7ab313f0b754ca8b7cd335efc1d17d9",
              "version_major": 2,
              "version_minor": 0
            },
            "text/plain": [
              "  0%|          | 0/1320 [00:00<?, ?it/s]"
            ]
          },
          "metadata": {},
          "output_type": "display_data"
        }
      ],
      "source": [
        "for tiffile in tqdm(img_list_names):\n",
        "    print(tiffile)\n",
        "\n",
        "    ts = tiffile[0:10]\n",
        "    ts = ts.replace('_', '.')\n",
        "    fmt = '%m.%d.%Y'\n",
        "    dt = datetime.datetime.strptime(ts, fmt)\n",
        "    tt = dt.timetuple()\n",
        "    tt = tt.tm_yday\n",
        "    pl = planting_date\n",
        "    dt2 = datetime.datetime.strptime(pl, fmt)\n",
        "    tt2 = dt2.timetuple()\n",
        "    tt2 = tt2.tm_yday\n",
        "    DOY = str(tt-tt2).zfill(3)\n",
        "    \n",
        "    noPlot_list = []\n",
        "    # Plot_ID_list = []\n",
        "    with fiona.open(f'{shp_dir}/'f'{shp_file}', \"r\") as shapefile:\n",
        "    \n",
        "        for feature in tqdm(shapefile):\n",
        "            \n",
        "            Plot_ID = feature[\"properties\"][plot_num_field_name]\n",
        "            # [k for k in ground_list if Plot_ID in k]  \n",
        "                      \n",
        "            if Plot_ID in ground_list:\n",
        "                shape = [feature[\"geometry\"]]\n",
        "                # Plot_ID_list.append(Plot_ID)\n",
        "                        \n",
        "            # Change the current working directory\n",
        "                os.chdir(img_dir)\n",
        "                \n",
        "                with rasterio.open(tiffile, \"r\") as ras:\n",
        "                    out_image, out_transform = mask(ras, shape, crop=True, nodata=0)\n",
        "                    out_meta = ras.meta\n",
        "                    \n",
        "                    out_image = ma.masked_where(out_image == 0, out_image)\n",
        "                    out_image = ma.filled(out_image.astype(float), np.nan)\n",
        "                    \n",
        "                # Change the current working directory\n",
        "                    os.chdir(f'{plot_dir}')\n",
        "\n",
        "                    new_img_name = trial_name + '_' + Plot_ID + '_' +  DOY + '.png'\n",
        "                    \n",
        "                    out_meta.update({\"driver\": \"PNG\",\n",
        "                    \"height\": height,\n",
        "                    \"width\": width,\n",
        "                    \"transform\": out_transform})\n",
        "                    \n",
        "                    with rasterio.open(new_img_name, \"w\", **out_meta) as dest:\n",
        "                        dest.write(out_image)\n",
        "                        #print(new_img_name) \n",
        "\n",
        "            else:\n",
        "                noPlot_list.append(Plot_ID)\n",
        "                pass  "
      ]
    },
    {
      "cell_type": "code",
      "execution_count": 18,
      "metadata": {},
      "outputs": [
        {
          "data": {
            "text/html": [
              "<div>\n",
              "<style scoped>\n",
              "    .dataframe tbody tr th:only-of-type {\n",
              "        vertical-align: middle;\n",
              "    }\n",
              "\n",
              "    .dataframe tbody tr th {\n",
              "        vertical-align: top;\n",
              "    }\n",
              "\n",
              "    .dataframe thead th {\n",
              "        text-align: right;\n",
              "    }\n",
              "</style>\n",
              "<table border=\"1\" class=\"dataframe\">\n",
              "  <thead>\n",
              "    <tr style=\"text-align: right;\">\n",
              "      <th></th>\n",
              "      <th>Plots</th>\n",
              "    </tr>\n",
              "  </thead>\n",
              "  <tbody>\n",
              "    <tr>\n",
              "      <th>0</th>\n",
              "      <td>21013031</td>\n",
              "    </tr>\n",
              "    <tr>\n",
              "      <th>1</th>\n",
              "      <td>21013032</td>\n",
              "    </tr>\n",
              "    <tr>\n",
              "      <th>2</th>\n",
              "      <td>21013033</td>\n",
              "    </tr>\n",
              "    <tr>\n",
              "      <th>3</th>\n",
              "      <td>21013034</td>\n",
              "    </tr>\n",
              "    <tr>\n",
              "      <th>4</th>\n",
              "      <td>21013035</td>\n",
              "    </tr>\n",
              "    <tr>\n",
              "      <th>...</th>\n",
              "      <td>...</td>\n",
              "    </tr>\n",
              "    <tr>\n",
              "      <th>791</th>\n",
              "      <td>21101006</td>\n",
              "    </tr>\n",
              "    <tr>\n",
              "      <th>792</th>\n",
              "      <td>21101007</td>\n",
              "    </tr>\n",
              "    <tr>\n",
              "      <th>793</th>\n",
              "      <td>21101008</td>\n",
              "    </tr>\n",
              "    <tr>\n",
              "      <th>794</th>\n",
              "      <td>21101009</td>\n",
              "    </tr>\n",
              "    <tr>\n",
              "      <th>795</th>\n",
              "      <td>21101010</td>\n",
              "    </tr>\n",
              "  </tbody>\n",
              "</table>\n",
              "<p>796 rows × 1 columns</p>\n",
              "</div>"
            ],
            "text/plain": [
              "        Plots\n",
              "0    21013031\n",
              "1    21013032\n",
              "2    21013033\n",
              "3    21013034\n",
              "4    21013035\n",
              "..        ...\n",
              "791  21101006\n",
              "792  21101007\n",
              "793  21101008\n",
              "794  21101009\n",
              "795  21101010\n",
              "\n",
              "[796 rows x 1 columns]"
            ]
          },
          "execution_count": 18,
          "metadata": {},
          "output_type": "execute_result"
        }
      ],
      "source": [
        "noPlot_ID_list = pd.DataFrame(noPlot_list, columns=['Plots'])\n",
        "noPlot_ID_list\n",
        "#noPlot_ID_list.to_csv('C:\\\\Users\\\\leoag\\\\Michigan State University\\\\MSU Dry Bean Breeding Lab - General\\\\UAS_Beans\\\\2020\\\\SVREC_Mat\\\\f._codes\\\\noPlot.csv')"
      ]
    },
    {
      "cell_type": "code",
      "execution_count": null,
      "metadata": {
        "id": "tCOzLX5ryQKI"
      },
      "outputs": [],
      "source": [
        "#ep.plot_rgb(out_image, rgb=[0, 1, 2], title=\"Red Green Blue\", stretch=True)"
      ]
    },
    {
      "cell_type": "code",
      "execution_count": null,
      "metadata": {
        "id": "Zc9z8yBR5g8w"
      },
      "outputs": [
        {
          "data": {
            "image/png": "[encoded data removed]",
            "text/plain": [
              "<Figure size 432x288 with 1 Axes>"
            ]
          },
          "metadata": {
            "needs_background": "light"
          },
          "output_type": "display_data"
        }
      ],
      "source": [
        "#plotting\n",
        "from matplotlib import pyplot\n",
        "with rasterio.open(new_img_name) as src:\n",
        "    pyplot.imshow(src.read(1), cmap='pink')\n",
        "    pyplot.show()"
      ]
    }
  ],
  "metadata": {
    "accelerator": "GPU",
    "colab": {
      "machine_shape": "hm",
      "name": "Beans_Clip_Plots_v2.ipynb",
      "provenance": []
    },
    "gpuClass": "standard",
    "kernelspec": {
      "display_name": "Python 3.8.12 ('pheno1')",
      "language": "python",
      "name": "python3"
    },
    "language_info": {
      "codemirror_mode": {
        "name": "ipython",
        "version": 3
      },
      "file_extension": ".py",
      "mimetype": "text/x-python",
      "name": "python",
      "nbconvert_exporter": "python",
      "pygments_lexer": "ipython3",
      "version": "3.8.12"
    },
    "vscode": {
      "interpreter": {
        "hash": "0de243c04fce33973b44ca1098946231a99e94861f01807479347a23bfc17024"
      }
    }
  },
  "nbformat": 4,
  "nbformat_minor": 0
}
