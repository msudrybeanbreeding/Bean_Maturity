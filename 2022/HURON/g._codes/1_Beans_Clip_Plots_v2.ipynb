{
  "cells": [
    {
      "cell_type": "code",
      "execution_count": 1,
      "metadata": {
        "colab": {
          "base_uri": "https://localhost:8080/"
        },
        "id": "8Wx9Zbjiv0GD",
        "outputId": "5525c8d3-8d4a-4e49-8ba0-4eefea4e0a9e"
      },
      "outputs": [],
      "source": [
        "# %pip install rasterio\n",
        "# %pip install geopandas\n",
        "# %pip install fiona\n",
        "# %pip install earthpy\n",
        "\n",
        "\n",
        "import numpy as np\n",
        "import numpy.ma as ma\n",
        "#from matplotlib import pyplot as plt\n",
        "import rasterio\n",
        "import geopandas as gpd\n",
        "#import rasterstats as rs\n",
        "#from IPython.display import display\n",
        "import pandas as pd\n",
        "import os\n",
        "import fiona\n",
        "import rasterio.mask\n",
        "#import matplotlib.pyplot as plt\n",
        "import warnings\n",
        "import rasterio\n",
        "import rasterio.features\n",
        "warnings.filterwarnings('ignore') #don't display warnings\n",
        "from rasterio.mask import mask\n",
        "#import earthpy.plot as ep\n",
        "import cv2\n",
        "import datetime\n",
        "from tqdm.auto import tqdm"
      ]
    },
    {
      "cell_type": "code",
      "execution_count": 13,
      "metadata": {
        "colab": {
          "base_uri": "https://localhost:8080/"
        },
        "id": "LXk-g-S2x0Pl",
        "outputId": "e4c2e12a-de24-4216-eb1a-6cedb8e8d077"
      },
      "outputs": [],
      "source": [
        "# from google.colab import drive\n",
        "# drive.mount('/content/drive')"
      ]
    },
    {
      "cell_type": "code",
      "execution_count": 2,
      "metadata": {
        "colab": {
          "base_uri": "https://localhost:8080/"
        },
        "id": "vb_GWym5v5m6",
        "outputId": "60344797-585d-4116-be6b-8394af3b2aff"
      },
      "outputs": [
        {
          "name": "stdout",
          "output_type": "stream",
          "text": [
            "['fid_1', 'PlotID', 'fid_2', 'PlotID_2', 'Global_ID2', 'Global_ID', 'Plot', 'ENTRY', 'REP', 'IBLK', 'Rng', 'Pas', 'Name', 'Identity1', 'Pedigree', 'Experiment', 'Origin', 'Selection', 'Descriptio', 'Year', 'Location', 'Planter', 'Harvester', 'geometry']\n"
          ]
        }
      ],
      "source": [
        "root_file = 'C:\\\\Users\\\\leoag\\\\Michigan State University\\\\MSU Dry Bean Breeding Lab - General\\\\UAS_Beans\\\\2022\\\\HURON_Mat'\n",
        "shp_file = \"22_HUR_SHP.shp\"\n",
        "img_dir= f\"{root_file}/\"'b._Orthomosaics'\n",
        "shp_dir = f\"{root_file}/\"'c._Shapefiles'\n",
        "plot_dir = f\"{root_file}/\"'e._ClipPlots_BN'\n",
        "ground_dir = f\"{root_file}/\"'d._Ground_notes'\n",
        "\n",
        "#os.chdir('/content/drive/MyDrive/temp_roi')\n",
        "\n",
        "#plots_img = '/plots_img'\n",
        "\n",
        "# try:\n",
        "#     os.mkdir(plot_dir)\n",
        "# except:\n",
        "#   pass\n",
        "# os.chdir(img_dir)\n",
        "# # Print the current working directory\n",
        "# print(\"Current working directory: {0}\".format(os.getcwd()))\n",
        "#DIR_TEST = f'{DIR_INPUT}/test'\n",
        "plots = gpd.read_file(f'{shp_dir}' f'/{shp_file}')\n",
        "\n",
        "plots_names=list(plots.columns.values)\n",
        "print(plots_names)"
      ]
    },
    {
      "cell_type": "code",
      "execution_count": 3,
      "metadata": {
        "colab": {
          "base_uri": "https://localhost:8080/"
        },
        "id": "OEAH1u34yQht",
        "outputId": "502edd06-20fc-490b-c026-e2f3bccb09d6"
      },
      "outputs": [
        {
          "name": "stdout",
          "output_type": "stream",
          "text": [
            "{'type': 'Feature', 'id': '0', 'properties': OrderedDict([('fid_1', 1.0), ('PlotID', '122'), ('fid_2', '1'), ('PlotID_2', '122'), ('Global_ID2', '2223_2031'), ('Global_ID', '22232031'), ('Plot', '2031'), ('ENTRY', '30'), ('REP', '2'), ('IBLK', '6'), ('Rng', '12'), ('Pas', '1'), ('Name', 'B21717'), ('Identity1', None), ('Pedigree', 'B16504/B17106'), ('Experiment', '2223'), ('Origin', '18B236-07-02'), ('Selection', '20T2393'), ('Descriptio', '18A0236-18L233-18-19T628-19T1291-20T2393'), ('Year', '2022'), ('Location', 'HURON'), ('Planter', '12'), ('Harvester', '360')]), 'geometry': {'type': 'Polygon', 'coordinates': [[(314787.1703460554, 4859345.088870585), (314787.9646773599, 4859345.183937819), (314788.440013524, 4859341.212281295), (314787.64568221953, 4859341.117214063), (314787.1703460554, 4859345.088870585)]]}}\n"
          ]
        }
      ],
      "source": [
        "shp_file_info=fiona.open(f'{shp_dir}/'f'{shp_file}', \"r\") \n",
        "#first feature of the shapefile\n",
        "shp_file_inf = shp_file_info.next()\n",
        "print(shp_file_inf)"
      ]
    },
    {
      "cell_type": "code",
      "execution_count": 4,
      "metadata": {
        "colab": {
          "base_uri": "https://localhost:8080/"
        },
        "id": "9ZDNNXklyQeV",
        "outputId": "610f833a-b407-4993-913a-dbb55fac64f6"
      },
      "outputs": [
        {
          "name": "stdout",
          "output_type": "stream",
          "text": [
            "['07_20_2022_HURON_RGB.tif', '08_18_2022_HURON_RGB.tif', '08_20_2022_HURON_RGB.tif', '08_23_2022_HURON_RGB.tif', '08_26_2022_HURON_RGB.tif', '08_30_2022_HURON_RGB.tif', '09_02_2022_HURON_RGB.tif', '09_05_2022_HURON_RGB.tif', '09_08_2022_HURON_RGB.tif', '09_13_2022_HURON_RGB.tif']\n"
          ]
        }
      ],
      "source": [
        "img_list = os.listdir(img_dir)\n",
        "img_list = [v for v in img_list if v.endswith('.tif')]\n",
        "print(img_list)"
      ]
    },
    {
      "cell_type": "code",
      "execution_count": 5,
      "metadata": {
        "colab": {
          "base_uri": "https://localhost:8080/"
        },
        "id": "2FsbZzgayQbp",
        "outputId": "6371493c-77b2-436d-82c8-2cc18bb25566"
      },
      "outputs": [
        {
          "name": "stdout",
          "output_type": "stream",
          "text": [
            "0\n",
            "1\n",
            "2\n",
            "3\n",
            "4\n",
            "5\n",
            "6\n",
            "7\n",
            "8\n",
            "9\n",
            "['07_20_2022_HURON_RGB.tif', '08_18_2022_HURON_RGB.tif', '08_20_2022_HURON_RGB.tif', '08_23_2022_HURON_RGB.tif', '08_26_2022_HURON_RGB.tif', '08_30_2022_HURON_RGB.tif', '09_02_2022_HURON_RGB.tif', '09_05_2022_HURON_RGB.tif', '09_08_2022_HURON_RGB.tif', '09_13_2022_HURON_RGB.tif']\n"
          ]
        }
      ],
      "source": [
        "# Create an empty list to store the img names\n",
        "img_list_names = []\n",
        "\n",
        "for l in range(len(img_list)):\n",
        "    print(l)\n",
        "    img_list_names.append(str(img_list[l]))\n",
        "\n",
        "print(img_list_names)"
      ]
    },
    {
      "cell_type": "code",
      "execution_count": 6,
      "metadata": {
        "id": "pi6IHxPCyQY1"
      },
      "outputs": [],
      "source": [
        "plot_num_field_name = \"Global_ID\"\n",
        "trial_name = \"HUR\"\n",
        "planting_date = '06.08.2022'\n",
        "\n",
        "width = 64 #256\n",
        "height = 256 #64"
      ]
    },
    {
      "cell_type": "code",
      "execution_count": 7,
      "metadata": {
        "colab": {
          "base_uri": "https://localhost:8080/"
        },
        "id": "34t7hfCwqHN5",
        "outputId": "05599bc2-a2fe-4c1f-cde1-193b667939f4"
      },
      "outputs": [
        {
          "name": "stdout",
          "output_type": "stream",
          "text": [
            "['042', '071', '073', '076', '079', '083', '086', '089', '092', '097']\n"
          ]
        }
      ],
      "source": [
        "# Create an empty list to store DOY from the image names\n",
        "img_DOY_list = []\n",
        "\n",
        "for l in range(len(img_list)):\n",
        "    img_DOY = str(img_list[l]) \n",
        "    ts = img_DOY[0:10]\n",
        "    ts = ts.replace('_', '.')\n",
        "    fmt = '%m.%d.%Y'\n",
        "\n",
        "    dt = datetime.datetime.strptime(ts, fmt)\n",
        "    tt = dt.timetuple()\n",
        "    tt = tt.tm_yday\n",
        "\n",
        "    pl = planting_date\n",
        "    dt2 = datetime.datetime.strptime(pl, fmt)\n",
        "    tt2 = dt2.timetuple()\n",
        "    tt2 = tt2.tm_yday\n",
        "\n",
        "    tt_f = str(tt-tt2).zfill(3)\n",
        "\n",
        "    img_DOY_list.append(tt_f)\n",
        "\n",
        "print(img_DOY_list)"
      ]
    },
    {
      "cell_type": "code",
      "execution_count": 8,
      "metadata": {},
      "outputs": [
        {
          "data": {
            "text/plain": [
              "['22231001',\n",
              " '22231002',\n",
              " '22231003',\n",
              " '22231004',\n",
              " '22231005',\n",
              " '22231006',\n",
              " '22231012',\n",
              " '22231011',\n",
              " '22231010',\n",
              " '22231009',\n",
              " '22231008',\n",
              " '22231007',\n",
              " '22231013',\n",
              " '22231014',\n",
              " '22231015',\n",
              " '22231016',\n",
              " '22231017',\n",
              " '22231018',\n",
              " '22231024',\n",
              " '22231023',\n",
              " '22231022',\n",
              " '22231021',\n",
              " '22231020',\n",
              " '22231019',\n",
              " '22231025',\n",
              " '22231026',\n",
              " '22231027',\n",
              " '22231028',\n",
              " '22231029',\n",
              " '22231030',\n",
              " '22231036',\n",
              " '22231035',\n",
              " '22231034',\n",
              " '22231033',\n",
              " '22231032',\n",
              " '22231031',\n",
              " '22232001',\n",
              " '22232002',\n",
              " '22232003',\n",
              " '22232004',\n",
              " '22232005',\n",
              " '22232006',\n",
              " '22232012',\n",
              " '22232011',\n",
              " '22232010',\n",
              " '22232009',\n",
              " '22232008',\n",
              " '22232007',\n",
              " '22232013',\n",
              " '22232014',\n",
              " '22232015',\n",
              " '22232016',\n",
              " '22232017',\n",
              " '22232018',\n",
              " '22232024',\n",
              " '22232023',\n",
              " '22232022',\n",
              " '22232021',\n",
              " '22232020',\n",
              " '22232019',\n",
              " '22232025',\n",
              " '22232026',\n",
              " '22232027',\n",
              " '22232028',\n",
              " '22232029',\n",
              " '22232030',\n",
              " '22232036',\n",
              " '22232035',\n",
              " '22232034',\n",
              " '22232033',\n",
              " '22232032',\n",
              " '22232031',\n",
              " '22241001',\n",
              " '22241002',\n",
              " '22241003',\n",
              " '22241004',\n",
              " '22241005',\n",
              " '22241010',\n",
              " '22241009',\n",
              " '22241008',\n",
              " '22241007',\n",
              " '22241006',\n",
              " '22241011',\n",
              " '22241012',\n",
              " '22241013',\n",
              " '22241014',\n",
              " '22241015',\n",
              " '22241020',\n",
              " '22241019',\n",
              " '22241018',\n",
              " '22241017',\n",
              " '22241016',\n",
              " '22241021',\n",
              " '22241022',\n",
              " '22241023',\n",
              " '22241024',\n",
              " '22241025',\n",
              " '22241030',\n",
              " '22241029',\n",
              " '22241028',\n",
              " '22241027',\n",
              " '22241026',\n",
              " '22242001',\n",
              " '22242002',\n",
              " '22242003',\n",
              " '22242004',\n",
              " '22242005',\n",
              " '22242010',\n",
              " '22242009',\n",
              " '22242008',\n",
              " '22242007',\n",
              " '22242006',\n",
              " '22242011',\n",
              " '22242012',\n",
              " '22242013',\n",
              " '22242014',\n",
              " '22242015',\n",
              " '22242020',\n",
              " '22242019',\n",
              " '22242018',\n",
              " '22242017',\n",
              " '22242016',\n",
              " '22242021',\n",
              " '22242022',\n",
              " '22242023',\n",
              " '22242024',\n",
              " '22242025',\n",
              " '22242030',\n",
              " '22242029',\n",
              " '22242028',\n",
              " '22242027',\n",
              " '22242026']"
            ]
          },
          "execution_count": 8,
          "metadata": {},
          "output_type": "execute_result"
        }
      ],
      "source": [
        "ground_df = pd.read_csv(f\"{ground_dir}/\"'Ground_Notes_HUR_22_table.csv', usecols=(0,1)).astype(str)\n",
        "#ground_df= ground_df.astype(str)\n",
        "ground_list = []\n",
        "\n",
        "for value in ground_df[\"Global_ID\"]:\n",
        "    ground_list.append(value)\n",
        "\n",
        "ground_list"
      ]
    },
    {
      "cell_type": "code",
      "execution_count": 9,
      "metadata": {},
      "outputs": [
        {
          "name": "stdout",
          "output_type": "stream",
          "text": [
            "Data set has the same lenght to ground and aerial plot numbers\n",
            "132\n",
            "132\n"
          ]
        }
      ],
      "source": [
        "if len(ground_list) == len(plots):\n",
        "    print('Data set has the same lenght to ground and aerial plot numbers')\n",
        "    print(len(ground_list))\n",
        "    print(len(plots))\n",
        "\n",
        "else:\n",
        "    print('Data set do not merge with ground and aerial plot numbers')\n",
        "    print(len(ground_list))\n",
        "    print(len(plots))\n",
        "    \n",
        "\n",
        "# len(ground_list)\n",
        "# len(plots)"
      ]
    },
    {
      "cell_type": "code",
      "execution_count": 10,
      "metadata": {
        "id": "dVvANbvLyQVO"
      },
      "outputs": [
        {
          "data": {
            "application/vnd.jupyter.widget-view+json": {
              "model_id": "857dbb2cf25c4faba4f8405716920676",
              "version_major": 2,
              "version_minor": 0
            },
            "text/plain": [
              "  0%|          | 0/10 [00:00<?, ?it/s]"
            ]
          },
          "metadata": {},
          "output_type": "display_data"
        },
        {
          "name": "stdout",
          "output_type": "stream",
          "text": [
            "07_20_2022_HURON_RGB.tif\n"
          ]
        },
        {
          "data": {
            "application/vnd.jupyter.widget-view+json": {
              "model_id": "b0b957b782dd4a419e959a7d29402a84",
              "version_major": 2,
              "version_minor": 0
            },
            "text/plain": [
              "  0%|          | 0/132 [00:00<?, ?it/s]"
            ]
          },
          "metadata": {},
          "output_type": "display_data"
        },
        {
          "name": "stdout",
          "output_type": "stream",
          "text": [
            "08_18_2022_HURON_RGB.tif\n"
          ]
        },
        {
          "data": {
            "application/vnd.jupyter.widget-view+json": {
              "model_id": "e783c72a77944222982b4f72c76bdd4e",
              "version_major": 2,
              "version_minor": 0
            },
            "text/plain": [
              "  0%|          | 0/132 [00:00<?, ?it/s]"
            ]
          },
          "metadata": {},
          "output_type": "display_data"
        },
        {
          "name": "stdout",
          "output_type": "stream",
          "text": [
            "08_20_2022_HURON_RGB.tif\n"
          ]
        },
        {
          "data": {
            "application/vnd.jupyter.widget-view+json": {
              "model_id": "a6db6b67a5d14b108d5ab53ba85cea90",
              "version_major": 2,
              "version_minor": 0
            },
            "text/plain": [
              "  0%|          | 0/132 [00:00<?, ?it/s]"
            ]
          },
          "metadata": {},
          "output_type": "display_data"
        },
        {
          "name": "stdout",
          "output_type": "stream",
          "text": [
            "08_23_2022_HURON_RGB.tif\n"
          ]
        },
        {
          "data": {
            "application/vnd.jupyter.widget-view+json": {
              "model_id": "9b7660906fb149a7ba676963a62e3418",
              "version_major": 2,
              "version_minor": 0
            },
            "text/plain": [
              "  0%|          | 0/132 [00:00<?, ?it/s]"
            ]
          },
          "metadata": {},
          "output_type": "display_data"
        },
        {
          "name": "stdout",
          "output_type": "stream",
          "text": [
            "08_26_2022_HURON_RGB.tif\n"
          ]
        },
        {
          "data": {
            "application/vnd.jupyter.widget-view+json": {
              "model_id": "dab3d18f901046c98acca9b6acf2550c",
              "version_major": 2,
              "version_minor": 0
            },
            "text/plain": [
              "  0%|          | 0/132 [00:00<?, ?it/s]"
            ]
          },
          "metadata": {},
          "output_type": "display_data"
        },
        {
          "name": "stdout",
          "output_type": "stream",
          "text": [
            "08_30_2022_HURON_RGB.tif\n"
          ]
        },
        {
          "data": {
            "application/vnd.jupyter.widget-view+json": {
              "model_id": "4ec85c389b06427ca3a06de6890a03c9",
              "version_major": 2,
              "version_minor": 0
            },
            "text/plain": [
              "  0%|          | 0/132 [00:00<?, ?it/s]"
            ]
          },
          "metadata": {},
          "output_type": "display_data"
        },
        {
          "name": "stdout",
          "output_type": "stream",
          "text": [
            "09_02_2022_HURON_RGB.tif\n"
          ]
        },
        {
          "data": {
            "application/vnd.jupyter.widget-view+json": {
              "model_id": "a202d721452149eb9d85c99dc36bff90",
              "version_major": 2,
              "version_minor": 0
            },
            "text/plain": [
              "  0%|          | 0/132 [00:00<?, ?it/s]"
            ]
          },
          "metadata": {},
          "output_type": "display_data"
        },
        {
          "name": "stdout",
          "output_type": "stream",
          "text": [
            "09_05_2022_HURON_RGB.tif\n"
          ]
        },
        {
          "data": {
            "application/vnd.jupyter.widget-view+json": {
              "model_id": "d2f62f6be8e546e189db7695796250fa",
              "version_major": 2,
              "version_minor": 0
            },
            "text/plain": [
              "  0%|          | 0/132 [00:00<?, ?it/s]"
            ]
          },
          "metadata": {},
          "output_type": "display_data"
        },
        {
          "name": "stdout",
          "output_type": "stream",
          "text": [
            "09_08_2022_HURON_RGB.tif\n"
          ]
        },
        {
          "data": {
            "application/vnd.jupyter.widget-view+json": {
              "model_id": "6be960ca10b3441faa743779da8f8681",
              "version_major": 2,
              "version_minor": 0
            },
            "text/plain": [
              "  0%|          | 0/132 [00:00<?, ?it/s]"
            ]
          },
          "metadata": {},
          "output_type": "display_data"
        },
        {
          "name": "stdout",
          "output_type": "stream",
          "text": [
            "09_13_2022_HURON_RGB.tif\n"
          ]
        },
        {
          "data": {
            "application/vnd.jupyter.widget-view+json": {
              "model_id": "7bedca3063d043feac4c2cf41b14d0b4",
              "version_major": 2,
              "version_minor": 0
            },
            "text/plain": [
              "  0%|          | 0/132 [00:00<?, ?it/s]"
            ]
          },
          "metadata": {},
          "output_type": "display_data"
        }
      ],
      "source": [
        "for tiffile in tqdm(img_list_names):\n",
        "    print(tiffile)\n",
        "\n",
        "    ts = tiffile[0:10]\n",
        "    ts = ts.replace('_', '.')\n",
        "    fmt = '%m.%d.%Y'\n",
        "    dt = datetime.datetime.strptime(ts, fmt)\n",
        "    tt = dt.timetuple()\n",
        "    tt = tt.tm_yday\n",
        "    pl = planting_date\n",
        "    dt2 = datetime.datetime.strptime(pl, fmt)\n",
        "    tt2 = dt2.timetuple()\n",
        "    tt2 = tt2.tm_yday\n",
        "    DOY = str(tt-tt2).zfill(3)\n",
        "    \n",
        "    noPlot_list = []\n",
        "    # Plot_ID_list = []\n",
        "    with fiona.open(f'{shp_dir}/'f'{shp_file}', \"r\") as shapefile:\n",
        "    \n",
        "        for feature in tqdm(shapefile):\n",
        "            \n",
        "            Plot_ID = feature[\"properties\"][plot_num_field_name]\n",
        "            Plot_ID = Plot_ID.replace('_', '')\n",
        "            # [k for k in ground_list if Plot_ID in k]  \n",
        "                      \n",
        "            if Plot_ID in ground_list:\n",
        "                shape = [feature[\"geometry\"]]\n",
        "                # Plot_ID_list.append(Plot_ID)\n",
        "                        \n",
        "            # Change the current working directory\n",
        "                os.chdir(img_dir)\n",
        "                \n",
        "                with rasterio.open(tiffile, \"r\") as ras:\n",
        "                    out_image, out_transform = mask(ras, shape, crop=True, nodata=0)\n",
        "                    out_meta = ras.meta\n",
        "                    \n",
        "                    out_image = ma.masked_where(out_image == 0, out_image)\n",
        "                    out_image = ma.filled(out_image.astype(float), np.nan)\n",
        "                    \n",
        "                # Change the current working directory\n",
        "                    os.chdir(f'{plot_dir}')\n",
        "\n",
        "                    new_img_name = trial_name + '_' + Plot_ID + '_' +  DOY + '.png'\n",
        "                    \n",
        "                    out_meta.update({\"driver\": \"PNG\",\n",
        "                    \"height\": height,\n",
        "                    \"width\": width,\n",
        "                    \"transform\": out_transform})\n",
        "                    \n",
        "                    with rasterio.open(new_img_name, \"w\", **out_meta) as dest:\n",
        "                        dest.write(out_image)\n",
        "                        #print(new_img_name) \n",
        "\n",
        "            else:\n",
        "                noPlot_list.append(Plot_ID)\n",
        "                pass  "
      ]
    },
    {
      "cell_type": "code",
      "execution_count": 23,
      "metadata": {},
      "outputs": [
        {
          "data": {
            "text/html": [
              "<div>\n",
              "<style scoped>\n",
              "    .dataframe tbody tr th:only-of-type {\n",
              "        vertical-align: middle;\n",
              "    }\n",
              "\n",
              "    .dataframe tbody tr th {\n",
              "        vertical-align: top;\n",
              "    }\n",
              "\n",
              "    .dataframe thead th {\n",
              "        text-align: right;\n",
              "    }\n",
              "</style>\n",
              "<table border=\"1\" class=\"dataframe\">\n",
              "  <thead>\n",
              "    <tr style=\"text-align: right;\">\n",
              "      <th></th>\n",
              "      <th>Plots</th>\n",
              "    </tr>\n",
              "  </thead>\n",
              "  <tbody>\n",
              "  </tbody>\n",
              "</table>\n",
              "</div>"
            ],
            "text/plain": [
              "Empty DataFrame\n",
              "Columns: [Plots]\n",
              "Index: []"
            ]
          },
          "execution_count": 23,
          "metadata": {},
          "output_type": "execute_result"
        }
      ],
      "source": [
        "noPlot_ID_list = pd.DataFrame(noPlot_list, columns=['Plots'])\n",
        "noPlot_ID_list\n",
        "#noPlot_ID_list.to_csv('C:\\\\Users\\\\leoag\\\\Michigan State University\\\\MSU Dry Bean Breeding Lab - General\\\\UAS_Beans\\\\2020\\\\SVREC_Mat\\\\f._codes\\\\noPlot.csv')"
      ]
    },
    {
      "cell_type": "code",
      "execution_count": 24,
      "metadata": {
        "id": "tCOzLX5ryQKI"
      },
      "outputs": [],
      "source": [
        "#ep.plot_rgb(out_image, rgb=[0, 1, 2], title=\"Red Green Blue\", stretch=True)"
      ]
    },
    {
      "cell_type": "code",
      "execution_count": 25,
      "metadata": {
        "id": "Zc9z8yBR5g8w"
      },
      "outputs": [
        {
          "data": {
            "image/png": "[encoded data removed]",
            "text/plain": [
              "<Figure size 432x288 with 1 Axes>"
            ]
          },
          "metadata": {
            "needs_background": "light"
          },
          "output_type": "display_data"
        }
      ],
      "source": [
        "#plotting\n",
        "from matplotlib import pyplot\n",
        "with rasterio.open(new_img_name) as src:\n",
        "    pyplot.imshow(src.read(1), cmap='pink')\n",
        "    pyplot.show()"
      ]
    }
  ],
  "metadata": {
    "accelerator": "GPU",
    "colab": {
      "machine_shape": "hm",
      "name": "Beans_Clip_Plots_v2.ipynb",
      "provenance": []
    },
    "gpuClass": "standard",
    "kernelspec": {
      "display_name": "Python 3.8.12 ('pheno1')",
      "language": "python",
      "name": "python3"
    },
    "language_info": {
      "codemirror_mode": {
        "name": "ipython",
        "version": 3
      },
      "file_extension": ".py",
      "mimetype": "text/x-python",
      "name": "python",
      "nbconvert_exporter": "python",
      "pygments_lexer": "ipython3",
      "version": "3.8.12"
    },
    "vscode": {
      "interpreter": {
        "hash": "0de243c04fce33973b44ca1098946231a99e94861f01807479347a23bfc17024"
      }
    }
  },
  "nbformat": 4,
  "nbformat_minor": 0
}
